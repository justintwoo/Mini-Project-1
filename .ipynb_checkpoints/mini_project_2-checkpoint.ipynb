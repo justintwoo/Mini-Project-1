{
 "cells": [
  {
   "cell_type": "code",
   "execution_count": 143,
   "metadata": {},
   "outputs": [],
   "source": [
    "import pandas as pd\n",
    "import matplotlib.pyplot as plt\n",
    "import scipy.stats as st\n",
    "import numpy as np\n",
    "import statsmodels.api as sm\n",
    "import seaborn as sns\n",
    "from sklearn import preprocessing\n",
    "from sklearn.model_selection import train_test_split\n",
    "from sklearn.preprocessing import StandardScaler\n",
    "\n",
    "from sklearn.linear_model import Ridge\n",
    "from sklearn.linear_model import Lasso\n",
    "from sklearn.model_selection import GridSearchCV\n",
    "from sklearn.neighbors import KNeighborsRegressor\n",
    "from sklearn.metrics import mean_squared_error, r2_score\n",
    "from sklearn.model_selection import cross_val_predict\n",
    "from sklearn.preprocessing import StandardScaler\n",
    "from sklearn.pipeline import make_pipeline\n",
    "from sklearn.preprocessing import PolynomialFeatures\n",
    "from sklearn.linear_model import LinearRegression\n",
    "from sklearn.metrics import r2_score"
   ]
  },
  {
   "cell_type": "code",
   "execution_count": 144,
   "metadata": {},
   "outputs": [
    {
     "data": {
      "text/html": [
       "<div>\n",
       "<style scoped>\n",
       "    .dataframe tbody tr th:only-of-type {\n",
       "        vertical-align: middle;\n",
       "    }\n",
       "\n",
       "    .dataframe tbody tr th {\n",
       "        vertical-align: top;\n",
       "    }\n",
       "\n",
       "    .dataframe thead th {\n",
       "        text-align: right;\n",
       "    }\n",
       "</style>\n",
       "<table border=\"1\" class=\"dataframe\">\n",
       "  <thead>\n",
       "    <tr style=\"text-align: right;\">\n",
       "      <th></th>\n",
       "      <th>cid</th>\n",
       "      <th>pre_order_perk</th>\n",
       "      <th>amt_goal</th>\n",
       "      <th>frac_raised</th>\n",
       "      <th>tech_campaign</th>\n",
       "      <th>sbiz_campaign</th>\n",
       "      <th>fixed_fund</th>\n",
       "      <th>state</th>\n",
       "      <th>year_start</th>\n",
       "      <th>iot_plus</th>\n",
       "      <th>delivery</th>\n",
       "    </tr>\n",
       "  </thead>\n",
       "  <tbody>\n",
       "    <tr>\n",
       "      <th>0</th>\n",
       "      <td>71762</td>\n",
       "      <td>0</td>\n",
       "      <td>2500</td>\n",
       "      <td>0.040000</td>\n",
       "      <td>0</td>\n",
       "      <td>1</td>\n",
       "      <td>0.0</td>\n",
       "      <td>Kentucky</td>\n",
       "      <td>2011</td>\n",
       "      <td>0.0</td>\n",
       "      <td>NaN</td>\n",
       "    </tr>\n",
       "    <tr>\n",
       "      <th>1</th>\n",
       "      <td>72367</td>\n",
       "      <td>0</td>\n",
       "      <td>1500</td>\n",
       "      <td>1.733333</td>\n",
       "      <td>0</td>\n",
       "      <td>0</td>\n",
       "      <td>0.0</td>\n",
       "      <td>Indiana</td>\n",
       "      <td>2012</td>\n",
       "      <td>0.0</td>\n",
       "      <td>NaN</td>\n",
       "    </tr>\n",
       "    <tr>\n",
       "      <th>2</th>\n",
       "      <td>73646</td>\n",
       "      <td>1</td>\n",
       "      <td>100000</td>\n",
       "      <td>1.007510</td>\n",
       "      <td>1</td>\n",
       "      <td>0</td>\n",
       "      <td>0.0</td>\n",
       "      <td>Louisiana</td>\n",
       "      <td>2012</td>\n",
       "      <td>0.0</td>\n",
       "      <td>NaN</td>\n",
       "    </tr>\n",
       "    <tr>\n",
       "      <th>3</th>\n",
       "      <td>74867</td>\n",
       "      <td>1</td>\n",
       "      <td>7000</td>\n",
       "      <td>0.000000</td>\n",
       "      <td>0</td>\n",
       "      <td>1</td>\n",
       "      <td>0.0</td>\n",
       "      <td>North Carolina</td>\n",
       "      <td>2012</td>\n",
       "      <td>0.0</td>\n",
       "      <td>NaN</td>\n",
       "    </tr>\n",
       "    <tr>\n",
       "      <th>4</th>\n",
       "      <td>82829</td>\n",
       "      <td>1</td>\n",
       "      <td>2000</td>\n",
       "      <td>1.000000</td>\n",
       "      <td>0</td>\n",
       "      <td>1</td>\n",
       "      <td>0.0</td>\n",
       "      <td>Pennsylvania</td>\n",
       "      <td>2011</td>\n",
       "      <td>0.0</td>\n",
       "      <td>NaN</td>\n",
       "    </tr>\n",
       "    <tr>\n",
       "      <th>...</th>\n",
       "      <td>...</td>\n",
       "      <td>...</td>\n",
       "      <td>...</td>\n",
       "      <td>...</td>\n",
       "      <td>...</td>\n",
       "      <td>...</td>\n",
       "      <td>...</td>\n",
       "      <td>...</td>\n",
       "      <td>...</td>\n",
       "      <td>...</td>\n",
       "      <td>...</td>\n",
       "    </tr>\n",
       "    <tr>\n",
       "      <th>434</th>\n",
       "      <td>242139</td>\n",
       "      <td>1</td>\n",
       "      <td>100000</td>\n",
       "      <td>2.139170</td>\n",
       "      <td>1</td>\n",
       "      <td>0</td>\n",
       "      <td>1.0</td>\n",
       "      <td>California</td>\n",
       "      <td>2013</td>\n",
       "      <td>1.0</td>\n",
       "      <td>NaN</td>\n",
       "    </tr>\n",
       "    <tr>\n",
       "      <th>435</th>\n",
       "      <td>242139</td>\n",
       "      <td>1</td>\n",
       "      <td>100000</td>\n",
       "      <td>2.139170</td>\n",
       "      <td>1</td>\n",
       "      <td>0</td>\n",
       "      <td>1.0</td>\n",
       "      <td>California</td>\n",
       "      <td>2013</td>\n",
       "      <td>1.0</td>\n",
       "      <td>NaN</td>\n",
       "    </tr>\n",
       "    <tr>\n",
       "      <th>436</th>\n",
       "      <td>242139</td>\n",
       "      <td>1</td>\n",
       "      <td>100000</td>\n",
       "      <td>2.139170</td>\n",
       "      <td>1</td>\n",
       "      <td>0</td>\n",
       "      <td>1.0</td>\n",
       "      <td>California</td>\n",
       "      <td>2013</td>\n",
       "      <td>1.0</td>\n",
       "      <td>NaN</td>\n",
       "    </tr>\n",
       "    <tr>\n",
       "      <th>437</th>\n",
       "      <td>250311</td>\n",
       "      <td>1</td>\n",
       "      <td>5000</td>\n",
       "      <td>1.007000</td>\n",
       "      <td>0</td>\n",
       "      <td>1</td>\n",
       "      <td>0.0</td>\n",
       "      <td>Kentucky</td>\n",
       "      <td>2012</td>\n",
       "      <td>0.0</td>\n",
       "      <td>NaN</td>\n",
       "    </tr>\n",
       "    <tr>\n",
       "      <th>438</th>\n",
       "      <td>250311</td>\n",
       "      <td>1</td>\n",
       "      <td>5000</td>\n",
       "      <td>1.007000</td>\n",
       "      <td>0</td>\n",
       "      <td>1</td>\n",
       "      <td>0.0</td>\n",
       "      <td>Kentucky</td>\n",
       "      <td>2012</td>\n",
       "      <td>0.0</td>\n",
       "      <td>NaN</td>\n",
       "    </tr>\n",
       "  </tbody>\n",
       "</table>\n",
       "<p>439 rows × 11 columns</p>\n",
       "</div>"
      ],
      "text/plain": [
       "        cid  pre_order_perk  amt_goal  frac_raised  tech_campaign  \\\n",
       "0     71762               0      2500     0.040000              0   \n",
       "1     72367               0      1500     1.733333              0   \n",
       "2     73646               1    100000     1.007510              1   \n",
       "3     74867               1      7000     0.000000              0   \n",
       "4     82829               1      2000     1.000000              0   \n",
       "..      ...             ...       ...          ...            ...   \n",
       "434  242139               1    100000     2.139170              1   \n",
       "435  242139               1    100000     2.139170              1   \n",
       "436  242139               1    100000     2.139170              1   \n",
       "437  250311               1      5000     1.007000              0   \n",
       "438  250311               1      5000     1.007000              0   \n",
       "\n",
       "     sbiz_campaign  fixed_fund           state  year_start  iot_plus  delivery  \n",
       "0                1         0.0        Kentucky        2011       0.0       NaN  \n",
       "1                0         0.0         Indiana        2012       0.0       NaN  \n",
       "2                0         0.0       Louisiana        2012       0.0       NaN  \n",
       "3                1         0.0  North Carolina        2012       0.0       NaN  \n",
       "4                1         0.0    Pennsylvania        2011       0.0       NaN  \n",
       "..             ...         ...             ...         ...       ...       ...  \n",
       "434              0         1.0      California        2013       1.0       NaN  \n",
       "435              0         1.0      California        2013       1.0       NaN  \n",
       "436              0         1.0      California        2013       1.0       NaN  \n",
       "437              1         0.0        Kentucky        2012       0.0       NaN  \n",
       "438              1         0.0        Kentucky        2012       0.0       NaN  \n",
       "\n",
       "[439 rows x 11 columns]"
      ]
     },
     "execution_count": 144,
     "metadata": {},
     "output_type": "execute_result"
    }
   ],
   "source": [
    "# reading the excel into a DataFrame\n",
    "df_crowdfunding = pd.read_excel('Crowdfunding campaign.xlsx')\n",
    "df_crowdfunding"
   ]
  },
  {
   "cell_type": "code",
   "execution_count": 145,
   "metadata": {},
   "outputs": [
    {
     "data": {
      "text/html": [
       "<div>\n",
       "<style scoped>\n",
       "    .dataframe tbody tr th:only-of-type {\n",
       "        vertical-align: middle;\n",
       "    }\n",
       "\n",
       "    .dataframe tbody tr th {\n",
       "        vertical-align: top;\n",
       "    }\n",
       "\n",
       "    .dataframe thead th {\n",
       "        text-align: right;\n",
       "    }\n",
       "</style>\n",
       "<table border=\"1\" class=\"dataframe\">\n",
       "  <thead>\n",
       "    <tr style=\"text-align: right;\">\n",
       "      <th></th>\n",
       "      <th>cid</th>\n",
       "      <th>pre_order_perk</th>\n",
       "      <th>amt_goal</th>\n",
       "      <th>frac_raised</th>\n",
       "      <th>tech_campaign</th>\n",
       "      <th>sbiz_campaign</th>\n",
       "      <th>fixed_fund</th>\n",
       "      <th>year_start</th>\n",
       "      <th>iot_plus</th>\n",
       "      <th>delivery</th>\n",
       "    </tr>\n",
       "  </thead>\n",
       "  <tbody>\n",
       "    <tr>\n",
       "      <th>count</th>\n",
       "      <td>439.000000</td>\n",
       "      <td>439.000000</td>\n",
       "      <td>439.000000</td>\n",
       "      <td>439.000000</td>\n",
       "      <td>439.000000</td>\n",
       "      <td>439.000000</td>\n",
       "      <td>433.000000</td>\n",
       "      <td>439.000000</td>\n",
       "      <td>435.000000</td>\n",
       "      <td>150.000000</td>\n",
       "    </tr>\n",
       "    <tr>\n",
       "      <th>mean</th>\n",
       "      <td>168412.738041</td>\n",
       "      <td>0.612756</td>\n",
       "      <td>22841.232346</td>\n",
       "      <td>2.940869</td>\n",
       "      <td>0.530752</td>\n",
       "      <td>0.362187</td>\n",
       "      <td>0.200924</td>\n",
       "      <td>2012.740319</td>\n",
       "      <td>0.177011</td>\n",
       "      <td>0.800000</td>\n",
       "    </tr>\n",
       "    <tr>\n",
       "      <th>std</th>\n",
       "      <td>40862.842231</td>\n",
       "      <td>0.487676</td>\n",
       "      <td>31459.342081</td>\n",
       "      <td>5.751079</td>\n",
       "      <td>0.499623</td>\n",
       "      <td>0.481181</td>\n",
       "      <td>0.401155</td>\n",
       "      <td>0.506570</td>\n",
       "      <td>0.382118</td>\n",
       "      <td>0.375419</td>\n",
       "    </tr>\n",
       "    <tr>\n",
       "      <th>min</th>\n",
       "      <td>71762.000000</td>\n",
       "      <td>0.000000</td>\n",
       "      <td>500.000000</td>\n",
       "      <td>0.000000</td>\n",
       "      <td>0.000000</td>\n",
       "      <td>0.000000</td>\n",
       "      <td>0.000000</td>\n",
       "      <td>2011.000000</td>\n",
       "      <td>0.000000</td>\n",
       "      <td>0.000000</td>\n",
       "    </tr>\n",
       "    <tr>\n",
       "      <th>25%</th>\n",
       "      <td>142194.500000</td>\n",
       "      <td>0.000000</td>\n",
       "      <td>2000.000000</td>\n",
       "      <td>0.190100</td>\n",
       "      <td>0.000000</td>\n",
       "      <td>0.000000</td>\n",
       "      <td>0.000000</td>\n",
       "      <td>2013.000000</td>\n",
       "      <td>0.000000</td>\n",
       "      <td>1.000000</td>\n",
       "    </tr>\n",
       "    <tr>\n",
       "      <th>50%</th>\n",
       "      <td>163595.000000</td>\n",
       "      <td>1.000000</td>\n",
       "      <td>10000.000000</td>\n",
       "      <td>1.037100</td>\n",
       "      <td>1.000000</td>\n",
       "      <td>0.000000</td>\n",
       "      <td>0.000000</td>\n",
       "      <td>2013.000000</td>\n",
       "      <td>0.000000</td>\n",
       "      <td>1.000000</td>\n",
       "    </tr>\n",
       "    <tr>\n",
       "      <th>75%</th>\n",
       "      <td>200846.000000</td>\n",
       "      <td>1.000000</td>\n",
       "      <td>25000.000000</td>\n",
       "      <td>1.930000</td>\n",
       "      <td>1.000000</td>\n",
       "      <td>1.000000</td>\n",
       "      <td>0.000000</td>\n",
       "      <td>2013.000000</td>\n",
       "      <td>0.000000</td>\n",
       "      <td>1.000000</td>\n",
       "    </tr>\n",
       "    <tr>\n",
       "      <th>max</th>\n",
       "      <td>256198.000000</td>\n",
       "      <td>1.000000</td>\n",
       "      <td>200000.000000</td>\n",
       "      <td>25.918080</td>\n",
       "      <td>1.000000</td>\n",
       "      <td>1.000000</td>\n",
       "      <td>1.000000</td>\n",
       "      <td>2013.000000</td>\n",
       "      <td>1.000000</td>\n",
       "      <td>1.000000</td>\n",
       "    </tr>\n",
       "  </tbody>\n",
       "</table>\n",
       "</div>"
      ],
      "text/plain": [
       "                 cid  pre_order_perk       amt_goal  frac_raised  \\\n",
       "count     439.000000      439.000000     439.000000   439.000000   \n",
       "mean   168412.738041        0.612756   22841.232346     2.940869   \n",
       "std     40862.842231        0.487676   31459.342081     5.751079   \n",
       "min     71762.000000        0.000000     500.000000     0.000000   \n",
       "25%    142194.500000        0.000000    2000.000000     0.190100   \n",
       "50%    163595.000000        1.000000   10000.000000     1.037100   \n",
       "75%    200846.000000        1.000000   25000.000000     1.930000   \n",
       "max    256198.000000        1.000000  200000.000000    25.918080   \n",
       "\n",
       "       tech_campaign  sbiz_campaign  fixed_fund   year_start    iot_plus  \\\n",
       "count     439.000000     439.000000  433.000000   439.000000  435.000000   \n",
       "mean        0.530752       0.362187    0.200924  2012.740319    0.177011   \n",
       "std         0.499623       0.481181    0.401155     0.506570    0.382118   \n",
       "min         0.000000       0.000000    0.000000  2011.000000    0.000000   \n",
       "25%         0.000000       0.000000    0.000000  2013.000000    0.000000   \n",
       "50%         1.000000       0.000000    0.000000  2013.000000    0.000000   \n",
       "75%         1.000000       1.000000    0.000000  2013.000000    0.000000   \n",
       "max         1.000000       1.000000    1.000000  2013.000000    1.000000   \n",
       "\n",
       "         delivery  \n",
       "count  150.000000  \n",
       "mean     0.800000  \n",
       "std      0.375419  \n",
       "min      0.000000  \n",
       "25%      1.000000  \n",
       "50%      1.000000  \n",
       "75%      1.000000  \n",
       "max      1.000000  "
      ]
     },
     "execution_count": 145,
     "metadata": {},
     "output_type": "execute_result"
    }
   ],
   "source": [
    "# analysing the data\n",
    "df_crowdfunding.describe()"
   ]
  },
  {
   "cell_type": "code",
   "execution_count": 146,
   "metadata": {
    "scrolled": false
   },
   "outputs": [
    {
     "data": {
      "text/html": [
       "<div>\n",
       "<style scoped>\n",
       "    .dataframe tbody tr th:only-of-type {\n",
       "        vertical-align: middle;\n",
       "    }\n",
       "\n",
       "    .dataframe tbody tr th {\n",
       "        vertical-align: top;\n",
       "    }\n",
       "\n",
       "    .dataframe thead th {\n",
       "        text-align: right;\n",
       "    }\n",
       "</style>\n",
       "<table border=\"1\" class=\"dataframe\">\n",
       "  <thead>\n",
       "    <tr style=\"text-align: right;\">\n",
       "      <th></th>\n",
       "      <th>pre_order_perk</th>\n",
       "      <th>amt_goal</th>\n",
       "      <th>frac_raised</th>\n",
       "      <th>tech_campaign</th>\n",
       "      <th>sbiz_campaign</th>\n",
       "      <th>fixed_fund</th>\n",
       "      <th>state</th>\n",
       "      <th>year_start</th>\n",
       "      <th>iot_plus</th>\n",
       "      <th>delivery</th>\n",
       "    </tr>\n",
       "  </thead>\n",
       "  <tbody>\n",
       "    <tr>\n",
       "      <th>0</th>\n",
       "      <td>0</td>\n",
       "      <td>2500</td>\n",
       "      <td>0.040000</td>\n",
       "      <td>0</td>\n",
       "      <td>1</td>\n",
       "      <td>0.0</td>\n",
       "      <td>Kentucky</td>\n",
       "      <td>2011</td>\n",
       "      <td>0.0</td>\n",
       "      <td>NaN</td>\n",
       "    </tr>\n",
       "    <tr>\n",
       "      <th>1</th>\n",
       "      <td>0</td>\n",
       "      <td>1500</td>\n",
       "      <td>1.733333</td>\n",
       "      <td>0</td>\n",
       "      <td>0</td>\n",
       "      <td>0.0</td>\n",
       "      <td>Indiana</td>\n",
       "      <td>2012</td>\n",
       "      <td>0.0</td>\n",
       "      <td>NaN</td>\n",
       "    </tr>\n",
       "    <tr>\n",
       "      <th>2</th>\n",
       "      <td>1</td>\n",
       "      <td>100000</td>\n",
       "      <td>1.007510</td>\n",
       "      <td>1</td>\n",
       "      <td>0</td>\n",
       "      <td>0.0</td>\n",
       "      <td>Louisiana</td>\n",
       "      <td>2012</td>\n",
       "      <td>0.0</td>\n",
       "      <td>NaN</td>\n",
       "    </tr>\n",
       "    <tr>\n",
       "      <th>3</th>\n",
       "      <td>1</td>\n",
       "      <td>7000</td>\n",
       "      <td>0.000000</td>\n",
       "      <td>0</td>\n",
       "      <td>1</td>\n",
       "      <td>0.0</td>\n",
       "      <td>North Carolina</td>\n",
       "      <td>2012</td>\n",
       "      <td>0.0</td>\n",
       "      <td>NaN</td>\n",
       "    </tr>\n",
       "    <tr>\n",
       "      <th>4</th>\n",
       "      <td>1</td>\n",
       "      <td>2000</td>\n",
       "      <td>1.000000</td>\n",
       "      <td>0</td>\n",
       "      <td>1</td>\n",
       "      <td>0.0</td>\n",
       "      <td>Pennsylvania</td>\n",
       "      <td>2011</td>\n",
       "      <td>0.0</td>\n",
       "      <td>NaN</td>\n",
       "    </tr>\n",
       "    <tr>\n",
       "      <th>...</th>\n",
       "      <td>...</td>\n",
       "      <td>...</td>\n",
       "      <td>...</td>\n",
       "      <td>...</td>\n",
       "      <td>...</td>\n",
       "      <td>...</td>\n",
       "      <td>...</td>\n",
       "      <td>...</td>\n",
       "      <td>...</td>\n",
       "      <td>...</td>\n",
       "    </tr>\n",
       "    <tr>\n",
       "      <th>219</th>\n",
       "      <td>0</td>\n",
       "      <td>1500</td>\n",
       "      <td>1.088000</td>\n",
       "      <td>0</td>\n",
       "      <td>1</td>\n",
       "      <td>0.0</td>\n",
       "      <td>Illinois</td>\n",
       "      <td>2012</td>\n",
       "      <td>0.0</td>\n",
       "      <td>NaN</td>\n",
       "    </tr>\n",
       "    <tr>\n",
       "      <th>220</th>\n",
       "      <td>0</td>\n",
       "      <td>10000</td>\n",
       "      <td>1.005000</td>\n",
       "      <td>0</td>\n",
       "      <td>1</td>\n",
       "      <td>0.0</td>\n",
       "      <td>New York</td>\n",
       "      <td>2012</td>\n",
       "      <td>0.0</td>\n",
       "      <td>NaN</td>\n",
       "    </tr>\n",
       "    <tr>\n",
       "      <th>221</th>\n",
       "      <td>1</td>\n",
       "      <td>5000</td>\n",
       "      <td>1.007000</td>\n",
       "      <td>0</td>\n",
       "      <td>1</td>\n",
       "      <td>0.0</td>\n",
       "      <td>Kentucky</td>\n",
       "      <td>2012</td>\n",
       "      <td>0.0</td>\n",
       "      <td>NaN</td>\n",
       "    </tr>\n",
       "    <tr>\n",
       "      <th>222</th>\n",
       "      <td>1</td>\n",
       "      <td>2000</td>\n",
       "      <td>8.188500</td>\n",
       "      <td>1</td>\n",
       "      <td>0</td>\n",
       "      <td>0.0</td>\n",
       "      <td>Georgia</td>\n",
       "      <td>2013</td>\n",
       "      <td>0.0</td>\n",
       "      <td>1.0</td>\n",
       "    </tr>\n",
       "    <tr>\n",
       "      <th>223</th>\n",
       "      <td>0</td>\n",
       "      <td>1000</td>\n",
       "      <td>0.000000</td>\n",
       "      <td>0</td>\n",
       "      <td>1</td>\n",
       "      <td>0.0</td>\n",
       "      <td>Maine</td>\n",
       "      <td>2013</td>\n",
       "      <td>0.0</td>\n",
       "      <td>NaN</td>\n",
       "    </tr>\n",
       "  </tbody>\n",
       "</table>\n",
       "<p>224 rows × 10 columns</p>\n",
       "</div>"
      ],
      "text/plain": [
       "     pre_order_perk  amt_goal  frac_raised  tech_campaign  sbiz_campaign  \\\n",
       "0                 0      2500     0.040000              0              1   \n",
       "1                 0      1500     1.733333              0              0   \n",
       "2                 1    100000     1.007510              1              0   \n",
       "3                 1      7000     0.000000              0              1   \n",
       "4                 1      2000     1.000000              0              1   \n",
       "..              ...       ...          ...            ...            ...   \n",
       "219               0      1500     1.088000              0              1   \n",
       "220               0     10000     1.005000              0              1   \n",
       "221               1      5000     1.007000              0              1   \n",
       "222               1      2000     8.188500              1              0   \n",
       "223               0      1000     0.000000              0              1   \n",
       "\n",
       "     fixed_fund           state  year_start  iot_plus  delivery  \n",
       "0           0.0        Kentucky        2011       0.0       NaN  \n",
       "1           0.0         Indiana        2012       0.0       NaN  \n",
       "2           0.0       Louisiana        2012       0.0       NaN  \n",
       "3           0.0  North Carolina        2012       0.0       NaN  \n",
       "4           0.0    Pennsylvania        2011       0.0       NaN  \n",
       "..          ...             ...         ...       ...       ...  \n",
       "219         0.0        Illinois        2012       0.0       NaN  \n",
       "220         0.0        New York        2012       0.0       NaN  \n",
       "221         0.0        Kentucky        2012       0.0       NaN  \n",
       "222         0.0         Georgia        2013       0.0       1.0  \n",
       "223         0.0           Maine        2013       0.0       NaN  \n",
       "\n",
       "[224 rows x 10 columns]"
      ]
     },
     "execution_count": 146,
     "metadata": {},
     "output_type": "execute_result"
    }
   ],
   "source": [
    "# removing duplicates\n",
    "df_crowdfunding.drop_duplicates(subset='cid', keep = 'first', inplace = True)\n",
    "df_crowdfunding.drop(columns = [\"cid\"], inplace = True)\n",
    "df_crowdfunding"
   ]
  },
  {
   "cell_type": "code",
   "execution_count": 147,
   "metadata": {},
   "outputs": [
    {
     "data": {
      "text/html": [
       "<div>\n",
       "<style scoped>\n",
       "    .dataframe tbody tr th:only-of-type {\n",
       "        vertical-align: middle;\n",
       "    }\n",
       "\n",
       "    .dataframe tbody tr th {\n",
       "        vertical-align: top;\n",
       "    }\n",
       "\n",
       "    .dataframe thead th {\n",
       "        text-align: right;\n",
       "    }\n",
       "</style>\n",
       "<table border=\"1\" class=\"dataframe\">\n",
       "  <thead>\n",
       "    <tr style=\"text-align: right;\">\n",
       "      <th></th>\n",
       "      <th>pre_order_perk</th>\n",
       "      <th>amt_goal</th>\n",
       "      <th>frac_raised</th>\n",
       "      <th>tech_campaign</th>\n",
       "      <th>sbiz_campaign</th>\n",
       "      <th>fixed_fund</th>\n",
       "      <th>year_start</th>\n",
       "      <th>iot_plus</th>\n",
       "      <th>delivery</th>\n",
       "    </tr>\n",
       "  </thead>\n",
       "  <tbody>\n",
       "    <tr>\n",
       "      <th>count</th>\n",
       "      <td>224.000000</td>\n",
       "      <td>224.000000</td>\n",
       "      <td>224.000000</td>\n",
       "      <td>224.000000</td>\n",
       "      <td>224.000000</td>\n",
       "      <td>219.000000</td>\n",
       "      <td>224.000000</td>\n",
       "      <td>221.000000</td>\n",
       "      <td>53.000000</td>\n",
       "    </tr>\n",
       "    <tr>\n",
       "      <th>mean</th>\n",
       "      <td>0.491071</td>\n",
       "      <td>17412.232143</td>\n",
       "      <td>1.749669</td>\n",
       "      <td>0.459821</td>\n",
       "      <td>0.415179</td>\n",
       "      <td>0.214612</td>\n",
       "      <td>2012.651786</td>\n",
       "      <td>0.117647</td>\n",
       "      <td>0.801887</td>\n",
       "    </tr>\n",
       "    <tr>\n",
       "      <th>std</th>\n",
       "      <td>0.501040</td>\n",
       "      <td>31524.139163</td>\n",
       "      <td>3.644054</td>\n",
       "      <td>0.499499</td>\n",
       "      <td>0.493856</td>\n",
       "      <td>0.411493</td>\n",
       "      <td>0.563618</td>\n",
       "      <td>0.322921</td>\n",
       "      <td>0.384053</td>\n",
       "    </tr>\n",
       "    <tr>\n",
       "      <th>min</th>\n",
       "      <td>0.000000</td>\n",
       "      <td>500.000000</td>\n",
       "      <td>0.000000</td>\n",
       "      <td>0.000000</td>\n",
       "      <td>0.000000</td>\n",
       "      <td>0.000000</td>\n",
       "      <td>2011.000000</td>\n",
       "      <td>0.000000</td>\n",
       "      <td>0.000000</td>\n",
       "    </tr>\n",
       "    <tr>\n",
       "      <th>25%</th>\n",
       "      <td>0.000000</td>\n",
       "      <td>1262.500000</td>\n",
       "      <td>0.005571</td>\n",
       "      <td>0.000000</td>\n",
       "      <td>0.000000</td>\n",
       "      <td>0.000000</td>\n",
       "      <td>2012.000000</td>\n",
       "      <td>0.000000</td>\n",
       "      <td>1.000000</td>\n",
       "    </tr>\n",
       "    <tr>\n",
       "      <th>50%</th>\n",
       "      <td>0.000000</td>\n",
       "      <td>5000.000000</td>\n",
       "      <td>1.014500</td>\n",
       "      <td>0.000000</td>\n",
       "      <td>0.000000</td>\n",
       "      <td>0.000000</td>\n",
       "      <td>2013.000000</td>\n",
       "      <td>0.000000</td>\n",
       "      <td>1.000000</td>\n",
       "    </tr>\n",
       "    <tr>\n",
       "      <th>75%</th>\n",
       "      <td>1.000000</td>\n",
       "      <td>15000.000000</td>\n",
       "      <td>1.750000</td>\n",
       "      <td>1.000000</td>\n",
       "      <td>1.000000</td>\n",
       "      <td>0.000000</td>\n",
       "      <td>2013.000000</td>\n",
       "      <td>0.000000</td>\n",
       "      <td>1.000000</td>\n",
       "    </tr>\n",
       "    <tr>\n",
       "      <th>max</th>\n",
       "      <td>1.000000</td>\n",
       "      <td>200000.000000</td>\n",
       "      <td>25.918080</td>\n",
       "      <td>1.000000</td>\n",
       "      <td>1.000000</td>\n",
       "      <td>1.000000</td>\n",
       "      <td>2013.000000</td>\n",
       "      <td>1.000000</td>\n",
       "      <td>1.000000</td>\n",
       "    </tr>\n",
       "  </tbody>\n",
       "</table>\n",
       "</div>"
      ],
      "text/plain": [
       "       pre_order_perk       amt_goal  frac_raised  tech_campaign  \\\n",
       "count      224.000000     224.000000   224.000000     224.000000   \n",
       "mean         0.491071   17412.232143     1.749669       0.459821   \n",
       "std          0.501040   31524.139163     3.644054       0.499499   \n",
       "min          0.000000     500.000000     0.000000       0.000000   \n",
       "25%          0.000000    1262.500000     0.005571       0.000000   \n",
       "50%          0.000000    5000.000000     1.014500       0.000000   \n",
       "75%          1.000000   15000.000000     1.750000       1.000000   \n",
       "max          1.000000  200000.000000    25.918080       1.000000   \n",
       "\n",
       "       sbiz_campaign  fixed_fund   year_start    iot_plus   delivery  \n",
       "count     224.000000  219.000000   224.000000  221.000000  53.000000  \n",
       "mean        0.415179    0.214612  2012.651786    0.117647   0.801887  \n",
       "std         0.493856    0.411493     0.563618    0.322921   0.384053  \n",
       "min         0.000000    0.000000  2011.000000    0.000000   0.000000  \n",
       "25%         0.000000    0.000000  2012.000000    0.000000   1.000000  \n",
       "50%         0.000000    0.000000  2013.000000    0.000000   1.000000  \n",
       "75%         1.000000    0.000000  2013.000000    0.000000   1.000000  \n",
       "max         1.000000    1.000000  2013.000000    1.000000   1.000000  "
      ]
     },
     "execution_count": 147,
     "metadata": {},
     "output_type": "execute_result"
    }
   ],
   "source": [
    "df_crowdfunding.describe()"
   ]
  },
  {
   "cell_type": "code",
   "execution_count": 148,
   "metadata": {},
   "outputs": [
    {
     "data": {
      "image/png": "[encoded data removed]",
      "text/plain": [
       "<Figure size 1440x1440 with 9 Axes>"
      ]
     },
     "metadata": {
      "needs_background": "light"
     },
     "output_type": "display_data"
    }
   ],
   "source": [
    "# Histograms\n",
    "df_crowdfunding.hist(figsize=(20,20), bins=50, xlabelsize=8, ylabelsize=8)\n",
    "plt.show()"
   ]
  },
  {
   "cell_type": "code",
   "execution_count": 149,
   "metadata": {},
   "outputs": [
    {
     "data": {
      "text/plain": [
       "<AxesSubplot:>"
      ]
     },
     "execution_count": 149,
     "metadata": {},
     "output_type": "execute_result"
    },
    {
     "data": {
      "image/png": "[encoded data removed]",
      "text/plain": [
       "<Figure size 2160x1440 with 2 Axes>"
      ]
     },
     "metadata": {
      "needs_background": "light"
     },
     "output_type": "display_data"
    }
   ],
   "source": [
    "# Heat Map of the data\n",
    "plt.figure(figsize = (30,20))\n",
    "sns.heatmap(df_crowdfunding.corr(), annot = True)"
   ]
  },
  {
   "cell_type": "code",
   "execution_count": 150,
   "metadata": {},
   "outputs": [],
   "source": [
    "target = df_crowdfunding.frac_raised\n",
    "features = df_crowdfunding.drop(columns = [\"frac_raised\",'amt_goal','delivery','state'])"
   ]
  },
  {
   "cell_type": "code",
   "execution_count": 151,
   "metadata": {},
   "outputs": [
    {
     "data": {
      "text/plain": [
       "0      0.040000\n",
       "1      1.733333\n",
       "2      1.007510\n",
       "3      0.000000\n",
       "4      1.000000\n",
       "         ...   \n",
       "219    1.088000\n",
       "220    1.005000\n",
       "221    1.007000\n",
       "222    8.188500\n",
       "223    0.000000\n",
       "Name: frac_raised, Length: 224, dtype: float64"
      ]
     },
     "execution_count": 151,
     "metadata": {},
     "output_type": "execute_result"
    }
   ],
   "source": [
    "target"
   ]
  },
  {
   "cell_type": "code",
   "execution_count": 152,
   "metadata": {},
   "outputs": [
    {
     "data": {
      "text/html": [
       "<div>\n",
       "<style scoped>\n",
       "    .dataframe tbody tr th:only-of-type {\n",
       "        vertical-align: middle;\n",
       "    }\n",
       "\n",
       "    .dataframe tbody tr th {\n",
       "        vertical-align: top;\n",
       "    }\n",
       "\n",
       "    .dataframe thead th {\n",
       "        text-align: right;\n",
       "    }\n",
       "</style>\n",
       "<table border=\"1\" class=\"dataframe\">\n",
       "  <thead>\n",
       "    <tr style=\"text-align: right;\">\n",
       "      <th></th>\n",
       "      <th>pre_order_perk</th>\n",
       "      <th>tech_campaign</th>\n",
       "      <th>sbiz_campaign</th>\n",
       "      <th>fixed_fund</th>\n",
       "      <th>year_start</th>\n",
       "      <th>iot_plus</th>\n",
       "    </tr>\n",
       "  </thead>\n",
       "  <tbody>\n",
       "    <tr>\n",
       "      <th>0</th>\n",
       "      <td>0</td>\n",
       "      <td>0</td>\n",
       "      <td>1</td>\n",
       "      <td>0.0</td>\n",
       "      <td>2011</td>\n",
       "      <td>0.0</td>\n",
       "    </tr>\n",
       "    <tr>\n",
       "      <th>1</th>\n",
       "      <td>0</td>\n",
       "      <td>0</td>\n",
       "      <td>0</td>\n",
       "      <td>0.0</td>\n",
       "      <td>2012</td>\n",
       "      <td>0.0</td>\n",
       "    </tr>\n",
       "    <tr>\n",
       "      <th>2</th>\n",
       "      <td>1</td>\n",
       "      <td>1</td>\n",
       "      <td>0</td>\n",
       "      <td>0.0</td>\n",
       "      <td>2012</td>\n",
       "      <td>0.0</td>\n",
       "    </tr>\n",
       "    <tr>\n",
       "      <th>3</th>\n",
       "      <td>1</td>\n",
       "      <td>0</td>\n",
       "      <td>1</td>\n",
       "      <td>0.0</td>\n",
       "      <td>2012</td>\n",
       "      <td>0.0</td>\n",
       "    </tr>\n",
       "    <tr>\n",
       "      <th>4</th>\n",
       "      <td>1</td>\n",
       "      <td>0</td>\n",
       "      <td>1</td>\n",
       "      <td>0.0</td>\n",
       "      <td>2011</td>\n",
       "      <td>0.0</td>\n",
       "    </tr>\n",
       "    <tr>\n",
       "      <th>...</th>\n",
       "      <td>...</td>\n",
       "      <td>...</td>\n",
       "      <td>...</td>\n",
       "      <td>...</td>\n",
       "      <td>...</td>\n",
       "      <td>...</td>\n",
       "    </tr>\n",
       "    <tr>\n",
       "      <th>219</th>\n",
       "      <td>0</td>\n",
       "      <td>0</td>\n",
       "      <td>1</td>\n",
       "      <td>0.0</td>\n",
       "      <td>2012</td>\n",
       "      <td>0.0</td>\n",
       "    </tr>\n",
       "    <tr>\n",
       "      <th>220</th>\n",
       "      <td>0</td>\n",
       "      <td>0</td>\n",
       "      <td>1</td>\n",
       "      <td>0.0</td>\n",
       "      <td>2012</td>\n",
       "      <td>0.0</td>\n",
       "    </tr>\n",
       "    <tr>\n",
       "      <th>221</th>\n",
       "      <td>1</td>\n",
       "      <td>0</td>\n",
       "      <td>1</td>\n",
       "      <td>0.0</td>\n",
       "      <td>2012</td>\n",
       "      <td>0.0</td>\n",
       "    </tr>\n",
       "    <tr>\n",
       "      <th>222</th>\n",
       "      <td>1</td>\n",
       "      <td>1</td>\n",
       "      <td>0</td>\n",
       "      <td>0.0</td>\n",
       "      <td>2013</td>\n",
       "      <td>0.0</td>\n",
       "    </tr>\n",
       "    <tr>\n",
       "      <th>223</th>\n",
       "      <td>0</td>\n",
       "      <td>0</td>\n",
       "      <td>1</td>\n",
       "      <td>0.0</td>\n",
       "      <td>2013</td>\n",
       "      <td>0.0</td>\n",
       "    </tr>\n",
       "  </tbody>\n",
       "</table>\n",
       "<p>224 rows × 6 columns</p>\n",
       "</div>"
      ],
      "text/plain": [
       "     pre_order_perk  tech_campaign  sbiz_campaign  fixed_fund  year_start  \\\n",
       "0                 0              0              1         0.0        2011   \n",
       "1                 0              0              0         0.0        2012   \n",
       "2                 1              1              0         0.0        2012   \n",
       "3                 1              0              1         0.0        2012   \n",
       "4                 1              0              1         0.0        2011   \n",
       "..              ...            ...            ...         ...         ...   \n",
       "219               0              0              1         0.0        2012   \n",
       "220               0              0              1         0.0        2012   \n",
       "221               1              0              1         0.0        2012   \n",
       "222               1              1              0         0.0        2013   \n",
       "223               0              0              1         0.0        2013   \n",
       "\n",
       "     iot_plus  \n",
       "0         0.0  \n",
       "1         0.0  \n",
       "2         0.0  \n",
       "3         0.0  \n",
       "4         0.0  \n",
       "..        ...  \n",
       "219       0.0  \n",
       "220       0.0  \n",
       "221       0.0  \n",
       "222       0.0  \n",
       "223       0.0  \n",
       "\n",
       "[224 rows x 6 columns]"
      ]
     },
     "execution_count": 152,
     "metadata": {},
     "output_type": "execute_result"
    }
   ],
   "source": [
    "features"
   ]
  },
  {
   "cell_type": "code",
   "execution_count": 153,
   "metadata": {},
   "outputs": [
    {
     "name": "stdout",
     "output_type": "stream",
     "text": [
      "pre_order_perk      int64\n",
      "tech_campaign       int64\n",
      "sbiz_campaign       int64\n",
      "fixed_fund        float64\n",
      "year_start         object\n",
      "iot_plus          float64\n",
      "dtype: object\n"
     ]
    }
   ],
   "source": [
    "features['year_start']=features['year_start'].astype(str)\n",
    "print(features.dtypes)"
   ]
  },
  {
   "cell_type": "code",
   "execution_count": 154,
   "metadata": {},
   "outputs": [
    {
     "data": {
      "text/html": [
       "<div>\n",
       "<style scoped>\n",
       "    .dataframe tbody tr th:only-of-type {\n",
       "        vertical-align: middle;\n",
       "    }\n",
       "\n",
       "    .dataframe tbody tr th {\n",
       "        vertical-align: top;\n",
       "    }\n",
       "\n",
       "    .dataframe thead th {\n",
       "        text-align: right;\n",
       "    }\n",
       "</style>\n",
       "<table border=\"1\" class=\"dataframe\">\n",
       "  <thead>\n",
       "    <tr style=\"text-align: right;\">\n",
       "      <th></th>\n",
       "      <th>pre_order_perk</th>\n",
       "      <th>tech_campaign</th>\n",
       "      <th>sbiz_campaign</th>\n",
       "      <th>fixed_fund</th>\n",
       "      <th>iot_plus</th>\n",
       "      <th>year_start_2011</th>\n",
       "      <th>year_start_2012</th>\n",
       "      <th>year_start_2013</th>\n",
       "    </tr>\n",
       "  </thead>\n",
       "  <tbody>\n",
       "    <tr>\n",
       "      <th>count</th>\n",
       "      <td>216.000000</td>\n",
       "      <td>216.000000</td>\n",
       "      <td>216.000000</td>\n",
       "      <td>216.000000</td>\n",
       "      <td>216.00000</td>\n",
       "      <td>216.000000</td>\n",
       "      <td>216.000000</td>\n",
       "      <td>216.000000</td>\n",
       "    </tr>\n",
       "    <tr>\n",
       "      <th>mean</th>\n",
       "      <td>0.509259</td>\n",
       "      <td>0.462963</td>\n",
       "      <td>0.412037</td>\n",
       "      <td>0.212963</td>\n",
       "      <td>0.12037</td>\n",
       "      <td>0.046296</td>\n",
       "      <td>0.259259</td>\n",
       "      <td>0.694444</td>\n",
       "    </tr>\n",
       "    <tr>\n",
       "      <th>std</th>\n",
       "      <td>0.501076</td>\n",
       "      <td>0.499785</td>\n",
       "      <td>0.493345</td>\n",
       "      <td>0.410353</td>\n",
       "      <td>0.32615</td>\n",
       "      <td>0.210614</td>\n",
       "      <td>0.439246</td>\n",
       "      <td>0.461712</td>\n",
       "    </tr>\n",
       "    <tr>\n",
       "      <th>min</th>\n",
       "      <td>0.000000</td>\n",
       "      <td>0.000000</td>\n",
       "      <td>0.000000</td>\n",
       "      <td>0.000000</td>\n",
       "      <td>0.00000</td>\n",
       "      <td>0.000000</td>\n",
       "      <td>0.000000</td>\n",
       "      <td>0.000000</td>\n",
       "    </tr>\n",
       "    <tr>\n",
       "      <th>25%</th>\n",
       "      <td>0.000000</td>\n",
       "      <td>0.000000</td>\n",
       "      <td>0.000000</td>\n",
       "      <td>0.000000</td>\n",
       "      <td>0.00000</td>\n",
       "      <td>0.000000</td>\n",
       "      <td>0.000000</td>\n",
       "      <td>0.000000</td>\n",
       "    </tr>\n",
       "    <tr>\n",
       "      <th>50%</th>\n",
       "      <td>1.000000</td>\n",
       "      <td>0.000000</td>\n",
       "      <td>0.000000</td>\n",
       "      <td>0.000000</td>\n",
       "      <td>0.00000</td>\n",
       "      <td>0.000000</td>\n",
       "      <td>0.000000</td>\n",
       "      <td>1.000000</td>\n",
       "    </tr>\n",
       "    <tr>\n",
       "      <th>75%</th>\n",
       "      <td>1.000000</td>\n",
       "      <td>1.000000</td>\n",
       "      <td>1.000000</td>\n",
       "      <td>0.000000</td>\n",
       "      <td>0.00000</td>\n",
       "      <td>0.000000</td>\n",
       "      <td>1.000000</td>\n",
       "      <td>1.000000</td>\n",
       "    </tr>\n",
       "    <tr>\n",
       "      <th>max</th>\n",
       "      <td>1.000000</td>\n",
       "      <td>1.000000</td>\n",
       "      <td>1.000000</td>\n",
       "      <td>1.000000</td>\n",
       "      <td>1.00000</td>\n",
       "      <td>1.000000</td>\n",
       "      <td>1.000000</td>\n",
       "      <td>1.000000</td>\n",
       "    </tr>\n",
       "  </tbody>\n",
       "</table>\n",
       "</div>"
      ],
      "text/plain": [
       "       pre_order_perk  tech_campaign  sbiz_campaign  fixed_fund   iot_plus  \\\n",
       "count      216.000000     216.000000     216.000000  216.000000  216.00000   \n",
       "mean         0.509259       0.462963       0.412037    0.212963    0.12037   \n",
       "std          0.501076       0.499785       0.493345    0.410353    0.32615   \n",
       "min          0.000000       0.000000       0.000000    0.000000    0.00000   \n",
       "25%          0.000000       0.000000       0.000000    0.000000    0.00000   \n",
       "50%          1.000000       0.000000       0.000000    0.000000    0.00000   \n",
       "75%          1.000000       1.000000       1.000000    0.000000    0.00000   \n",
       "max          1.000000       1.000000       1.000000    1.000000    1.00000   \n",
       "\n",
       "       year_start_2011  year_start_2012  year_start_2013  \n",
       "count       216.000000       216.000000       216.000000  \n",
       "mean          0.046296         0.259259         0.694444  \n",
       "std           0.210614         0.439246         0.461712  \n",
       "min           0.000000         0.000000         0.000000  \n",
       "25%           0.000000         0.000000         0.000000  \n",
       "50%           0.000000         0.000000         1.000000  \n",
       "75%           0.000000         1.000000         1.000000  \n",
       "max           1.000000         1.000000         1.000000  "
      ]
     },
     "execution_count": 154,
     "metadata": {},
     "output_type": "execute_result"
    }
   ],
   "source": [
    "cat_features = pd.get_dummies(features)\n",
    "cat_features.dropna(inplace = True)\n",
    "target.dropna(inplace=True)\n",
    "target = target.reindex_like(cat_features)\n",
    "cat_features.describe()"
   ]
  },
  {
   "cell_type": "code",
   "execution_count": 155,
   "metadata": {},
   "outputs": [],
   "source": [
    "X_train, X_test, y_train, y_test = train_test_split(cat_features, target, random_state = 0, test_size = 0.2)"
   ]
  },
  {
   "cell_type": "code",
   "execution_count": 156,
   "metadata": {},
   "outputs": [],
   "source": [
    "scaler = StandardScaler()\n",
    "X_train_scaled = scaler.fit_transform(X_train)\n",
    "X_test_scaled = scaler.transform(X_test)"
   ]
  },
  {
   "cell_type": "code",
   "execution_count": 319,
   "metadata": {},
   "outputs": [
    {
     "name": "stdout",
     "output_type": "stream",
     "text": [
      "{'alpha': 100}\n",
      "-0.08026261577462127\n"
     ]
    },
    {
     "name": "stderr",
     "output_type": "stream",
     "text": [
      "/Users/gioong/opt/anaconda3/lib/python3.8/site-packages/seaborn/distributions.py:2551: FutureWarning: `distplot` is a deprecated function and will be removed in a future version. Please adapt your code to use either `displot` (a figure-level function with similar flexibility) or `histplot` (an axes-level function for histograms).\n",
      "  warnings.warn(msg, FutureWarning)\n"
     ]
    },
    {
     "data": {
      "text/plain": [
       "<AxesSubplot:xlabel='frac_raised', ylabel='Density'>"
      ]
     },
     "execution_count": 319,
     "metadata": {},
     "output_type": "execute_result"
    },
    {
     "data": {
      "image/png": "[encoded data removed]",
      "text/plain": [
       "<Figure size 432x288 with 1 Axes>"
      ]
     },
     "metadata": {
      "needs_background": "light"
     },
     "output_type": "display_data"
    }
   ],
   "source": [
    "# Ridge Regression\n",
    "ridge=Ridge()\n",
    "parameters={'alpha':[1e-15,1e-10,1e-8,1e-3,1e-2,1,5,10,20,30,35,40,45,50,55,100]}\n",
    "ridge_regressor=GridSearchCV(ridge,parameters,scoring='r2',cv=5)\n",
    "ridge_regressor.fit(X_train,y_train)\n",
    "\n",
    "print(ridge_regressor.best_params_)\n",
    "print(ridge_regressor.best_score_)\n",
    "\n",
    "prediction_ridge=ridge_regressor.predict(X_test)\n",
    "sns.distplot(y_test-prediction_ridge)"
   ]
  },
  {
   "cell_type": "code",
   "execution_count": 320,
   "metadata": {},
   "outputs": [
    {
     "name": "stdout",
     "output_type": "stream",
     "text": [
      "{'alpha': 1}\n",
      "-0.11597859201809677\n"
     ]
    },
    {
     "name": "stderr",
     "output_type": "stream",
     "text": [
      "/Users/gioong/opt/anaconda3/lib/python3.8/site-packages/seaborn/distributions.py:2551: FutureWarning: `distplot` is a deprecated function and will be removed in a future version. Please adapt your code to use either `displot` (a figure-level function with similar flexibility) or `histplot` (an axes-level function for histograms).\n",
      "  warnings.warn(msg, FutureWarning)\n"
     ]
    },
    {
     "data": {
      "text/plain": [
       "<AxesSubplot:xlabel='frac_raised', ylabel='Density'>"
      ]
     },
     "execution_count": 320,
     "metadata": {},
     "output_type": "execute_result"
    },
    {
     "data": {
      "image/png": "[encoded data removed]",
      "text/plain": [
       "<Figure size 432x288 with 1 Axes>"
      ]
     },
     "metadata": {
      "needs_background": "light"
     },
     "output_type": "display_data"
    }
   ],
   "source": [
    "# Lasso Regression\n",
    "lasso=Lasso()\n",
    "parameters={'alpha':[0.0001,0.001,0.01,1,5,10,20,30,35,40,45,50,55,100]}\n",
    "lasso_regressor=GridSearchCV(lasso,parameters,scoring='r2',cv=5)\n",
    "\n",
    "lasso_regressor.fit(X_train,y_train)\n",
    "print(lasso_regressor.best_params_)\n",
    "print(lasso_regressor.best_score_)\n",
    "\n",
    "prediction_lasso=lasso_regressor.predict(X_test)\n",
    "\n",
    "\n",
    "sns.distplot(y_test-prediction_lasso)"
   ]
  },
  {
   "cell_type": "code",
   "execution_count": 321,
   "metadata": {},
   "outputs": [
    {
     "data": {
      "text/plain": [
       "Text(0.5, 1.0, 'Coefficients - Lasso Regression (a = 0.01)')"
      ]
     },
     "execution_count": 321,
     "metadata": {},
     "output_type": "execute_result"
    },
    {
     "data": {
      "image/png": "[encoded data removed]",
      "text/plain": [
       "<Figure size 432x288 with 1 Axes>"
      ]
     },
     "metadata": {
      "needs_background": "light"
     },
     "output_type": "display_data"
    }
   ],
   "source": [
    "names = cat_features.columns\n",
    "lasso = Lasso(alpha=0.01)\n",
    "lasso_coef= lasso.fit(X_train, y_train).coef_\n",
    "\n",
    "plt.bar(range(len(names)),lasso_coef)\n",
    "plt.xticks(range(len(names)),names, rotation=60)\n",
    "plt.ylabel(\"Coefficients\")\n",
    "plt.title(\"Coefficients - Lasso Regression (a = 0.01)\")"
   ]
  },
  {
   "cell_type": "code",
   "execution_count": 322,
   "metadata": {},
   "outputs": [
    {
     "data": {
      "image/png": "[encoded data removed]",
      "text/plain": [
       "<Figure size 432x288 with 1 Axes>"
      ]
     },
     "metadata": {
      "needs_background": "light"
     },
     "output_type": "display_data"
    }
   ],
   "source": [
    "\n",
    "names = cat_features.columns\n",
    "ridge = Ridge(alpha=0.01)\n",
    "ridge_coef=ridge.fit(X_train,y_train).coef_\n",
    "plt.bar(range(len(names)),ridge_coef)\n",
    "plt.xticks(range(len(names)),names, rotation=60)\n",
    "plt.ylabel(\"Coefficients\")\n",
    "plt.title(\"Coefficients - Ridge Regression (a = 0.01)\")\n",
    "plt.show()"
   ]
  },
  {
   "cell_type": "code",
   "execution_count": 315,
   "metadata": {},
   "outputs": [
    {
     "data": {
      "text/plain": [
       "{'n_neighbors': 34}"
      ]
     },
     "execution_count": 315,
     "metadata": {},
     "output_type": "execute_result"
    }
   ],
   "source": [
    "# KNN Regression\n",
    "knn = KNeighborsRegressor()\n",
    "neighbors = list(range(1,51))\n",
    "\n",
    "param_grid = dict(n_neighbors = neighbors)\n",
    "knn_grid = GridSearchCV(knn, param_grid, cv=10)\n",
    "\n",
    "knn_grid.fit(cat_features, target)\n",
    "y_pred = list(knn_grid.predict(cat_features))\n",
    "knn_grid.score(cat_features, target) \n",
    "knn_grid.best_params_"
   ]
  },
  {
   "cell_type": "code",
   "execution_count": 316,
   "metadata": {},
   "outputs": [
    {
     "name": "stdout",
     "output_type": "stream",
     "text": [
      "11.655565263223897\n",
      "0.14439166000985482\n"
     ]
    }
   ],
   "source": [
    "print(mean_squared_error(target,y_pred))\n",
    "print(r2_score(target,y_pred))"
   ]
  },
  {
   "cell_type": "code",
   "execution_count": 317,
   "metadata": {},
   "outputs": [
    {
     "data": {
      "text/plain": [
       "Text(0, 0.5, 'Mean Squared Error')"
      ]
     },
     "execution_count": 317,
     "metadata": {},
     "output_type": "execute_result"
    },
    {
     "data": {
      "image/png": "[encoded data removed]",
      "text/plain": [
       "<Figure size 432x288 with 1 Axes>"
      ]
     },
     "metadata": {
      "needs_background": "light"
     },
     "output_type": "display_data"
    }
   ],
   "source": [
    "# Graphing the MSE for each hyperparameter\n",
    "error = []\n",
    "for k in range(1,51):\n",
    "    knn = KNeighborsRegressor(n_neighbors=k)\n",
    "    y_pred = cross_val_predict(knn, cat_features, target, cv=5)\n",
    "    error.append(mean_squared_error(target,y_pred))\n",
    "plt.plot(range(1,51),error)\n",
    "plt.xlabel('K nearest neighbors')\n",
    "plt.ylabel('Mean Squared Error')"
   ]
  },
  {
   "cell_type": "code",
   "execution_count": 323,
   "metadata": {},
   "outputs": [
    {
     "data": {
      "text/plain": [
       "Text(0, 0.5, 'R Squared')"
      ]
     },
     "execution_count": 323,
     "metadata": {},
     "output_type": "execute_result"
    },
    {
     "data": {
      "image/png": "[encoded data removed]",
      "text/plain": [
       "<Figure size 432x288 with 1 Axes>"
      ]
     },
     "metadata": {
      "needs_background": "light"
     },
     "output_type": "display_data"
    }
   ],
   "source": [
    "# Graphing the r2 for each hyperparameter\n",
    "error = []\n",
    "for k in range(1,51):\n",
    "    knn = KNeighborsRegressor(n_neighbors=k)\n",
    "    y_pred = cross_val_predict(knn, cat_features, target, cv=5)\n",
    "    error.append(r2_score(target,y_pred))\n",
    "plt.plot(range(1,51),error)\n",
    "plt.xlabel('K nearest neighbors')\n",
    "plt.ylabel('R Squared')"
   ]
  },
  {
   "cell_type": "code",
   "execution_count": 318,
   "metadata": {},
   "outputs": [
    {
     "name": "stdout",
     "output_type": "stream",
     "text": [
      "12.437067497659747\n",
      "0.08702337160825924\n"
     ]
    }
   ],
   "source": [
    "print(mean_squared_error(target,y_pred))\n",
    "print(r2_score(target,y_pred))"
   ]
  },
  {
   "cell_type": "code",
   "execution_count": 164,
   "metadata": {},
   "outputs": [
    {
     "name": "stdout",
     "output_type": "stream",
     "text": [
      "12.874659582511102\n",
      "0.05490073929853856\n"
     ]
    },
    {
     "data": {
      "text/plain": [
       "Text(0, 0.5, 'Mean Squared Error')"
      ]
     },
     "execution_count": 164,
     "metadata": {},
     "output_type": "execute_result"
    },
    {
     "data": {
      "image/png": "[encoded data removed]",
      "text/plain": [
       "<Figure size 432x288 with 1 Axes>"
      ]
     },
     "metadata": {
      "needs_background": "light"
     },
     "output_type": "display_data"
    }
   ],
   "source": [
    "# Graphing the MSE for each hyperparameter\n",
    "classifier_pipeline = make_pipeline(StandardScaler(), KNeighborsRegressor(n_neighbors=10))\n",
    "y_pred = cross_val_predict(classifier_pipeline, cat_features, target, cv=5)\n",
    "\n",
    "print(mean_squared_error(target,y_pred))\n",
    "print(r2_score(target,y_pred))\n",
    "\n",
    "error = []\n",
    "for k in range(1,51):\n",
    "    classifier_pipeline = make_pipeline(StandardScaler(), KNeighborsRegressor(n_neighbors=k))\n",
    "    y_pred = cross_val_predict(classifier_pipeline, cat_features, target, cv=5)\n",
    "    error.append(mean_squared_error(target,y_pred))\n",
    "    \n",
    "plt.plot(range(1,51),error)\n",
    "plt.xlabel('K nearest neighbors')\n",
    "plt.ylabel('Mean Squared Error')"
   ]
  },
  {
   "cell_type": "code",
   "execution_count": 324,
   "metadata": {},
   "outputs": [
    {
     "data": {
      "text/plain": [
       "Text(0, 0.5, 'R Squared')"
      ]
     },
     "execution_count": 324,
     "metadata": {},
     "output_type": "execute_result"
    },
    {
     "data": {
      "image/png": "[encoded data removed]",
      "text/plain": [
       "<Figure size 432x288 with 1 Axes>"
      ]
     },
     "metadata": {
      "needs_background": "light"
     },
     "output_type": "display_data"
    }
   ],
   "source": [
    "error = []\n",
    "for k in range(1,51):\n",
    "    classifier_pipeline = make_pipeline(StandardScaler(), KNeighborsRegressor(n_neighbors=k))\n",
    "    y_pred = cross_val_predict(classifier_pipeline, cat_features, target, cv=5)\n",
    "    error.append(r2_score(target,y_pred))\n",
    "    \n",
    "plt.plot(range(1,51),error)\n",
    "plt.xlabel('K nearest neighbors')\n",
    "plt.ylabel('R Squared')"
   ]
  },
  {
   "cell_type": "code",
   "execution_count": 170,
   "metadata": {},
   "outputs": [],
   "source": [
    "X_train_df, X_test_df = pd.DataFrame(X_train), pd.DataFrame(X_test)"
   ]
  },
  {
   "cell_type": "code",
   "execution_count": 171,
   "metadata": {},
   "outputs": [
    {
     "name": "stdout",
     "output_type": "stream",
     "text": [
      "\n",
      "The model performance for training set\n",
      "--------------------------------------\n",
      "MSE is 3.3807778396813926\n",
      "R2 is 0.17480988417942178\n",
      "\n",
      "\n",
      "\n",
      "The model performance for training set\n",
      "--------------------------------------\n",
      "MSE is 9.260638392887085\n",
      "R2 is -1.260363629430071\n",
      "\n",
      "\n",
      "\n",
      "The model performance for training set\n",
      "--------------------------------------\n",
      "MSE is 4.514035824732444e+26\n",
      "R2 is -1.1017990301842035e+26\n",
      "\n",
      "\n",
      "\n",
      "The model performance for training set\n",
      "--------------------------------------\n",
      "MSE is 1.8726524849863496e+25\n",
      "R2 is -4.5708248049898756e+24\n",
      "\n",
      "\n"
     ]
    }
   ],
   "source": [
    "\n",
    "for deg in range(1,5):\n",
    "    poly = PolynomialFeatures(degree = deg)\n",
    "    X_train_poly, X_test_poly = poly.fit_transform(X_train_df), poly.fit_transform(X_test_df)\n",
    "\n",
    "    model = LinearRegression()\n",
    "    model = model.fit(X_train_poly, y_train)\n",
    "\n",
    "    prediction = model.predict(X_test_poly)\n",
    "\n",
    "    mse = mean_squared_error(y_test, prediction)\n",
    "    r2 = r2_score(y_test, prediction) \n",
    "\n",
    "    print(\"\\nThe model performance for training set\")\n",
    "    print(\"--------------------------------------\")\n",
    "    print('MSE is {}'.format(mse))\n",
    "    print('R2 is {}'.format(r2))\n",
    "\n",
    "    print(\"\\n\")"
   ]
  },
  {
   "cell_type": "code",
   "execution_count": null,
   "metadata": {},
   "outputs": [],
   "source": []
  },
  {
   "cell_type": "code",
   "execution_count": null,
   "metadata": {},
   "outputs": [],
   "source": []
  }
 ],
 "metadata": {
  "kernelspec": {
   "display_name": "Python 3",
   "language": "python",
   "name": "python3"
  },
  "language_info": {
   "codemirror_mode": {
    "name": "ipython",
    "version": 3
   },
   "file_extension": ".py",
   "mimetype": "text/x-python",
   "name": "python",
   "nbconvert_exporter": "python",
   "pygments_lexer": "ipython3",
   "version": "3.8.5"
  }
 },
 "nbformat": 4,
 "nbformat_minor": 4
}
