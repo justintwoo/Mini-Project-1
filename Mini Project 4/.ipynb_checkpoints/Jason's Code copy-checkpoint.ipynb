{
 "cells": [
  {
   "cell_type": "code",
   "execution_count": 73,
   "metadata": {},
   "outputs": [],
   "source": [
    "\n",
    "# -*- coding: utf-8 -*-\n",
    "\n",
    "# -- Sheet --\n",
    "\n",
    "import pandas as pd \n",
    "import re\n",
    "import os\n",
    "import string\n",
    "import csv\n",
    "import sys\n",
    "import datetime\n",
    "import numpy as np\n",
    "import matplotlib.pyplot as plt\n",
    "\n",
    "from sklearn.model_selection import train_test_split\n",
    "from sklearn.linear_model import LinearRegression\n",
    "from sklearn.metrics import mean_squared_error, r2_score\n",
    "\n",
    "from sklearn.neighbors import KNeighborsRegressor\n",
    "from sklearn.model_selection import GridSearchCV\n",
    "from sklearn.model_selection import cross_val_predict"
   ]
  },
  {
   "cell_type": "code",
   "execution_count": 54,
   "metadata": {},
   "outputs": [
    {
     "name": "stdout",
     "output_type": "stream",
     "text": [
      "  ticker                         created            id  polarity1 sentiment  \\\n",
      "0    MMM  Thu Mar 31 22:51:05 +0000 2022  1.510000e+18   1.000000  positive   \n",
      "1    MMM  Thu Mar 31 22:30:02 +0000 2022  1.510000e+18   0.275000  positive   \n",
      "2    MMM  Thu Mar 31 20:28:37 +0000 2022  1.510000e+18   0.106667  positive   \n",
      "3    MMM  Thu Mar 31 17:33:06 +0000 2022  1.510000e+18   1.000000  positive   \n",
      "4    MMM  Tue Mar 29 23:03:05 +0000 2022  1.510000e+18   1.000000  positive   \n",
      "\n",
      "   subjectivity2  polarity2  subjectivity2.1  \n",
      "0       0.300000   1.000000         0.300000  \n",
      "1       0.500000   0.200000         0.500000  \n",
      "2       0.526667   0.106667         0.526667  \n",
      "3       0.300000   1.000000         0.300000  \n",
      "4       0.300000   1.000000         0.300000  \n"
     ]
    },
    {
     "data": {
      "text/html": [
       "<div>\n",
       "<style scoped>\n",
       "    .dataframe tbody tr th:only-of-type {\n",
       "        vertical-align: middle;\n",
       "    }\n",
       "\n",
       "    .dataframe tbody tr th {\n",
       "        vertical-align: top;\n",
       "    }\n",
       "\n",
       "    .dataframe thead th {\n",
       "        text-align: right;\n",
       "    }\n",
       "</style>\n",
       "<table border=\"1\" class=\"dataframe\">\n",
       "  <thead>\n",
       "    <tr style=\"text-align: right;\">\n",
       "      <th></th>\n",
       "      <th>ticker</th>\n",
       "      <th>change</th>\n",
       "    </tr>\n",
       "  </thead>\n",
       "  <tbody>\n",
       "    <tr>\n",
       "      <th>0</th>\n",
       "      <td>MMM</td>\n",
       "      <td>0.012653</td>\n",
       "    </tr>\n",
       "    <tr>\n",
       "      <th>1</th>\n",
       "      <td>AOS</td>\n",
       "      <td>-0.013987</td>\n",
       "    </tr>\n",
       "    <tr>\n",
       "      <th>2</th>\n",
       "      <td>ABT</td>\n",
       "      <td>-0.023078</td>\n",
       "    </tr>\n",
       "    <tr>\n",
       "      <th>3</th>\n",
       "      <td>ABBV</td>\n",
       "      <td>0.007997</td>\n",
       "    </tr>\n",
       "    <tr>\n",
       "      <th>4</th>\n",
       "      <td>ABMD</td>\n",
       "      <td>0.039578</td>\n",
       "    </tr>\n",
       "  </tbody>\n",
       "</table>\n",
       "</div>"
      ],
      "text/plain": [
       "  ticker    change\n",
       "0    MMM  0.012653\n",
       "1    AOS -0.013987\n",
       "2    ABT -0.023078\n",
       "3   ABBV  0.007997\n",
       "4   ABMD  0.039578"
      ]
     },
     "execution_count": 54,
     "metadata": {},
     "output_type": "execute_result"
    }
   ],
   "source": [
    "tweet_data = pd.read_csv(\"sentimenttweets.csv\")\n",
    "'''\n",
    "# tweet_data = pd.concat([pd.read_excel(os.path.join(\"twitterdata\", f), index_col = 0) for f in os.listdir(\"twitterdata\")])\n",
    "\n",
    "tweet_data = pd.read_csv(\"searchTweets.csv\")\n",
    "\n",
    "tweet_data = tweet_data[[\"ticker\", \"created\", \"sent_score\"]]\n",
    "\n",
    "tweet_data2 = tweet_data2[[\"ticker\", \"created\", \"sent_score\"]]\n",
    "\n",
    "tweet_data = pd.concat([tweet_data, tweet_data2], axis = 0)\n",
    "\n",
    "tweet_data.shape\n",
    "\n",
    "'''\n",
    "print(tweet_data.head())\n",
    "\n",
    "\n",
    "returns_data = pd.read_csv(\"stocks.csv\")\n",
    "\n",
    "returns_data.head()\n",
    "\n",
    "# returns_data.reset_index(inplace = True)\n",
    "\n",
    "# returns_data[\"Date\"] = pd.to_datetime(returns_data[\"Date\"]).dt.strftime(\"%m-%d-%Y\")\n",
    "\n",
    "# returns_data.rename(columns = {\"level_0\": \"ticker\", \"Date\": \"date\"}, inplace = True)\n",
    "\n",
    "# returns_data.set_index([\"ticker\", \"date\"], inplace = True, drop = True)\n",
    "\n",
    "# returns_data = returns_data[[\"Volume\", \"Adj Close\"]]\n",
    "\n",
    "# returns = returns_data[\"Adj Close\"].groupby(level = 0).apply(lambda x: x / x[1:4].max())\n",
    "# vol = returns_data.groupby(level = 0)[\"Volume\"].apply(lambda x: x / x[1:4].max())\n",
    "\n",
    "# returns_data = pd.concat([returns, vol], axis = 1)\n",
    "# returns_data.rename(columns = {\"Adj Close\": \"return\", \"Volume\": \"vol\"}, inplace = True)\n",
    "# returns_data.dropna(inplace = True)\n",
    "\n",
    "# tweet_data.rename(columns = {\"created\": \"date\"}, inplace = True)\n",
    "# tweet_data.set_index([\"ticker\", \"date\"], inplace = True, drop = True)\n",
    "\n",
    "# # Drop any tweets with 0 sentiment (irrelevant/couldn't be parsed/etc.)\n",
    "\n",
    "# tweet_data = tweet_data[tweet_data[\"sent_score\"] != 0]\n",
    "\n",
    "# # Calculate average sentiment score by date\n",
    "\n",
    "# tweet_sent_data = tweet_data.groupby([\"ticker\", \"date\"])[\"sent_score\"].agg(['mean', 'count'])\n",
    "# tweet_sent_data.columns = [\"sent_score\", \"tweet_volume\"]\n",
    "# tweet_sent_data[\"tweet_volume\"] = tweet_sent_data.groupby(level = 0)[\"tweet_volume\"].apply(lambda x: x / x[1:4].max())\n",
    "\n",
    "# combined_data = returns_data.merge(tweet_sent_data, left_index = True, right_index = True, how = \"left\")\n",
    "\n",
    "# # In case of companies that didn't have any Twitter data for a particular date... \n",
    "# combined_data.fillna(0, inplace = True)\n",
    "\n",
    "# dt = combined_data.reset_index()\n",
    "\n",
    "# dt[\"date\"] = pd.to_datetime(dt[\"date\"])\n",
    "# dt.set_index([\"ticker\", \"date\"], inplace = True, drop = True)\n",
    "# dt.sort_index(level = 1, ascending = False, inplace = True)\n",
    "\n",
    "# target = dt[dt.index.get_level_values(1) == '11-27-2020']\n",
    "# features = dt[dt.index.get_level_values(1) != '11-27-2020']\n",
    "\n",
    "# target = target[\"return\"]"
   ]
  },
  {
   "cell_type": "code",
   "execution_count": 55,
   "metadata": {},
   "outputs": [
    {
     "data": {
      "text/html": [
       "<div>\n",
       "<style scoped>\n",
       "    .dataframe tbody tr th:only-of-type {\n",
       "        vertical-align: middle;\n",
       "    }\n",
       "\n",
       "    .dataframe tbody tr th {\n",
       "        vertical-align: top;\n",
       "    }\n",
       "\n",
       "    .dataframe thead th {\n",
       "        text-align: right;\n",
       "    }\n",
       "</style>\n",
       "<table border=\"1\" class=\"dataframe\">\n",
       "  <thead>\n",
       "    <tr style=\"text-align: right;\">\n",
       "      <th></th>\n",
       "      <th>ticker</th>\n",
       "      <th>id</th>\n",
       "      <th>polarity1</th>\n",
       "      <th>subjectivity2</th>\n",
       "      <th>polarity2</th>\n",
       "      <th>subjectivity2.1</th>\n",
       "      <th>change</th>\n",
       "    </tr>\n",
       "  </thead>\n",
       "  <tbody>\n",
       "    <tr>\n",
       "      <th>0</th>\n",
       "      <td>A</td>\n",
       "      <td>1.510000e+18</td>\n",
       "      <td>0.161909</td>\n",
       "      <td>0.329144</td>\n",
       "      <td>0.161909</td>\n",
       "      <td>0.329144</td>\n",
       "      <td>-0.017591</td>\n",
       "    </tr>\n",
       "    <tr>\n",
       "      <th>1</th>\n",
       "      <td>AAL</td>\n",
       "      <td>1.510000e+18</td>\n",
       "      <td>0.055000</td>\n",
       "      <td>0.140000</td>\n",
       "      <td>0.040000</td>\n",
       "      <td>0.140000</td>\n",
       "      <td>0.057178</td>\n",
       "    </tr>\n",
       "    <tr>\n",
       "      <th>2</th>\n",
       "      <td>AAPL</td>\n",
       "      <td>1.510000e+18</td>\n",
       "      <td>0.155000</td>\n",
       "      <td>0.250000</td>\n",
       "      <td>0.132500</td>\n",
       "      <td>0.250000</td>\n",
       "      <td>0.056476</td>\n",
       "    </tr>\n",
       "    <tr>\n",
       "      <th>3</th>\n",
       "      <td>ABBV</td>\n",
       "      <td>1.510000e+18</td>\n",
       "      <td>0.500000</td>\n",
       "      <td>0.150000</td>\n",
       "      <td>0.500000</td>\n",
       "      <td>0.150000</td>\n",
       "      <td>0.007997</td>\n",
       "    </tr>\n",
       "    <tr>\n",
       "      <th>4</th>\n",
       "      <td>ABC</td>\n",
       "      <td>1.510000e+18</td>\n",
       "      <td>0.000000</td>\n",
       "      <td>0.000000</td>\n",
       "      <td>0.000000</td>\n",
       "      <td>0.000000</td>\n",
       "      <td>0.009858</td>\n",
       "    </tr>\n",
       "    <tr>\n",
       "      <th>...</th>\n",
       "      <td>...</td>\n",
       "      <td>...</td>\n",
       "      <td>...</td>\n",
       "      <td>...</td>\n",
       "      <td>...</td>\n",
       "      <td>...</td>\n",
       "      <td>...</td>\n",
       "    </tr>\n",
       "    <tr>\n",
       "      <th>345</th>\n",
       "      <td>WHR</td>\n",
       "      <td>1.510000e+18</td>\n",
       "      <td>0.000000</td>\n",
       "      <td>0.000000</td>\n",
       "      <td>0.000000</td>\n",
       "      <td>0.000000</td>\n",
       "      <td>-0.029015</td>\n",
       "    </tr>\n",
       "    <tr>\n",
       "      <th>346</th>\n",
       "      <td>WM</td>\n",
       "      <td>1.510000e+18</td>\n",
       "      <td>0.112500</td>\n",
       "      <td>0.300000</td>\n",
       "      <td>0.075000</td>\n",
       "      <td>0.300000</td>\n",
       "      <td>0.001602</td>\n",
       "    </tr>\n",
       "    <tr>\n",
       "      <th>347</th>\n",
       "      <td>WMT</td>\n",
       "      <td>1.510000e+18</td>\n",
       "      <td>0.493827</td>\n",
       "      <td>0.362963</td>\n",
       "      <td>0.493827</td>\n",
       "      <td>0.362963</td>\n",
       "      <td>-0.005408</td>\n",
       "    </tr>\n",
       "    <tr>\n",
       "      <th>348</th>\n",
       "      <td>WRK</td>\n",
       "      <td>1.510000e+18</td>\n",
       "      <td>0.191667</td>\n",
       "      <td>0.225000</td>\n",
       "      <td>0.250000</td>\n",
       "      <td>0.250000</td>\n",
       "      <td>0.022383</td>\n",
       "    </tr>\n",
       "    <tr>\n",
       "      <th>349</th>\n",
       "      <td>XOM</td>\n",
       "      <td>1.510000e+18</td>\n",
       "      <td>0.333333</td>\n",
       "      <td>0.216667</td>\n",
       "      <td>0.333333</td>\n",
       "      <td>0.200000</td>\n",
       "      <td>0.036496</td>\n",
       "    </tr>\n",
       "  </tbody>\n",
       "</table>\n",
       "<p>350 rows × 7 columns</p>\n",
       "</div>"
      ],
      "text/plain": [
       "    ticker            id  polarity1  subjectivity2  polarity2  \\\n",
       "0        A  1.510000e+18   0.161909       0.329144   0.161909   \n",
       "1      AAL  1.510000e+18   0.055000       0.140000   0.040000   \n",
       "2     AAPL  1.510000e+18   0.155000       0.250000   0.132500   \n",
       "3     ABBV  1.510000e+18   0.500000       0.150000   0.500000   \n",
       "4      ABC  1.510000e+18   0.000000       0.000000   0.000000   \n",
       "..     ...           ...        ...            ...        ...   \n",
       "345    WHR  1.510000e+18   0.000000       0.000000   0.000000   \n",
       "346     WM  1.510000e+18   0.112500       0.300000   0.075000   \n",
       "347    WMT  1.510000e+18   0.493827       0.362963   0.493827   \n",
       "348    WRK  1.510000e+18   0.191667       0.225000   0.250000   \n",
       "349    XOM  1.510000e+18   0.333333       0.216667   0.333333   \n",
       "\n",
       "     subjectivity2.1    change  \n",
       "0           0.329144 -0.017591  \n",
       "1           0.140000  0.057178  \n",
       "2           0.250000  0.056476  \n",
       "3           0.150000  0.007997  \n",
       "4           0.000000  0.009858  \n",
       "..               ...       ...  \n",
       "345         0.000000 -0.029015  \n",
       "346         0.300000  0.001602  \n",
       "347         0.362963 -0.005408  \n",
       "348         0.250000  0.022383  \n",
       "349         0.200000  0.036496  \n",
       "\n",
       "[350 rows x 7 columns]"
      ]
     },
     "execution_count": 55,
     "metadata": {},
     "output_type": "execute_result"
    }
   ],
   "source": [
    "tweet_agg = tweet_data.groupby(['ticker'],as_index=False).mean()\n",
    "pd_data = tweet_agg.merge(returns_data)\n",
    "pd_data"
   ]
  },
  {
   "cell_type": "code",
   "execution_count": 56,
   "metadata": {},
   "outputs": [
    {
     "name": "stderr",
     "output_type": "stream",
     "text": [
      "<ipython-input-56-6b05766f9d27>:2: FutureWarning: Dropping of nuisance columns in DataFrame reductions (with 'numeric_only=None') is deprecated; in a future version this will raise TypeError.  Select only valid columns before calling the reduction.\n",
      "  pd_data.mean()\n"
     ]
    },
    {
     "data": {
      "text/plain": [
       "id                 1.510000e+18\n",
       "polarity1          1.907704e-01\n",
       "subjectivity2      2.564716e-01\n",
       "polarity2          1.828434e-01\n",
       "subjectivity2.1    2.565482e-01\n",
       "change             1.316302e-02\n",
       "dtype: float64"
      ]
     },
     "execution_count": 56,
     "metadata": {},
     "output_type": "execute_result"
    }
   ],
   "source": [
    "pos_data = pd_data[pd_data['polarity2'] != 0]\n",
    "pd_data.mean()"
   ]
  },
  {
   "cell_type": "code",
   "execution_count": 57,
   "metadata": {},
   "outputs": [],
   "source": [
    "def get_sent(row):\n",
    "    if row[4] > 0:\n",
    "        val = 'positive'\n",
    "    elif row[4] < 0:\n",
    "        val = 'negative'\n",
    "    else:\n",
    "        val = 'neutral'\n",
    "    return val"
   ]
  },
  {
   "cell_type": "code",
   "execution_count": 58,
   "metadata": {},
   "outputs": [
    {
     "data": {
      "text/html": [
       "<div>\n",
       "<style scoped>\n",
       "    .dataframe tbody tr th:only-of-type {\n",
       "        vertical-align: middle;\n",
       "    }\n",
       "\n",
       "    .dataframe tbody tr th {\n",
       "        vertical-align: top;\n",
       "    }\n",
       "\n",
       "    .dataframe thead th {\n",
       "        text-align: right;\n",
       "    }\n",
       "</style>\n",
       "<table border=\"1\" class=\"dataframe\">\n",
       "  <thead>\n",
       "    <tr style=\"text-align: right;\">\n",
       "      <th></th>\n",
       "      <th>id</th>\n",
       "      <th>polarity1</th>\n",
       "      <th>subjectivity2</th>\n",
       "      <th>polarity2</th>\n",
       "      <th>subjectivity2.1</th>\n",
       "      <th>change</th>\n",
       "    </tr>\n",
       "    <tr>\n",
       "      <th>sentiment</th>\n",
       "      <th></th>\n",
       "      <th></th>\n",
       "      <th></th>\n",
       "      <th></th>\n",
       "      <th></th>\n",
       "      <th></th>\n",
       "    </tr>\n",
       "  </thead>\n",
       "  <tbody>\n",
       "    <tr>\n",
       "      <th>negative</th>\n",
       "      <td>1.510000e+18</td>\n",
       "      <td>-0.100785</td>\n",
       "      <td>0.230681</td>\n",
       "      <td>-0.100103</td>\n",
       "      <td>0.226818</td>\n",
       "      <td>0.021178</td>\n",
       "    </tr>\n",
       "    <tr>\n",
       "      <th>neutral</th>\n",
       "      <td>1.510000e+18</td>\n",
       "      <td>0.000000</td>\n",
       "      <td>0.036866</td>\n",
       "      <td>0.000000</td>\n",
       "      <td>0.036866</td>\n",
       "      <td>0.011837</td>\n",
       "    </tr>\n",
       "    <tr>\n",
       "      <th>positive</th>\n",
       "      <td>1.510000e+18</td>\n",
       "      <td>0.279299</td>\n",
       "      <td>0.330785</td>\n",
       "      <td>0.268006</td>\n",
       "      <td>0.331238</td>\n",
       "      <td>0.012884</td>\n",
       "    </tr>\n",
       "  </tbody>\n",
       "</table>\n",
       "</div>"
      ],
      "text/plain": [
       "                     id  polarity1  subjectivity2  polarity2  subjectivity2.1  \\\n",
       "sentiment                                                                       \n",
       "negative   1.510000e+18  -0.100785       0.230681  -0.100103         0.226818   \n",
       "neutral    1.510000e+18   0.000000       0.036866   0.000000         0.036866   \n",
       "positive   1.510000e+18   0.279299       0.330785   0.268006         0.331238   \n",
       "\n",
       "             change  \n",
       "sentiment            \n",
       "negative   0.021178  \n",
       "neutral    0.011837  \n",
       "positive   0.012884  "
      ]
     },
     "execution_count": 58,
     "metadata": {},
     "output_type": "execute_result"
    }
   ],
   "source": [
    "pd_data['sentiment'] = pd_data.apply(get_sent, axis=1)\n",
    "pd_data.groupby(['sentiment']).mean()"
   ]
  },
  {
   "cell_type": "code",
   "execution_count": 59,
   "metadata": {},
   "outputs": [
    {
     "data": {
      "text/plain": [
       "positive    247\n",
       "neutral      81\n",
       "negative     22\n",
       "Name: sentiment, dtype: int64"
      ]
     },
     "execution_count": 59,
     "metadata": {},
     "output_type": "execute_result"
    }
   ],
   "source": [
    "pd_data['sentiment'].value_counts()"
   ]
  },
  {
   "cell_type": "code",
   "execution_count": 60,
   "metadata": {},
   "outputs": [],
   "source": [
    "target = pd_data['change']\n",
    "features = pd_data[['polarity2','subjectivity2']]"
   ]
  },
  {
   "cell_type": "code",
   "execution_count": 61,
   "metadata": {},
   "outputs": [],
   "source": [
    "X_train, X_test, y_train, y_test = train_test_split(features, target, random_state = 0, test_size = 0.2)"
   ]
  },
  {
   "cell_type": "code",
   "execution_count": 76,
   "metadata": {},
   "outputs": [
    {
     "name": "stdout",
     "output_type": "stream",
     "text": [
      "\n",
      "The model performance for training set\n",
      "--------------------------------------\n",
      "MSE is 0.0006900319686658895\n",
      "RMSE is 0.02626845957923474\n",
      "R2 is 0.004169754491283206\n",
      "\n",
      "\n"
     ]
    }
   ],
   "source": [
    "model = LinearRegression()\n",
    "model = model.fit(X_train, y_train)\n",
    "\n",
    "prediction = model.predict(X_test)\n",
    "\n",
    "mse = mean_squared_error(y_test, prediction)\n",
    "r2 = r2_score(y_test, prediction)\n",
    "\n",
    "print(\"\\nThe model performance for training set\")\n",
    "print(\"--------------------------------------\")\n",
    "print('MSE is {}'.format(mse))\n",
    "print('RMSE is {}'.format(np.sqrt(mse)))\n",
    "print('R2 is {}'.format(r2))\n",
    "\n",
    "print(\"\\n\")"
   ]
  },
  {
   "cell_type": "code",
   "execution_count": 63,
   "metadata": {},
   "outputs": [
    {
     "data": {
      "text/plain": [
       "{'n_neighbors': 45}"
      ]
     },
     "execution_count": 63,
     "metadata": {},
     "output_type": "execute_result"
    }
   ],
   "source": [
    "# KNN Regression\n",
    "knn = KNeighborsRegressor()\n",
    "neighbors = list(range(1,51))\n",
    "\n",
    "param_grid = dict(n_neighbors = neighbors)\n",
    "knn_grid = GridSearchCV(knn, param_grid, cv=10)\n",
    "\n",
    "knn_grid.fit(features, target)\n",
    "y_pred = list(knn_grid.predict(features))\n",
    "knn_grid.score(features, target) \n",
    "knn_grid.best_params_"
   ]
  },
  {
   "cell_type": "code",
   "execution_count": 64,
   "metadata": {},
   "outputs": [
    {
     "data": {
      "text/plain": [
       "Text(0, 0.5, 'Mean Squared Error')"
      ]
     },
     "execution_count": 64,
     "metadata": {},
     "output_type": "execute_result"
    },
    {
     "data": {
      "image/png": "[encoded data removed]",
      "text/plain": [
       "<Figure size 432x288 with 1 Axes>"
      ]
     },
     "metadata": {
      "needs_background": "light"
     },
     "output_type": "display_data"
    }
   ],
   "source": [
    "# Graphing the MSE for each hyperparameter\n",
    "error = []\n",
    "for k in range(1,51):\n",
    "    knn = KNeighborsRegressor(n_neighbors=k)\n",
    "    y_pred = cross_val_predict(knn, features, target, cv=5)\n",
    "    error.append(mean_squared_error(target,y_pred))\n",
    "plt.plot(range(1,51),error)\n",
    "plt.xlabel('K nearest neighbors')\n",
    "plt.ylabel('Mean Squared Error')"
   ]
  },
  {
   "cell_type": "markdown",
   "metadata": {},
   "source": [
    "# Random Forest"
   ]
  },
  {
   "cell_type": "code",
   "execution_count": 69,
   "metadata": {},
   "outputs": [
    {
     "data": {
      "text/plain": [
       "array([-0.00131686,  0.01144278,  0.01833952, -0.0010079 ,  0.02080711,\n",
       "        0.02131999,  0.01144278,  0.01845916,  0.01144278, -0.00432263,\n",
       "        0.02165801,  0.00622467,  0.02198707,  0.02479784,  0.02198707,\n",
       "       -0.00558209,  0.01348874,  0.01366089,  0.00429176, -0.00677675,\n",
       "        0.03769918,  0.03975356,  0.02275933,  0.01144278,  0.03275349,\n",
       "        0.01243949,  0.01348874,  0.01833952,  0.02240976,  0.01144278,\n",
       "        0.01144278,  0.01144278,  0.02071234,  0.01634249,  0.01804176,\n",
       "        0.01833952,  0.01144278, -0.00432263,  0.02433745,  0.02088756,\n",
       "        0.00550004,  0.00758772,  0.01467156,  0.01174718,  0.01842146,\n",
       "        0.0222348 ,  0.01144278,  0.007174  ,  0.01348874,  0.01148335,\n",
       "        0.02866915,  0.02706341,  0.02538565,  0.01144278,  0.00622467,\n",
       "       -0.00432263,  0.02198707,  0.01144278,  0.01144278, -0.00107447,\n",
       "        0.01031775,  0.01833952,  0.00622467, -0.00432263,  0.01144278,\n",
       "        0.00292806,  0.02727811,  0.01144278,  0.01833952,  0.01021567])"
      ]
     },
     "execution_count": 69,
     "metadata": {},
     "output_type": "execute_result"
    }
   ],
   "source": [
    "from sklearn.ensemble import RandomForestRegressor\n",
    "rf = RandomForestRegressor()\n",
    "rf.fit(X_train, y_train)\n",
    "y_pred = rf.predict(X_test)\n",
    "y_pred"
   ]
  },
  {
   "cell_type": "code",
   "execution_count": 74,
   "metadata": {},
   "outputs": [
    {
     "data": {
      "text/plain": [
       "0.027478659129328165"
      ]
     },
     "execution_count": 74,
     "metadata": {},
     "output_type": "execute_result"
    }
   ],
   "source": [
    "mean_squared_error(y_test, y_pred)\n",
    "np.sqrt(mean_squared_error(y_test, y_pred))"
   ]
  },
  {
   "cell_type": "code",
   "execution_count": 82,
   "metadata": {},
   "outputs": [],
   "source": [
    "def Grid_Search_CV_RFR(X_train, y_train):\n",
    "    from sklearn.model_selection import GridSearchCV\n",
    "    from sklearn.model_selection import ShuffleSplit\n",
    "    from sklearn.ensemble import RandomForestRegressor\n",
    "\n",
    "    estimator = RandomForestRegressor()\n",
    "    param_grid = { \n",
    "            \"n_estimators\"      : [10,20,30],\n",
    "            \"max_features\"      : [\"auto\", \"sqrt\", \"log2\"],\n",
    "            \"min_samples_split\" : [2,4,8],\n",
    "            \"bootstrap\": [True, False],\n",
    "            }\n",
    "\n",
    "    grid = GridSearchCV(estimator, param_grid, n_jobs=-1, cv=5)\n",
    "\n",
    "    grid.fit(X_train, y_train)\n",
    "\n",
    "    return grid.best_score_ , grid.best_params_\n",
    "\n",
    "def RFR(X_train, X_test, y_train, y_test, best_params):\n",
    "    from sklearn.ensemble import RandomForestRegressor\n",
    "    estimator = RandomForestRegressor(n_jobs=-1).set_params(**best_params)\n",
    "    estimator.fit(X_train,y_train)\n",
    "    y_predict = estimator.predict(X_test)\n",
    "    print (\"R2 score:\",r2_score(y_test,y_predict))\n",
    "    return y_test,y_predict\n",
    "\n",
    "def splitter_v2(tab,y_indicator):\n",
    "    from sklearn.model_selection import train_test_split\n",
    "    # Asignamos X e y, eliminando la columna y en X\n",
    "    X = correlacion(tab,y_indicator)\n",
    "    y = tab[:,y_indicator]\n",
    "    # Separamos Train y Test respectivamente para X e y\n",
    "    X_train, X_test, y_train, y_test = train_test_split(X, y, test_size=0.2)\n",
    "    return X_train, X_test, y_train, y_test"
   ]
  },
  {
   "cell_type": "code",
   "execution_count": 83,
   "metadata": {},
   "outputs": [
    {
     "name": "stdout",
     "output_type": "stream",
     "text": [
      "Loop:  0\n",
      "--------------\n",
      "R2 score: -0.06842939399277825\n",
      "Best Score: -0.10393100535817457\n",
      "Best params: {'bootstrap': True, 'max_features': 'sqrt', 'min_samples_split': 8, 'n_estimators': 30}\n",
      "Loop:  1\n",
      "--------------\n",
      "R2 score: -0.1519241785455112\n",
      "Best Score: -0.12709906410949928\n",
      "Best params: {'bootstrap': True, 'max_features': 'log2', 'min_samples_split': 8, 'n_estimators': 20}\n",
      "Loop:  2\n",
      "--------------\n",
      "R2 score: -0.13126908130325154\n",
      "Best Score: -0.13202476804711605\n",
      "Best params: {'bootstrap': True, 'max_features': 'sqrt', 'min_samples_split': 8, 'n_estimators': 20}\n",
      "Loop:  3\n",
      "--------------\n",
      "R2 score: -0.06535928944382596\n",
      "Best Score: -0.10785626004803432\n",
      "Best params: {'bootstrap': True, 'max_features': 'sqrt', 'min_samples_split': 8, 'n_estimators': 20}\n",
      "Loop:  4\n",
      "--------------\n",
      "R2 score: -0.12282265731944997\n",
      "Best Score: -0.08454897014622972\n",
      "Best params: {'bootstrap': True, 'max_features': 'log2', 'min_samples_split': 8, 'n_estimators': 10}\n"
     ]
    }
   ],
   "source": [
    "for i in range(5):\n",
    "    print (\"Loop: \" , i)\n",
    "    print (\"--------------\")\n",
    "    X_train, X_test, y_train, y_test = splitter_v2(tabla,1)\n",
    "    best_score, best_params = Grid_Search_CV_RFR(X_train, y_train)\n",
    "    y_test , y_predict = RFR(X_train, X_test, y_train, y_test, best_params)\n",
    "    print (\"Best Score:\" ,best_score)\n",
    "    print (\"Best params:\",best_params)"
   ]
  },
  {
   "cell_type": "code",
   "execution_count": null,
   "metadata": {},
   "outputs": [],
   "source": [
    "\n",
    "\n",
    "import random\n",
    "\n",
    "random.seed(0)\n",
    "\n",
    "train_tickers = list(random.sample(list(dt.index.get_level_values(0).unique()), 400))\n",
    "test_tickers = [x for x in dt.index.get_level_values(0).unique() if x not in train_tickers]\n",
    "\n",
    "import numpy as np \n",
    "\n",
    "X_train = np.array([features[features.index.get_level_values(0) == ticker].values.tolist() for ticker in train_tickers])\n",
    "y_train = np.array([target[target.index.get_level_values(0) == ticker].values.tolist() for ticker in train_tickers])\n",
    "\n",
    "X_test = np.array([features[features.index.get_level_values(0) == ticker].values.tolist() for ticker in test_tickers])\n",
    "y_test = np.array([target[target.index.get_level_values(0) == ticker].values.tolist() for ticker in test_tickers])\n",
    "\n",
    "X_test[1]\n",
    "\n",
    "\n"
   ]
  },
  {
   "cell_type": "code",
   "execution_count": null,
   "metadata": {},
   "outputs": [],
   "source": [
    "\n",
    "from tensorflow.keras.models import Sequential\n",
    "from tensorflow.keras.layers import Dense, Dropout, LSTM\n",
    "from tensorflow.keras.callbacks import EarlyStopping\n",
    "\n",
    "model = Sequential()\n",
    "model.add(LSTM(units = 10, return_sequences = True, input_shape = (X_train.shape[1], X_train.shape[2])))\n",
    "model.add(LSTM(units = 5))\n",
    "model.add(Dense(units = 1))\n",
    "\n",
    "early_stop = EarlyStopping(monitor='loss', patience=10, verbose=1)\n",
    "\n",
    "model.compile(optimizer = \"adam\", loss = \"mean_squared_error\")\n",
    "\n",
    "model.fit(X_train, y_train, epochs = 50, batch_size = 30, callbacks=[early_stop])\n",
    "\n",
    "model.summary()\n",
    "\n",
    "y_test_pred = model.predict(X_test)\n",
    "\n",
    "y_test_pred\n"
   ]
  },
  {
   "cell_type": "code",
   "execution_count": null,
   "metadata": {},
   "outputs": [],
   "source": [
    "\n",
    "\n",
    "import matplotlib.pyplot as plt\n",
    "\n",
    "plt.scatter(y_test, y_test_pred)\n",
    "plt.show()\n",
    "\n",
    "from sklearn.metrics import mean_squared_error\n",
    "\n",
    "np.sqrt(mean_squared_error(y_test, y_test_pred))\n",
    "\n",
    "preds = pd.DataFrame({\"Predicted\": y_test_pred.flatten(), \"Actual\": y_test.flatten()})\n",
    "preds.plot()\n",
    "\n",
    "results = pd.DataFrame({\"Predicted\": y_test_pred.flatten(), \"Actual\": y_test.flatten()}, index = test_tickers)\n",
    "\n",
    "results.head()\n",
    "\n",
    "t_0 = features[features.index.get_level_values(1) == '11/25/2020'][[\"return\", \"sent_score\"]].reset_index(level = 1)\n",
    "\n",
    "res = results.merge(t_0, how = \"left\", left_index = True, right_index = True)\n",
    "\n",
    "res.rename(columns = {\"return\": \"t-1\"}, inplace = True)\n",
    "res.drop(columns = [\"date\"], inplace = True)\n",
    "\n",
    "res.head()\n",
    "\n",
    "ups = res[res[\"Predicted\"] > res[\"t-1\"]]\n",
    "\n",
    "downs = res[res[\"Predicted\"] < res[\"t-1\"]]"
   ]
  },
  {
   "cell_type": "code",
   "execution_count": null,
   "metadata": {},
   "outputs": [],
   "source": [
    "\n",
    "print(\"Ups: {} Downs: {}\".format(ups.shape[0], downs.shape[0]))\n",
    "\n",
    "print(\"Out of {} predicted ups, {} actually went up\".format(ups.shape[0], res[(res[\"Predicted\"] > res[\"t-1\"]) & (res[\"Actual\"] > res[\"t-1\"])].shape[0]))\n",
    "\n",
    "print(\"Out of {} predicted downs, {} actually went down\".format(downs.shape[0], res[(res[\"Predicted\"] < res[\"t-1\"]) & (res[\"Actual\"] < res[\"t-1\"])].shape[0]))\n",
    "\n",
    "abs_up_ret = (ups[\"Actual\"] - ups[\"t-1\"]).sum()\n",
    "print(\"If we bought equally-weighted shares of each predicted up, we would have made: {:.2f}\".format(abs_up_ret))\n",
    "print(\"Of a total investment of {:.2f}, that's a 1-day return of {:.2f}%\".format(ups[\"t-1\"].sum(), abs_up_ret / ups[\"t-1\"].sum() * 100))\n",
    "print(\"Annualized, that figure is {:.2f}%\".format((np.power(1 + abs_up_ret / ups[\"t-1\"].sum(), 251) - 1) * 100))\n",
    "\n",
    "abs_down_ret = (downs[\"t-1\"] - downs[\"Actual\"]).sum()\n",
    "print(\"If we shorted equally-weighted shares of each predicted down, we would have made: {:.2f}\".format(abs_down_ret))\n",
    "print(\"Of a total investment of {:.2f} (@150% margin), that's a 1-day return of {:.2f}%\".format(downs[\"t-1\"].sum() * 1.5, abs_down_ret / (downs[\"t-1\"].sum() * 1.5) * 100))\n",
    "print(\"Annualized, that figure is {:.2f}%\".format((np.power(1 + abs_down_ret / (downs[\"t-1\"].sum() * 1.5), 251) - 1) * 100))\n",
    "\n",
    "# Impact of sentiment on performance\n",
    "\n",
    "top_sent = res.nlargest(20, columns = \"sent_score\")\n",
    "low_sent = res.nsmallest(20, columns = \"sent_score\")\n",
    "\n",
    "print(\"Of 20 companies with highest sentiment at t-1, {} went up, {} went down\".format(top_sent[top_sent[\"Actual\"] > top_sent[\"t-1\"]].shape[0], top_sent[top_sent[\"Actual\"] < top_sent[\"t-1\"]].shape[0]))\n",
    "\n",
    "print(\"Equal-weighted price return (long highest sentiment companies): {:.2f}\".format((top_sent[\"Actual\"] - top_sent[\"t-1\"]).sum()))\n",
    "\n",
    "print(\"Of 20 companies with lowest sentiment at t-1, {} went up, {} went down\".format(low_sent[low_sent[\"Actual\"] > low_sent[\"t-1\"]].shape[0], low_sent[low_sent[\"Actual\"] < low_sent[\"t-1\"]].shape[0]))\n",
    "\n",
    "print(\"Equal-weighted price return (short lowest sentiment companies): {:.2f}\".format((low_sent[\"t-1\"] - low_sent[\"Actual\"]).sum()))\n",
    "\n",
    "tr = (top_sent[\"Actual\"] - top_sent[\"t-1\"]).sum() + (low_sent[\"t-1\"] - low_sent[\"Actual\"]).sum()\n",
    "print(\"Strategy: Long Top 20 Sentiment, Short Worst 20 Sentiment\")\n",
    "print(\"Net price return: {:.2f}\".format(tr))\n",
    "print(\"Net 1-day : {:.2f}%\\nAnnualized: {:.2f}%\".format(100 * tr / (top_sent[\"t-1\"].sum() + 1.5 * low_sent[\"t-1\"].sum()), (np.power(1 + tr / (top_sent[\"t-1\"].sum() + 1.5 * low_sent[\"t-1\"].sum()), 251) - 1) * 100))\n"
   ]
  },
  {
   "cell_type": "code",
   "execution_count": null,
   "metadata": {},
   "outputs": [],
   "source": []
  }
 ],
 "metadata": {
  "kernelspec": {
   "display_name": "Python 3",
   "language": "python",
   "name": "python3"
  },
  "language_info": {
   "codemirror_mode": {
    "name": "ipython",
    "version": 3
   },
   "file_extension": ".py",
   "mimetype": "text/x-python",
   "name": "python",
   "nbconvert_exporter": "python",
   "pygments_lexer": "ipython3",
   "version": "3.8.5"
  }
 },
 "nbformat": 4,
 "nbformat_minor": 4
}
