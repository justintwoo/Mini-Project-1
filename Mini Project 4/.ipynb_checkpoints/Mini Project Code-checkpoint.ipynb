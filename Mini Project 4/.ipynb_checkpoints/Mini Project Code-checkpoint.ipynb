{
 "cells": [
  {
   "cell_type": "code",
<<<<<<< HEAD:Mini Project 4/Jason's Code copy.ipynb
   "execution_count": 3,
=======
   "execution_count": 1,
>>>>>>> 587017f71e6aa36718ee89fdb6c1839975ad7bfd:Mini Project 4/.ipynb_checkpoints/Mini Project Code-checkpoint.ipynb
   "metadata": {},
   "outputs": [],
   "source": [
    "\n",
    "# -*- coding: utf-8 -*-\n",
    "\n",
    "# -- Sheet --\n",
    "\n",
    "import pandas as pd \n",
    "import re\n",
    "import os\n",
    "import string\n",
    "import csv\n",
    "import sys\n",
    "import datetime\n",
    "import numpy as np\n",
    "import matplotlib.pyplot as plt\n",
    "\n",
    "from sklearn.model_selection import train_test_split\n",
    "from sklearn.linear_model import LinearRegression\n",
    "from sklearn.metrics import mean_squared_error, r2_score\n",
    "\n",
    "from sklearn.neighbors import KNeighborsRegressor\n",
    "from sklearn.model_selection import GridSearchCV\n",
    "from sklearn.model_selection import cross_val_predict"
   ]
  },
  {
   "cell_type": "code",
<<<<<<< HEAD:Mini Project 4/Jason's Code copy.ipynb
   "execution_count": 26,
=======
   "execution_count": 2,
>>>>>>> 587017f71e6aa36718ee89fdb6c1839975ad7bfd:Mini Project 4/.ipynb_checkpoints/Mini Project Code-checkpoint.ipynb
   "metadata": {},
   "outputs": [
    {
     "name": "stdout",
     "output_type": "stream",
     "text": [
      "  ticker                         created            id  polarity1 sentiment  \\\n",
      "0    MMM  Mon Apr 04 18:53:44 +0000 2022  1.510000e+18   0.106667  positive   \n",
      "1    MMM  Mon Apr 04 16:55:27 +0000 2022  1.510000e+18   0.000000   neutral   \n",
      "2    MMM  Mon Apr 04 16:00:46 +0000 2022  1.510000e+18   0.000000   neutral   \n",
      "3    MMM  Mon Apr 04 14:30:00 +0000 2022  1.510000e+18   0.000000   neutral   \n",
      "4    MMM  Fri Apr 01 14:48:13 +0000 2022  1.510000e+18   1.000000  positive   \n",
      "\n",
      "   subjectivity1  polarity2  subjectivity2  \n",
      "0       0.526667   0.106667       0.526667  \n",
      "1       0.000000   0.000000       0.000000  \n",
      "2       0.100000   0.000000       0.000000  \n",
      "3       0.000000   0.000000       0.000000  \n",
      "4       0.300000   1.000000       0.300000  \n"
     ]
    },
    {
     "data": {
      "text/html": [
       "<div>\n",
       "<style scoped>\n",
       "    .dataframe tbody tr th:only-of-type {\n",
       "        vertical-align: middle;\n",
       "    }\n",
       "\n",
       "    .dataframe tbody tr th {\n",
       "        vertical-align: top;\n",
       "    }\n",
       "\n",
       "    .dataframe thead th {\n",
       "        text-align: right;\n",
       "    }\n",
       "</style>\n",
       "<table border=\"1\" class=\"dataframe\">\n",
       "  <thead>\n",
       "    <tr style=\"text-align: right;\">\n",
       "      <th></th>\n",
       "      <th>ticker</th>\n",
       "      <th>change</th>\n",
       "    </tr>\n",
       "  </thead>\n",
       "  <tbody>\n",
       "    <tr>\n",
       "      <th>0</th>\n",
       "      <td>MMM</td>\n",
       "      <td>-0.016707</td>\n",
       "    </tr>\n",
       "    <tr>\n",
       "      <th>1</th>\n",
       "      <td>AOS</td>\n",
       "      <td>-0.012981</td>\n",
       "    </tr>\n",
       "    <tr>\n",
       "      <th>2</th>\n",
       "      <td>ABT</td>\n",
       "      <td>-0.007476</td>\n",
       "    </tr>\n",
       "    <tr>\n",
       "      <th>3</th>\n",
       "      <td>ABBV</td>\n",
       "      <td>-0.001954</td>\n",
       "    </tr>\n",
       "    <tr>\n",
       "      <th>4</th>\n",
       "      <td>ABMD</td>\n",
       "      <td>-0.017808</td>\n",
       "    </tr>\n",
       "  </tbody>\n",
       "</table>\n",
       "</div>"
      ],
      "text/plain": [
       "  ticker    change\n",
       "0    MMM -0.016707\n",
       "1    AOS -0.012981\n",
       "2    ABT -0.007476\n",
       "3   ABBV -0.001954\n",
       "4   ABMD -0.017808"
      ]
     },
<<<<<<< HEAD:Mini Project 4/Jason's Code copy.ipynb
     "execution_count": 26,
=======
     "execution_count": 2,
>>>>>>> 587017f71e6aa36718ee89fdb6c1839975ad7bfd:Mini Project 4/.ipynb_checkpoints/Mini Project Code-checkpoint.ipynb
     "metadata": {},
     "output_type": "execute_result"
    }
   ],
   "source": [
    "tweet_data = pd.read_csv(\"sentimenttweets.csv\")\n",
    "print(tweet_data.head())\n",
    "\n",
    "returns_data = pd.read_csv(\"stocks.csv\")\n",
    "returns_data.head()\n"
   ]
  },
  {
   "cell_type": "code",
<<<<<<< HEAD:Mini Project 4/Jason's Code copy.ipynb
=======
   "execution_count": 3,
   "metadata": {},
   "outputs": [
    {
     "data": {
      "text/plain": [
       "377"
      ]
     },
     "execution_count": 3,
     "metadata": {},
     "output_type": "execute_result"
    }
   ],
   "source": [
    "tweet_data['ticker'].nunique()"
   ]
  },
  {
   "cell_type": "code",
   "execution_count": 4,
   "metadata": {},
   "outputs": [
    {
     "data": {
      "text/plain": [
       "0.03168971768928703"
      ]
     },
     "execution_count": 4,
     "metadata": {},
     "output_type": "execute_result"
    }
   ],
   "source": [
    "std_target = returns_data['change'].std()\n",
    "std_target"
   ]
  },
  {
   "cell_type": "code",
>>>>>>> 587017f71e6aa36718ee89fdb6c1839975ad7bfd:Mini Project 4/.ipynb_checkpoints/Mini Project Code-checkpoint.ipynb
   "execution_count": 5,
   "metadata": {},
   "outputs": [
    {
     "data": {
      "text/html": [
       "<div>\n",
       "<style scoped>\n",
       "    .dataframe tbody tr th:only-of-type {\n",
       "        vertical-align: middle;\n",
       "    }\n",
       "\n",
       "    .dataframe tbody tr th {\n",
       "        vertical-align: top;\n",
       "    }\n",
       "\n",
       "    .dataframe thead th {\n",
       "        text-align: right;\n",
       "    }\n",
       "</style>\n",
       "<table border=\"1\" class=\"dataframe\">\n",
       "  <thead>\n",
       "    <tr style=\"text-align: right;\">\n",
       "      <th></th>\n",
       "      <th>ticker</th>\n",
       "      <th>id</th>\n",
       "      <th>polarity1</th>\n",
       "      <th>subjectivity1</th>\n",
       "      <th>polarity2</th>\n",
       "      <th>subjectivity2</th>\n",
       "      <th>change</th>\n",
       "    </tr>\n",
       "  </thead>\n",
       "  <tbody>\n",
       "    <tr>\n",
       "      <th>0</th>\n",
       "      <td>A</td>\n",
       "      <td>1.510000e+18</td>\n",
       "      <td>0.137614</td>\n",
       "      <td>0.277176</td>\n",
       "      <td>0.132364</td>\n",
       "      <td>0.272676</td>\n",
       "      <td>-0.016241</td>\n",
       "    </tr>\n",
       "    <tr>\n",
       "      <th>1</th>\n",
       "      <td>AAL</td>\n",
       "      <td>1.510000e+18</td>\n",
       "      <td>0.092037</td>\n",
       "      <td>0.243148</td>\n",
       "      <td>0.055926</td>\n",
       "      <td>0.273704</td>\n",
       "      <td>-0.011634</td>\n",
       "    </tr>\n",
       "    <tr>\n",
       "      <th>2</th>\n",
       "      <td>AAP</td>\n",
       "      <td>1.510000e+18</td>\n",
       "      <td>0.106667</td>\n",
       "      <td>0.526667</td>\n",
       "      <td>0.106667</td>\n",
       "      <td>0.526667</td>\n",
       "      <td>-0.000425</td>\n",
       "    </tr>\n",
       "    <tr>\n",
       "      <th>3</th>\n",
       "      <td>AAPL</td>\n",
       "      <td>1.510000e+18</td>\n",
       "      <td>0.115024</td>\n",
       "      <td>0.333631</td>\n",
       "      <td>0.110274</td>\n",
       "      <td>0.360131</td>\n",
       "      <td>-0.015244</td>\n",
       "    </tr>\n",
       "    <tr>\n",
       "      <th>4</th>\n",
       "      <td>ABBV</td>\n",
       "      <td>1.510000e+18</td>\n",
       "      <td>0.287140</td>\n",
       "      <td>0.296502</td>\n",
       "      <td>0.287140</td>\n",
       "      <td>0.285391</td>\n",
       "      <td>-0.001954</td>\n",
       "    </tr>\n",
       "    <tr>\n",
       "      <th>...</th>\n",
       "      <td>...</td>\n",
       "      <td>...</td>\n",
       "      <td>...</td>\n",
       "      <td>...</td>\n",
       "      <td>...</td>\n",
       "      <td>...</td>\n",
       "      <td>...</td>\n",
       "    </tr>\n",
       "    <tr>\n",
       "      <th>369</th>\n",
       "      <td>YUM</td>\n",
       "      <td>1.510000e+18</td>\n",
       "      <td>0.000000</td>\n",
       "      <td>0.000000</td>\n",
       "      <td>0.000000</td>\n",
       "      <td>0.000000</td>\n",
       "      <td>0.000759</td>\n",
       "    </tr>\n",
       "    <tr>\n",
       "      <th>370</th>\n",
       "      <td>ZBH</td>\n",
       "      <td>1.510000e+18</td>\n",
       "      <td>0.000000</td>\n",
       "      <td>0.000000</td>\n",
       "      <td>0.000000</td>\n",
       "      <td>0.000000</td>\n",
       "      <td>-0.000391</td>\n",
       "    </tr>\n",
       "    <tr>\n",
       "      <th>371</th>\n",
       "      <td>ZBRA</td>\n",
       "      <td>1.510000e+18</td>\n",
       "      <td>0.000000</td>\n",
       "      <td>0.000000</td>\n",
       "      <td>0.000000</td>\n",
       "      <td>0.000000</td>\n",
       "      <td>0.022238</td>\n",
       "    </tr>\n",
       "    <tr>\n",
       "      <th>372</th>\n",
       "      <td>ZION</td>\n",
       "      <td>1.510000e+18</td>\n",
       "      <td>0.000000</td>\n",
       "      <td>0.000000</td>\n",
       "      <td>0.000000</td>\n",
       "      <td>0.000000</td>\n",
       "      <td>-0.028829</td>\n",
       "    </tr>\n",
       "    <tr>\n",
       "      <th>373</th>\n",
       "      <td>ZTS</td>\n",
       "      <td>1.510000e+18</td>\n",
       "      <td>0.133333</td>\n",
       "      <td>0.222222</td>\n",
       "      <td>0.108333</td>\n",
       "      <td>0.222222</td>\n",
       "      <td>0.014794</td>\n",
       "    </tr>\n",
       "  </tbody>\n",
       "</table>\n",
       "<p>374 rows × 7 columns</p>\n",
       "</div>"
      ],
      "text/plain": [
       "    ticker            id  polarity1  subjectivity1  polarity2  subjectivity2  \\\n",
       "0        A  1.510000e+18   0.137614       0.277176   0.132364       0.272676   \n",
       "1      AAL  1.510000e+18   0.092037       0.243148   0.055926       0.273704   \n",
       "2      AAP  1.510000e+18   0.106667       0.526667   0.106667       0.526667   \n",
       "3     AAPL  1.510000e+18   0.115024       0.333631   0.110274       0.360131   \n",
       "4     ABBV  1.510000e+18   0.287140       0.296502   0.287140       0.285391   \n",
       "..     ...           ...        ...            ...        ...            ...   \n",
       "369    YUM  1.510000e+18   0.000000       0.000000   0.000000       0.000000   \n",
       "370    ZBH  1.510000e+18   0.000000       0.000000   0.000000       0.000000   \n",
       "371   ZBRA  1.510000e+18   0.000000       0.000000   0.000000       0.000000   \n",
       "372   ZION  1.510000e+18   0.000000       0.000000   0.000000       0.000000   \n",
       "373    ZTS  1.510000e+18   0.133333       0.222222   0.108333       0.222222   \n",
       "\n",
       "       change  \n",
       "0   -0.016241  \n",
       "1   -0.011634  \n",
       "2   -0.000425  \n",
       "3   -0.015244  \n",
       "4   -0.001954  \n",
       "..        ...  \n",
       "369  0.000759  \n",
       "370 -0.000391  \n",
       "371  0.022238  \n",
       "372 -0.028829  \n",
       "373  0.014794  \n",
       "\n",
       "[374 rows x 7 columns]"
      ]
     },
     "execution_count": 5,
     "metadata": {},
     "output_type": "execute_result"
    }
   ],
   "source": [
    "tweet_agg = tweet_data.groupby(['ticker'],as_index=False).mean()\n",
    "pd_data = tweet_agg.merge(returns_data)\n",
    "pd_data"
   ]
  },
  {
   "cell_type": "code",
   "execution_count": 6,
   "metadata": {},
   "outputs": [
    {
     "name": "stderr",
     "output_type": "stream",
     "text": [
      "<ipython-input-6-6b05766f9d27>:2: FutureWarning: Dropping of nuisance columns in DataFrame reductions (with 'numeric_only=None') is deprecated; in a future version this will raise TypeError.  Select only valid columns before calling the reduction.\n",
      "  pd_data.mean()\n"
     ]
    },
    {
     "data": {
      "text/plain": [
       "id               1.510000e+18\n",
       "polarity1        1.165467e-01\n",
       "subjectivity1    2.577170e-01\n",
       "polarity2        1.101422e-01\n",
       "subjectivity2    2.584687e-01\n",
       "change          -1.550989e-02\n",
       "dtype: float64"
      ]
     },
     "execution_count": 6,
     "metadata": {},
     "output_type": "execute_result"
    }
   ],
   "source": [
    "pos_data = pd_data[pd_data['polarity2'] != 0]\n",
    "pd_data.mean()"
   ]
  },
  {
   "cell_type": "code",
   "execution_count": 7,
   "metadata": {},
   "outputs": [],
   "source": [
    "def get_sent(row):\n",
    "    if row[4] > 0:\n",
    "        val = 'positive'\n",
    "    elif row[4] < 0:\n",
    "        val = 'negative'\n",
    "    else:\n",
    "        val = 'neutral'\n",
    "    return val"
   ]
  },
  {
   "cell_type": "code",
   "execution_count": 8,
   "metadata": {},
   "outputs": [
    {
     "data": {
      "text/html": [
       "<div>\n",
       "<style scoped>\n",
       "    .dataframe tbody tr th:only-of-type {\n",
       "        vertical-align: middle;\n",
       "    }\n",
       "\n",
       "    .dataframe tbody tr th {\n",
       "        vertical-align: top;\n",
       "    }\n",
       "\n",
       "    .dataframe thead th {\n",
       "        text-align: right;\n",
       "    }\n",
       "</style>\n",
       "<table border=\"1\" class=\"dataframe\">\n",
       "  <thead>\n",
       "    <tr style=\"text-align: right;\">\n",
       "      <th></th>\n",
       "      <th>id</th>\n",
       "      <th>polarity1</th>\n",
       "      <th>subjectivity1</th>\n",
       "      <th>polarity2</th>\n",
       "      <th>subjectivity2</th>\n",
       "      <th>change</th>\n",
       "    </tr>\n",
       "    <tr>\n",
       "      <th>sentiment</th>\n",
       "      <th></th>\n",
       "      <th></th>\n",
       "      <th></th>\n",
       "      <th></th>\n",
       "      <th></th>\n",
       "      <th></th>\n",
       "    </tr>\n",
       "  </thead>\n",
       "  <tbody>\n",
       "    <tr>\n",
       "      <th>negative</th>\n",
       "      <td>1.510000e+18</td>\n",
       "      <td>-0.062723</td>\n",
       "      <td>0.225447</td>\n",
       "      <td>-0.071956</td>\n",
       "      <td>0.223206</td>\n",
       "      <td>-0.020941</td>\n",
       "    </tr>\n",
       "    <tr>\n",
       "      <th>neutral</th>\n",
       "      <td>1.510000e+18</td>\n",
       "      <td>0.000410</td>\n",
       "      <td>0.061013</td>\n",
       "      <td>0.000000</td>\n",
       "      <td>0.061013</td>\n",
       "      <td>-0.011511</td>\n",
       "    </tr>\n",
       "    <tr>\n",
       "      <th>positive</th>\n",
       "      <td>1.510000e+18</td>\n",
       "      <td>0.174855</td>\n",
       "      <td>0.308528</td>\n",
       "      <td>0.167576</td>\n",
       "      <td>0.309981</td>\n",
       "      <td>-0.015467</td>\n",
       "    </tr>\n",
       "  </tbody>\n",
       "</table>\n",
       "</div>"
      ],
      "text/plain": [
       "                     id  polarity1  subjectivity1  polarity2  subjectivity2  \\\n",
       "sentiment                                                                     \n",
       "negative   1.510000e+18  -0.062723       0.225447  -0.071956       0.223206   \n",
       "neutral    1.510000e+18   0.000410       0.061013   0.000000       0.061013   \n",
       "positive   1.510000e+18   0.174855       0.308528   0.167576       0.309981   \n",
       "\n",
       "             change  \n",
       "sentiment            \n",
       "negative  -0.020941  \n",
       "neutral   -0.011511  \n",
       "positive  -0.015467  "
      ]
     },
     "execution_count": 8,
     "metadata": {},
     "output_type": "execute_result"
    }
   ],
   "source": [
    "pd_data['sentiment'] = pd_data.apply(get_sent, axis=1)\n",
    "pd_data.groupby(['sentiment']).mean()"
   ]
  },
  {
   "cell_type": "code",
   "execution_count": 9,
<<<<<<< HEAD:Mini Project 4/Jason's Code copy.ipynb
=======
   "metadata": {},
   "outputs": [
    {
     "data": {
      "image/png": "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\n",
      "text/plain": [
       "<Figure size 432x288 with 1 Axes>"
      ]
     },
     "metadata": {
      "needs_background": "light"
     },
     "output_type": "display_data"
    }
   ],
   "source": [
    "counts = pd_data['sentiment'].value_counts()\n",
    "counts.plot(kind='bar',rot=360)\n",
    "plt.grid()"
   ]
  },
  {
   "cell_type": "code",
   "execution_count": 10,
>>>>>>> 587017f71e6aa36718ee89fdb6c1839975ad7bfd:Mini Project 4/.ipynb_checkpoints/Mini Project Code-checkpoint.ipynb
   "metadata": {},
   "outputs": [
    {
     "data": {
      "text/plain": [
       "positive    266\n",
       "neutral      61\n",
       "negative     47\n",
       "Name: sentiment, dtype: int64"
      ]
     },
<<<<<<< HEAD:Mini Project 4/Jason's Code copy.ipynb
     "execution_count": 9,
=======
     "execution_count": 10,
>>>>>>> 587017f71e6aa36718ee89fdb6c1839975ad7bfd:Mini Project 4/.ipynb_checkpoints/Mini Project Code-checkpoint.ipynb
     "metadata": {},
     "output_type": "execute_result"
    }
   ],
   "source": [
    "pd_data['sentiment'].value_counts()"
   ]
  },
  {
   "cell_type": "markdown",
   "metadata": {},
   "source": [
    "# Top 20 results\n"
   ]
  },
  {
   "cell_type": "code",
<<<<<<< HEAD:Mini Project 4/Jason's Code copy.ipynb
   "execution_count": 34,
=======
   "execution_count": 11,
>>>>>>> 587017f71e6aa36718ee89fdb6c1839975ad7bfd:Mini Project 4/.ipynb_checkpoints/Mini Project Code-checkpoint.ipynb
   "metadata": {},
   "outputs": [
    {
     "name": "stdout",
     "output_type": "stream",
     "text": [
      "                     id  polarity1  subjectivity1  polarity2  subjectivity2  \\\n",
      "sentiment                                                                     \n",
<<<<<<< HEAD:Mini Project 4/Jason's Code copy.ipynb
      "positive   1.510000e+18   0.565729       0.319644   0.566087       0.316099   \n",
      "\n",
      "             change  \n",
      "sentiment            \n",
      "positive  -0.025616  \n",
      "                     id  polarity1  subjectivity1  polarity2  subjectivity2  \\\n",
      "sentiment                                                                     \n",
      "negative   1.510000e+18  -0.122979       0.273028  -0.133278       0.270556   \n",
      "\n",
      "             change  \n",
      "sentiment            \n",
      "negative  -0.015116  \n"
=======
      "positive   1.510000e+18   0.603101       0.330359   0.600006       0.326311   \n",
      "\n",
      "             change     volume  \n",
      "sentiment                       \n",
      "positive  -0.013636  2030148.0  \n",
      "                     id  polarity1  subjectivity1  polarity2  subjectivity2  \\\n",
      "sentiment                                                                     \n",
      "negative   1.510000e+18  -0.178519        0.24463  -0.178519        0.24463   \n",
      "\n",
      "            change    volume  \n",
      "sentiment                     \n",
      "negative  -0.01905  925640.0  \n"
>>>>>>> 587017f71e6aa36718ee89fdb6c1839975ad7bfd:Mini Project 4/.ipynb_checkpoints/Mini Project Code-checkpoint.ipynb
     ]
    }
   ],
   "source": [
    "neg_data = pd_data.sort_values('polarity2').head(10)\n",
    "pos_data = pd_data.sort_values('polarity2').tail(10)\n",
    "print(pos_data.groupby(['sentiment']).mean())\n",
    "print(neg_data.groupby(['sentiment']).mean())"
   ]
  },
  {
   "cell_type": "code",
   "execution_count": null,
   "metadata": {},
   "outputs": [],
   "source": []
  },
  {
   "cell_type": "markdown",
   "metadata": {},
   "source": [
    "# Splitting Data"
   ]
  },
  {
   "cell_type": "code",
<<<<<<< HEAD:Mini Project 4/Jason's Code copy.ipynb
   "execution_count": 10,
=======
   "execution_count": 12,
>>>>>>> 587017f71e6aa36718ee89fdb6c1839975ad7bfd:Mini Project 4/.ipynb_checkpoints/Mini Project Code-checkpoint.ipynb
   "metadata": {},
   "outputs": [],
   "source": [
    "target = pd_data['change']\n",
    "features = pd_data[['polarity2','subjectivity2']]"
   ]
  },
  {
   "cell_type": "code",
<<<<<<< HEAD:Mini Project 4/Jason's Code copy.ipynb
   "execution_count": 11,
=======
   "execution_count": 13,
   "metadata": {},
   "outputs": [
    {
     "data": {
      "text/plain": [
       "array([[<AxesSubplot:title={'center':'polarity2'}>,\n",
       "        <AxesSubplot:title={'center':'subjectivity2'}>],\n",
       "       [<AxesSubplot:title={'center':'volume'}>, <AxesSubplot:>]],\n",
       "      dtype=object)"
      ]
     },
     "execution_count": 13,
     "metadata": {},
     "output_type": "execute_result"
    },
    {
     "data": {
      "image/png": "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\n",
      "text/plain": [
       "<Figure size 432x288 with 4 Axes>"
      ]
     },
     "metadata": {
      "needs_background": "light"
     },
     "output_type": "display_data"
    }
   ],
   "source": [
    "features.hist()"
   ]
  },
  {
   "cell_type": "code",
   "execution_count": 14,
   "metadata": {},
   "outputs": [
    {
     "data": {
      "text/plain": [
       "<AxesSubplot:>"
      ]
     },
     "execution_count": 14,
     "metadata": {},
     "output_type": "execute_result"
    },
    {
     "data": {
      "image/png": "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\n",
      "text/plain": [
       "<Figure size 432x288 with 1 Axes>"
      ]
     },
     "metadata": {
      "needs_background": "light"
     },
     "output_type": "display_data"
    }
   ],
   "source": [
    "target.hist()"
   ]
  },
  {
   "cell_type": "code",
   "execution_count": 36,
>>>>>>> 587017f71e6aa36718ee89fdb6c1839975ad7bfd:Mini Project 4/.ipynb_checkpoints/Mini Project Code-checkpoint.ipynb
   "metadata": {},
   "outputs": [],
   "source": [
    "X_train, X_test, y_train, y_test = train_test_split(features, target, random_state = 0, test_size = 0.2)"
   ]
  },
  {
   "cell_type": "markdown",
   "metadata": {},
   "source": [
    "# LinearRegressor"
   ]
  },
  {
   "cell_type": "code",
<<<<<<< HEAD:Mini Project 4/Jason's Code copy.ipynb
   "execution_count": 25,
=======
   "execution_count": 37,
>>>>>>> 587017f71e6aa36718ee89fdb6c1839975ad7bfd:Mini Project 4/.ipynb_checkpoints/Mini Project Code-checkpoint.ipynb
   "metadata": {},
   "outputs": [
    {
     "name": "stdout",
     "output_type": "stream",
     "text": [
      "\n",
      "The model performance for training set\n",
      "--------------------------------------\n",
      "MSE is 0.0009550571763899632\n",
      "RMSE is 0.030903999359143845\n",
      "R2 is -0.002849509995327848\n",
      "\n",
      "\n",
      "\n",
      "The model performance for training set\n",
      "--------------------------------------\n",
      "MSE is 0.0013725925083551357\n",
      "RMSE is 0.03704851560258705\n",
      "R2 is -0.017075084915006755\n",
      "\n",
      "\n"
     ]
    }
   ],
   "source": [
    "lr = LinearRegression()\n",
    "lr = lr.fit(X_train, y_train)\n",
    "\n",
    "prediction = lr.predict(X_test)\n",
    "\n",
    "mse = mean_squared_error(y_test, prediction)\n",
    "r2 = r2_score(y_test, prediction)\n",
    "\n",
    "print(\"\\nThe model performance for training set\")\n",
    "print(\"--------------------------------------\")\n",
    "print('MSE is {}'.format(mse))\n",
    "print('RMSE is {}'.format(np.sqrt(mse)))\n",
    "print('R2 is {}'.format(r2))\n",
    "\n",
    "print(\"\\n\")\n",
    "\n",
    "y_pred = cross_val_predict(LinearRegression(), features, target, cv=5)\n",
    "mse = mean_squared_error(target, y_pred)\n",
    "r2 = r2_score(target, y_pred)\n",
    "\n",
    "print(\"\\nThe model performance for training set\")\n",
    "print(\"--------------------------------------\")\n",
    "print('MSE is {}'.format(mse))\n",
    "print('RMSE is {}'.format(np.sqrt(mse)))\n",
    "print('R2 is {}'.format(r2))\n",
    "\n",
    "print(\"\\n\")"
   ]
  },
  {
   "cell_type": "code",
<<<<<<< HEAD:Mini Project 4/Jason's Code copy.ipynb
   "execution_count": 23,
=======
   "execution_count": 62,
   "metadata": {},
   "outputs": [],
   "source": [
    "def get_predictions(actual, predict):\n",
    "    over = 0\n",
    "    over_num = 0\n",
    "    under = 0\n",
    "    under_num = 0\n",
    "    correct = 0\n",
    "    for i in range(len(actual)):\n",
    "        if actual[i] > predict[i]:\n",
    "            under += 1\n",
    "            under_num += abs(actual[i] - predict[i])\n",
    "        elif actual[i] < predict[i]:\n",
    "            over += 1\n",
    "            over_num += abs(actual[i] - predict[i])\n",
    "        else:\n",
    "            correct += 1\n",
    "    over_avg = over_num / over\n",
    "    under_avg = under_num / under\n",
    "    return (over, over_num, over_avg, under, under_num, under_avg, correct)"
   ]
  },
  {
   "cell_type": "code",
   "execution_count": 69,
   "metadata": {},
   "outputs": [],
   "source": [
    "def over_under(actual, pred):\n",
    "    right_neg = 0\n",
    "    wrong_neg = 0\n",
    "    right_pos = 0\n",
    "    wrong_pos = 0\n",
    "    for i in range(len(actual)):\n",
    "        if pred[i] < 0 and actual[i] < 0:\n",
    "            right_neg += 1\n",
    "        elif pred[i] < 0 and actual[i] > 0:\n",
    "            wrong_neg += 1\n",
    "        elif pred[i] > 0 and actual[i] > 0:\n",
    "            right_pos += 1\n",
    "        else:\n",
    "            wrong_pos += 1\n",
    "            \n",
    "    return (right_neg, wrong_neg, right_pos, wrong_pos)"
   ]
  },
  {
   "cell_type": "code",
   "execution_count": 59,
>>>>>>> 587017f71e6aa36718ee89fdb6c1839975ad7bfd:Mini Project 4/.ipynb_checkpoints/Mini Project Code-checkpoint.ipynb
   "metadata": {},
   "outputs": [
    {
     "data": {
      "text/plain": [
       "0.03678541749955388"
      ]
     },
<<<<<<< HEAD:Mini Project 4/Jason's Code copy.ipynb
     "execution_count": 23,
=======
     "execution_count": 59,
>>>>>>> 587017f71e6aa36718ee89fdb6c1839975ad7bfd:Mini Project 4/.ipynb_checkpoints/Mini Project Code-checkpoint.ipynb
     "metadata": {},
     "output_type": "execute_result"
    }
   ],
   "source": [
    "std_target = target.std()\n",
    "std_target"
   ]
  },
  {
   "cell_type": "code",
   "execution_count": 60,
   "metadata": {},
   "outputs": [
    {
     "name": "stdout",
     "output_type": "stream",
     "text": [
      "66\n",
      "66\n"
     ]
    }
   ],
   "source": [
    "print(len(prediction))\n",
    "y_test_list = list(y_test)\n",
    "print(len(y_test_list))"
   ]
  },
  {
   "cell_type": "code",
   "execution_count": 63,
   "metadata": {},
   "outputs": [
    {
     "name": "stdout",
     "output_type": "stream",
     "text": [
      "33\n",
      "0.8481519595523633\n",
      "0.025701574531889797\n",
      "33\n",
      "0.7620148563004941\n",
      "0.023091359281833156\n",
      "0\n"
     ]
    }
   ],
   "source": [
    "preds = get_predictions(y_test_list, prediction)\n",
    "for pred in preds:\n",
    "    print(pred)"
   ]
  },
  {
   "cell_type": "code",
   "execution_count": 71,
   "metadata": {},
   "outputs": [
    {
     "name": "stdout",
     "output_type": "stream",
     "text": [
      "327\n",
      "327\n"
     ]
    }
   ],
   "source": [
    "print(len(y_pred))\n",
    "y_test_list = list(target)\n",
    "print(len(y_test_list))"
   ]
  },
  {
   "cell_type": "code",
   "execution_count": 65,
   "metadata": {},
   "outputs": [
    {
     "name": "stdout",
     "output_type": "stream",
     "text": [
      "148\n",
      "3.855980148964958\n",
      "0.026053919925438904\n",
      "179\n",
      "3.8619187834358324\n",
      "0.021574965270591242\n",
      "0\n"
     ]
    }
   ],
   "source": [
    "preds = get_predictions(y_test_list, y_pred)\n",
    "for pred in preds:\n",
    "    print(pred)"
   ]
  },
  {
   "cell_type": "code",
   "execution_count": 70,
   "metadata": {},
   "outputs": [
    {
     "name": "stdout",
     "output_type": "stream",
     "text": [
      "right negative: 240\n",
      "wrong negative: 86\n",
      "right positive: 0\n",
      "wrong positive: 1\n"
     ]
    }
   ],
   "source": [
    "outcomes = over_under(y_test_list, y_pred)\n",
    "print('right negative:', outcomes[0])\n",
    "print('wrong negative:', outcomes[1])\n",
    "print('right positive:', outcomes[2])\n",
    "print('wrong positive:', outcomes[3])"
   ]
  },
  {
   "cell_type": "markdown",
   "metadata": {},
   "source": [
    "# KNRegression"
   ]
  },
  {
   "cell_type": "code",
<<<<<<< HEAD:Mini Project 4/Jason's Code copy.ipynb
   "execution_count": 13,
=======
   "execution_count": 24,
>>>>>>> 587017f71e6aa36718ee89fdb6c1839975ad7bfd:Mini Project 4/.ipynb_checkpoints/Mini Project Code-checkpoint.ipynb
   "metadata": {},
   "outputs": [
    {
     "data": {
      "text/plain": [
       "{'n_neighbors': 50}"
      ]
     },
     "execution_count": 13,
     "metadata": {},
     "output_type": "execute_result"
    }
   ],
   "source": [
    "# KNN Regression\n",
    "knn = KNeighborsRegressor()\n",
    "neighbors = list(range(1,51))\n",
    "\n",
    "param_grid = dict(n_neighbors = neighbors)\n",
    "knn_grid = GridSearchCV(knn, param_grid, cv=10)\n",
    "\n",
    "knn_grid.fit(features, target)\n",
    "y_pred = list(knn_grid.predict(features))\n",
    "knn_grid.score(features, target) \n",
    "knn_grid.best_params_"
   ]
  },
  {
   "cell_type": "code",
<<<<<<< HEAD:Mini Project 4/Jason's Code copy.ipynb
   "execution_count": 14,
=======
   "execution_count": 25,
>>>>>>> 587017f71e6aa36718ee89fdb6c1839975ad7bfd:Mini Project 4/.ipynb_checkpoints/Mini Project Code-checkpoint.ipynb
   "metadata": {},
   "outputs": [
    {
     "data": {
      "text/plain": [
       "Text(0, 0.5, 'Mean Squared Error')"
      ]
     },
<<<<<<< HEAD:Mini Project 4/Jason's Code copy.ipynb
     "execution_count": 14,
=======
     "execution_count": 25,
>>>>>>> 587017f71e6aa36718ee89fdb6c1839975ad7bfd:Mini Project 4/.ipynb_checkpoints/Mini Project Code-checkpoint.ipynb
     "metadata": {},
     "output_type": "execute_result"
    },
    {
     "data": {
      "image/png": "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\n",
      "text/plain": [
       "<Figure size 432x288 with 1 Axes>"
      ]
     },
     "metadata": {
      "needs_background": "light"
     },
     "output_type": "display_data"
    }
   ],
   "source": [
    "# Graphing the MSE for each hyperparameter\n",
    "error = []\n",
    "for k in range(1,51):\n",
    "    knn = KNeighborsRegressor(n_neighbors=k)\n",
    "    y_pred = cross_val_predict(knn, features, target, cv=5)\n",
    "    error.append(mean_squared_error(target,y_pred))\n",
    "plt.plot(range(1,51),error)\n",
    "plt.xlabel('K nearest neighbors')\n",
    "plt.ylabel('Mean Squared Error')"
   ]
  },
  {
   "cell_type": "markdown",
   "metadata": {},
   "source": [
    "# Random Forest"
   ]
  },
  {
   "cell_type": "code",
<<<<<<< HEAD:Mini Project 4/Jason's Code copy.ipynb
   "execution_count": 15,
=======
   "execution_count": 20,
>>>>>>> 587017f71e6aa36718ee89fdb6c1839975ad7bfd:Mini Project 4/.ipynb_checkpoints/Mini Project Code-checkpoint.ipynb
   "metadata": {},
   "outputs": [
    {
     "data": {
      "text/plain": [
<<<<<<< HEAD:Mini Project 4/Jason's Code copy.ipynb
       "array([-0.02125373, -0.03914121, -0.01200583, -0.05635262, -0.02359806,\n",
       "       -0.03106053, -0.00456412, -0.01506949, -0.05979041, -0.00798179,\n",
       "       -0.04335015, -0.02673347, -0.02823816, -0.01326887,  0.06532686,\n",
       "       -0.00506173, -0.02701899, -0.02880055, -0.01174149, -0.00547061,\n",
       "       -0.01174149, -0.02043181, -0.01174149, -0.02032468, -0.01650705,\n",
       "       -0.03895151, -0.00456412, -0.03728093, -0.02781669, -0.02664779,\n",
       "       -0.0085469 , -0.01200583, -0.01174149, -0.00791325, -0.02043181,\n",
       "       -0.05635262, -0.02249233, -0.0400486 , -0.01493781, -0.01200583,\n",
       "       -0.02328165, -0.0195637 ,  0.01345978, -0.02036604,  0.0023257 ,\n",
       "       -0.00544492, -0.01174149, -0.01200583, -0.01200583, -0.0212685 ,\n",
       "        0.00908404, -0.0480402 , -0.00501609, -0.0097628 , -0.0364424 ,\n",
       "       -0.02043181, -0.01200583, -0.01200583, -0.02662048, -0.03102915,\n",
       "       -0.02359806, -0.01290213, -0.02842675, -0.01200583, -0.01531194,\n",
       "       -0.01858946,  0.00804215, -0.01200583,  0.00191172, -0.00159644,\n",
       "        0.00382332, -0.02027313, -0.01116888, -0.01095284, -0.01200583])"
      ]
     },
     "execution_count": 15,
=======
       "array([-3.72017996e-02, -2.48440215e-02, -4.14461879e-02, -1.99075404e-02,\n",
       "       -6.81826831e-03, -1.85101682e-02, -4.16477172e-02, -5.48990563e-03,\n",
       "       -2.19164140e-02, -1.64164997e-02,  2.44654474e-02,  3.82387060e-03,\n",
       "       -1.75250008e-02, -1.26218051e-02, -1.24618904e-02, -7.36535184e-03,\n",
       "       -2.00764967e-02, -3.55672793e-02,  9.80229445e-03, -1.42521108e-02,\n",
       "       -3.78861514e-02, -2.58143817e-02, -2.90687300e-05, -2.21417504e-02,\n",
       "       -2.82268970e-02, -2.89930925e-02, -1.75310565e-02, -4.41298420e-03,\n",
       "       -4.06688091e-03, -5.18021477e-03, -4.12013741e-02, -3.78981592e-02,\n",
       "       -2.39078021e-02,  2.81749921e-03, -3.64037012e-02, -2.75642217e-02,\n",
       "       -8.64030351e-03, -1.55407095e-02, -4.95558030e-04, -3.28885873e-02,\n",
       "       -3.47157314e-02, -1.38575633e-02, -7.24537636e-03, -2.75080086e-02,\n",
       "        2.97239082e-02, -1.01066824e-02, -3.81158827e-03, -1.65065359e-02,\n",
       "       -1.66644415e-02, -2.11728565e-02, -2.87326501e-02,  2.19971497e-02,\n",
       "       -5.46789698e-02, -3.51262064e-02, -8.72885352e-03, -1.25536181e-02,\n",
       "       -9.07514502e-03, -2.24653307e-02, -2.20316188e-03, -2.90571391e-02,\n",
       "       -1.22736712e-02, -4.79758629e-02, -3.19710030e-03, -4.95879425e-02,\n",
       "       -9.91958531e-03, -2.23320785e-02])"
      ]
     },
     "execution_count": 20,
>>>>>>> 587017f71e6aa36718ee89fdb6c1839975ad7bfd:Mini Project 4/.ipynb_checkpoints/Mini Project Code-checkpoint.ipynb
     "metadata": {},
     "output_type": "execute_result"
    }
   ],
   "source": [
    "from sklearn.ensemble import RandomForestRegressor\n",
    "rf = RandomForestRegressor()\n",
    "rf.fit(X_train, y_train)\n",
    "y_pred = rf.predict(X_test)\n",
    "y_pred"
   ]
  },
  {
   "cell_type": "code",
<<<<<<< HEAD:Mini Project 4/Jason's Code copy.ipynb
   "execution_count": 16,
=======
   "execution_count": 21,
>>>>>>> 587017f71e6aa36718ee89fdb6c1839975ad7bfd:Mini Project 4/.ipynb_checkpoints/Mini Project Code-checkpoint.ipynb
   "metadata": {},
   "outputs": [
    {
     "data": {
      "text/plain": [
<<<<<<< HEAD:Mini Project 4/Jason's Code copy.ipynb
       "0.03517969124481711"
      ]
     },
     "execution_count": 16,
=======
       "0.03272973865510573"
      ]
     },
     "execution_count": 21,
>>>>>>> 587017f71e6aa36718ee89fdb6c1839975ad7bfd:Mini Project 4/.ipynb_checkpoints/Mini Project Code-checkpoint.ipynb
     "metadata": {},
     "output_type": "execute_result"
    }
   ],
   "source": [
    "mean_squared_error(y_test, y_pred)\n",
    "np.sqrt(mean_squared_error(y_test, y_pred))"
   ]
  },
  {
   "cell_type": "code",
<<<<<<< HEAD:Mini Project 4/Jason's Code copy.ipynb
=======
   "execution_count": 22,
   "metadata": {},
   "outputs": [
    {
     "data": {
      "text/plain": [
       "-0.13899404177520536"
      ]
     },
     "execution_count": 22,
     "metadata": {},
     "output_type": "execute_result"
    }
   ],
   "source": [
    "r2 = r2_score(y_test, y_pred)\n",
    "r2"
   ]
  },
  {
   "cell_type": "code",
   "execution_count": 23,
   "metadata": {},
   "outputs": [
    {
     "name": "stdout",
     "output_type": "stream",
     "text": [
      "{'n_estimators': 100}\n",
      "-0.0011584813665867035\n"
     ]
    }
   ],
   "source": [
    "RF = RandomForestRegressor(random_state = 0)\n",
    "search_grid = {'n_estimators': [50 ,100, 150, 200]}\n",
    "search = GridSearchCV(estimator = RF, param_grid = search_grid, scoring = 'neg_mean_squared_error')\n",
    "search.fit(X_train, y_train)\n",
    "print(search.best_params_) \n",
    "print(search.best_score_)"
   ]
  },
  {
   "cell_type": "code",
   "execution_count": null,
   "metadata": {},
   "outputs": [],
   "source": []
  },
  {
   "cell_type": "code",
>>>>>>> 587017f71e6aa36718ee89fdb6c1839975ad7bfd:Mini Project 4/.ipynb_checkpoints/Mini Project Code-checkpoint.ipynb
   "execution_count": null,
   "metadata": {},
   "outputs": [],
   "source": []
  }
 ],
 "metadata": {
  "kernelspec": {
   "display_name": "Python 3",
   "language": "python",
   "name": "python3"
  },
  "language_info": {
   "codemirror_mode": {
    "name": "ipython",
    "version": 3
   },
   "file_extension": ".py",
   "mimetype": "text/x-python",
   "name": "python",
   "nbconvert_exporter": "python",
   "pygments_lexer": "ipython3",
   "version": "3.8.5"
  }
 },
 "nbformat": 4,
 "nbformat_minor": 4
}
