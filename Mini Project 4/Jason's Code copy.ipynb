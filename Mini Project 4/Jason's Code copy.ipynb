{
 "cells": [
  {
   "cell_type": "code",
   "execution_count": 3,
   "metadata": {},
   "outputs": [],
   "source": [
    "\n",
    "# -*- coding: utf-8 -*-\n",
    "\n",
    "# -- Sheet --\n",
    "\n",
    "import pandas as pd \n",
    "import re\n",
    "import os\n",
    "import string\n",
    "import csv\n",
    "import sys\n",
    "import datetime\n",
    "import numpy as np\n",
    "import matplotlib.pyplot as plt\n",
    "\n",
    "from sklearn.model_selection import train_test_split\n",
    "from sklearn.linear_model import LinearRegression\n",
    "from sklearn.metrics import mean_squared_error, r2_score\n",
    "\n",
    "from sklearn.neighbors import KNeighborsRegressor\n",
    "from sklearn.model_selection import GridSearchCV\n",
    "from sklearn.model_selection import cross_val_predict"
   ]
  },
  {
   "cell_type": "code",
   "execution_count": 26,
   "metadata": {},
   "outputs": [
    {
     "name": "stdout",
     "output_type": "stream",
     "text": [
      "  ticker                         created            id  polarity1 sentiment  \\\n",
      "0    MMM  Mon Apr 04 18:53:44 +0000 2022  1.510000e+18   0.106667  positive   \n",
      "1    MMM  Mon Apr 04 16:55:27 +0000 2022  1.510000e+18   0.000000   neutral   \n",
      "2    MMM  Mon Apr 04 16:00:46 +0000 2022  1.510000e+18   0.000000   neutral   \n",
      "3    MMM  Mon Apr 04 14:30:00 +0000 2022  1.510000e+18   0.000000   neutral   \n",
      "4    MMM  Fri Apr 01 14:48:13 +0000 2022  1.510000e+18   1.000000  positive   \n",
      "\n",
      "   subjectivity1  polarity2  subjectivity2  \n",
      "0       0.526667   0.106667       0.526667  \n",
      "1       0.000000   0.000000       0.000000  \n",
      "2       0.100000   0.000000       0.000000  \n",
      "3       0.000000   0.000000       0.000000  \n",
      "4       0.300000   1.000000       0.300000  \n"
     ]
    },
    {
     "data": {
      "text/html": [
       "<div>\n",
       "<style scoped>\n",
       "    .dataframe tbody tr th:only-of-type {\n",
       "        vertical-align: middle;\n",
       "    }\n",
       "\n",
       "    .dataframe tbody tr th {\n",
       "        vertical-align: top;\n",
       "    }\n",
       "\n",
       "    .dataframe thead th {\n",
       "        text-align: right;\n",
       "    }\n",
       "</style>\n",
       "<table border=\"1\" class=\"dataframe\">\n",
       "  <thead>\n",
       "    <tr style=\"text-align: right;\">\n",
       "      <th></th>\n",
       "      <th>ticker</th>\n",
       "      <th>change</th>\n",
       "    </tr>\n",
       "  </thead>\n",
       "  <tbody>\n",
       "    <tr>\n",
       "      <th>0</th>\n",
       "      <td>MMM</td>\n",
       "      <td>-0.016707</td>\n",
       "    </tr>\n",
       "    <tr>\n",
       "      <th>1</th>\n",
       "      <td>AOS</td>\n",
       "      <td>-0.012981</td>\n",
       "    </tr>\n",
       "    <tr>\n",
       "      <th>2</th>\n",
       "      <td>ABT</td>\n",
       "      <td>-0.007476</td>\n",
       "    </tr>\n",
       "    <tr>\n",
       "      <th>3</th>\n",
       "      <td>ABBV</td>\n",
       "      <td>-0.001954</td>\n",
       "    </tr>\n",
       "    <tr>\n",
       "      <th>4</th>\n",
       "      <td>ABMD</td>\n",
       "      <td>-0.017808</td>\n",
       "    </tr>\n",
       "  </tbody>\n",
       "</table>\n",
       "</div>"
      ],
      "text/plain": [
       "  ticker    change\n",
       "0    MMM -0.016707\n",
       "1    AOS -0.012981\n",
       "2    ABT -0.007476\n",
       "3   ABBV -0.001954\n",
       "4   ABMD -0.017808"
      ]
     },
     "execution_count": 26,
     "metadata": {},
     "output_type": "execute_result"
    }
   ],
   "source": [
    "tweet_data = pd.read_csv(\"sentimenttweets.csv\")\n",
    "'''\n",
    "# tweet_data = pd.concat([pd.read_excel(os.path.join(\"twitterdata\", f), index_col = 0) for f in os.listdir(\"twitterdata\")])\n",
    "\n",
    "tweet_data = pd.read_csv(\"searchTweets.csv\")\n",
    "\n",
    "tweet_data = tweet_data[[\"ticker\", \"created\", \"sent_score\"]]\n",
    "\n",
    "tweet_data2 = tweet_data2[[\"ticker\", \"created\", \"sent_score\"]]\n",
    "\n",
    "tweet_data = pd.concat([tweet_data, tweet_data2], axis = 0)\n",
    "\n",
    "tweet_data.shape\n",
    "\n",
    "'''\n",
    "print(tweet_data.head())\n",
    "\n",
    "\n",
    "returns_data = pd.read_csv(\"stocks.csv\")\n",
    "\n",
    "returns_data.head()\n"
   ]
  },
  {
   "cell_type": "code",
   "execution_count": 5,
   "metadata": {},
   "outputs": [
    {
     "data": {
      "text/html": [
       "<div>\n",
       "<style scoped>\n",
       "    .dataframe tbody tr th:only-of-type {\n",
       "        vertical-align: middle;\n",
       "    }\n",
       "\n",
       "    .dataframe tbody tr th {\n",
       "        vertical-align: top;\n",
       "    }\n",
       "\n",
       "    .dataframe thead th {\n",
       "        text-align: right;\n",
       "    }\n",
       "</style>\n",
       "<table border=\"1\" class=\"dataframe\">\n",
       "  <thead>\n",
       "    <tr style=\"text-align: right;\">\n",
       "      <th></th>\n",
       "      <th>ticker</th>\n",
       "      <th>id</th>\n",
       "      <th>polarity1</th>\n",
       "      <th>subjectivity1</th>\n",
       "      <th>polarity2</th>\n",
       "      <th>subjectivity2</th>\n",
       "      <th>change</th>\n",
       "    </tr>\n",
       "  </thead>\n",
       "  <tbody>\n",
       "    <tr>\n",
       "      <th>0</th>\n",
       "      <td>A</td>\n",
       "      <td>1.510000e+18</td>\n",
       "      <td>0.137614</td>\n",
       "      <td>0.277176</td>\n",
       "      <td>0.132364</td>\n",
       "      <td>0.272676</td>\n",
       "      <td>-0.016241</td>\n",
       "    </tr>\n",
       "    <tr>\n",
       "      <th>1</th>\n",
       "      <td>AAL</td>\n",
       "      <td>1.510000e+18</td>\n",
       "      <td>0.092037</td>\n",
       "      <td>0.243148</td>\n",
       "      <td>0.055926</td>\n",
       "      <td>0.273704</td>\n",
       "      <td>-0.011634</td>\n",
       "    </tr>\n",
       "    <tr>\n",
       "      <th>2</th>\n",
       "      <td>AAP</td>\n",
       "      <td>1.510000e+18</td>\n",
       "      <td>0.106667</td>\n",
       "      <td>0.526667</td>\n",
       "      <td>0.106667</td>\n",
       "      <td>0.526667</td>\n",
       "      <td>-0.000425</td>\n",
       "    </tr>\n",
       "    <tr>\n",
       "      <th>3</th>\n",
       "      <td>AAPL</td>\n",
       "      <td>1.510000e+18</td>\n",
       "      <td>0.115024</td>\n",
       "      <td>0.333631</td>\n",
       "      <td>0.110274</td>\n",
       "      <td>0.360131</td>\n",
       "      <td>-0.015244</td>\n",
       "    </tr>\n",
       "    <tr>\n",
       "      <th>4</th>\n",
       "      <td>ABBV</td>\n",
       "      <td>1.510000e+18</td>\n",
       "      <td>0.287140</td>\n",
       "      <td>0.296502</td>\n",
       "      <td>0.287140</td>\n",
       "      <td>0.285391</td>\n",
       "      <td>-0.001954</td>\n",
       "    </tr>\n",
       "    <tr>\n",
       "      <th>...</th>\n",
       "      <td>...</td>\n",
       "      <td>...</td>\n",
       "      <td>...</td>\n",
       "      <td>...</td>\n",
       "      <td>...</td>\n",
       "      <td>...</td>\n",
       "      <td>...</td>\n",
       "    </tr>\n",
       "    <tr>\n",
       "      <th>369</th>\n",
       "      <td>YUM</td>\n",
       "      <td>1.510000e+18</td>\n",
       "      <td>0.000000</td>\n",
       "      <td>0.000000</td>\n",
       "      <td>0.000000</td>\n",
       "      <td>0.000000</td>\n",
       "      <td>0.000759</td>\n",
       "    </tr>\n",
       "    <tr>\n",
       "      <th>370</th>\n",
       "      <td>ZBH</td>\n",
       "      <td>1.510000e+18</td>\n",
       "      <td>0.000000</td>\n",
       "      <td>0.000000</td>\n",
       "      <td>0.000000</td>\n",
       "      <td>0.000000</td>\n",
       "      <td>-0.000391</td>\n",
       "    </tr>\n",
       "    <tr>\n",
       "      <th>371</th>\n",
       "      <td>ZBRA</td>\n",
       "      <td>1.510000e+18</td>\n",
       "      <td>0.000000</td>\n",
       "      <td>0.000000</td>\n",
       "      <td>0.000000</td>\n",
       "      <td>0.000000</td>\n",
       "      <td>0.022238</td>\n",
       "    </tr>\n",
       "    <tr>\n",
       "      <th>372</th>\n",
       "      <td>ZION</td>\n",
       "      <td>1.510000e+18</td>\n",
       "      <td>0.000000</td>\n",
       "      <td>0.000000</td>\n",
       "      <td>0.000000</td>\n",
       "      <td>0.000000</td>\n",
       "      <td>-0.028829</td>\n",
       "    </tr>\n",
       "    <tr>\n",
       "      <th>373</th>\n",
       "      <td>ZTS</td>\n",
       "      <td>1.510000e+18</td>\n",
       "      <td>0.133333</td>\n",
       "      <td>0.222222</td>\n",
       "      <td>0.108333</td>\n",
       "      <td>0.222222</td>\n",
       "      <td>0.014794</td>\n",
       "    </tr>\n",
       "  </tbody>\n",
       "</table>\n",
       "<p>374 rows × 7 columns</p>\n",
       "</div>"
      ],
      "text/plain": [
       "    ticker            id  polarity1  subjectivity1  polarity2  subjectivity2  \\\n",
       "0        A  1.510000e+18   0.137614       0.277176   0.132364       0.272676   \n",
       "1      AAL  1.510000e+18   0.092037       0.243148   0.055926       0.273704   \n",
       "2      AAP  1.510000e+18   0.106667       0.526667   0.106667       0.526667   \n",
       "3     AAPL  1.510000e+18   0.115024       0.333631   0.110274       0.360131   \n",
       "4     ABBV  1.510000e+18   0.287140       0.296502   0.287140       0.285391   \n",
       "..     ...           ...        ...            ...        ...            ...   \n",
       "369    YUM  1.510000e+18   0.000000       0.000000   0.000000       0.000000   \n",
       "370    ZBH  1.510000e+18   0.000000       0.000000   0.000000       0.000000   \n",
       "371   ZBRA  1.510000e+18   0.000000       0.000000   0.000000       0.000000   \n",
       "372   ZION  1.510000e+18   0.000000       0.000000   0.000000       0.000000   \n",
       "373    ZTS  1.510000e+18   0.133333       0.222222   0.108333       0.222222   \n",
       "\n",
       "       change  \n",
       "0   -0.016241  \n",
       "1   -0.011634  \n",
       "2   -0.000425  \n",
       "3   -0.015244  \n",
       "4   -0.001954  \n",
       "..        ...  \n",
       "369  0.000759  \n",
       "370 -0.000391  \n",
       "371  0.022238  \n",
       "372 -0.028829  \n",
       "373  0.014794  \n",
       "\n",
       "[374 rows x 7 columns]"
      ]
     },
     "execution_count": 5,
     "metadata": {},
     "output_type": "execute_result"
    }
   ],
   "source": [
    "tweet_agg = tweet_data.groupby(['ticker'],as_index=False).mean()\n",
    "pd_data = tweet_agg.merge(returns_data)\n",
    "pd_data"
   ]
  },
  {
   "cell_type": "code",
   "execution_count": 6,
   "metadata": {},
   "outputs": [
    {
     "name": "stderr",
     "output_type": "stream",
     "text": [
      "<ipython-input-6-6b05766f9d27>:2: FutureWarning: Dropping of nuisance columns in DataFrame reductions (with 'numeric_only=None') is deprecated; in a future version this will raise TypeError.  Select only valid columns before calling the reduction.\n",
      "  pd_data.mean()\n"
     ]
    },
    {
     "data": {
      "text/plain": [
       "id               1.510000e+18\n",
       "polarity1        1.165467e-01\n",
       "subjectivity1    2.577170e-01\n",
       "polarity2        1.101422e-01\n",
       "subjectivity2    2.584687e-01\n",
       "change          -1.550989e-02\n",
       "dtype: float64"
      ]
     },
     "execution_count": 6,
     "metadata": {},
     "output_type": "execute_result"
    }
   ],
   "source": [
    "pos_data = pd_data[pd_data['polarity2'] != 0]\n",
    "pd_data.mean()"
   ]
  },
  {
   "cell_type": "code",
   "execution_count": 7,
   "metadata": {},
   "outputs": [],
   "source": [
    "def get_sent(row):\n",
    "    if row[4] > 0:\n",
    "        val = 'positive'\n",
    "    elif row[4] < 0:\n",
    "        val = 'negative'\n",
    "    else:\n",
    "        val = 'neutral'\n",
    "    return val"
   ]
  },
  {
   "cell_type": "code",
   "execution_count": 8,
   "metadata": {},
   "outputs": [
    {
     "data": {
      "text/html": [
       "<div>\n",
       "<style scoped>\n",
       "    .dataframe tbody tr th:only-of-type {\n",
       "        vertical-align: middle;\n",
       "    }\n",
       "\n",
       "    .dataframe tbody tr th {\n",
       "        vertical-align: top;\n",
       "    }\n",
       "\n",
       "    .dataframe thead th {\n",
       "        text-align: right;\n",
       "    }\n",
       "</style>\n",
       "<table border=\"1\" class=\"dataframe\">\n",
       "  <thead>\n",
       "    <tr style=\"text-align: right;\">\n",
       "      <th></th>\n",
       "      <th>id</th>\n",
       "      <th>polarity1</th>\n",
       "      <th>subjectivity1</th>\n",
       "      <th>polarity2</th>\n",
       "      <th>subjectivity2</th>\n",
       "      <th>change</th>\n",
       "    </tr>\n",
       "    <tr>\n",
       "      <th>sentiment</th>\n",
       "      <th></th>\n",
       "      <th></th>\n",
       "      <th></th>\n",
       "      <th></th>\n",
       "      <th></th>\n",
       "      <th></th>\n",
       "    </tr>\n",
       "  </thead>\n",
       "  <tbody>\n",
       "    <tr>\n",
       "      <th>negative</th>\n",
       "      <td>1.510000e+18</td>\n",
       "      <td>-0.062723</td>\n",
       "      <td>0.225447</td>\n",
       "      <td>-0.071956</td>\n",
       "      <td>0.223206</td>\n",
       "      <td>-0.020941</td>\n",
       "    </tr>\n",
       "    <tr>\n",
       "      <th>neutral</th>\n",
       "      <td>1.510000e+18</td>\n",
       "      <td>0.000410</td>\n",
       "      <td>0.061013</td>\n",
       "      <td>0.000000</td>\n",
       "      <td>0.061013</td>\n",
       "      <td>-0.011511</td>\n",
       "    </tr>\n",
       "    <tr>\n",
       "      <th>positive</th>\n",
       "      <td>1.510000e+18</td>\n",
       "      <td>0.174855</td>\n",
       "      <td>0.308528</td>\n",
       "      <td>0.167576</td>\n",
       "      <td>0.309981</td>\n",
       "      <td>-0.015467</td>\n",
       "    </tr>\n",
       "  </tbody>\n",
       "</table>\n",
       "</div>"
      ],
      "text/plain": [
       "                     id  polarity1  subjectivity1  polarity2  subjectivity2  \\\n",
       "sentiment                                                                     \n",
       "negative   1.510000e+18  -0.062723       0.225447  -0.071956       0.223206   \n",
       "neutral    1.510000e+18   0.000410       0.061013   0.000000       0.061013   \n",
       "positive   1.510000e+18   0.174855       0.308528   0.167576       0.309981   \n",
       "\n",
       "             change  \n",
       "sentiment            \n",
       "negative  -0.020941  \n",
       "neutral   -0.011511  \n",
       "positive  -0.015467  "
      ]
     },
     "execution_count": 8,
     "metadata": {},
     "output_type": "execute_result"
    }
   ],
   "source": [
    "pd_data['sentiment'] = pd_data.apply(get_sent, axis=1)\n",
    "pd_data.groupby(['sentiment']).mean()"
   ]
  },
  {
   "cell_type": "code",
   "execution_count": 9,
   "metadata": {},
   "outputs": [
    {
     "data": {
      "text/plain": [
       "positive    266\n",
       "neutral      61\n",
       "negative     47\n",
       "Name: sentiment, dtype: int64"
      ]
     },
     "execution_count": 9,
     "metadata": {},
     "output_type": "execute_result"
    }
   ],
   "source": [
    "pd_data['sentiment'].value_counts()"
   ]
  },
  {
   "cell_type": "markdown",
   "metadata": {},
   "source": [
    "# Top 20 results\n"
   ]
  },
  {
   "cell_type": "code",
   "execution_count": 34,
   "metadata": {},
   "outputs": [
    {
     "name": "stdout",
     "output_type": "stream",
     "text": [
      "                     id  polarity1  subjectivity1  polarity2  subjectivity2  \\\n",
      "sentiment                                                                     \n",
      "positive   1.510000e+18   0.565729       0.319644   0.566087       0.316099   \n",
      "\n",
      "             change  \n",
      "sentiment            \n",
      "positive  -0.025616  \n",
      "                     id  polarity1  subjectivity1  polarity2  subjectivity2  \\\n",
      "sentiment                                                                     \n",
      "negative   1.510000e+18  -0.122979       0.273028  -0.133278       0.270556   \n",
      "\n",
      "             change  \n",
      "sentiment            \n",
      "negative  -0.015116  \n"
     ]
    }
   ],
   "source": [
    "neg_data = pd_data.sort_values('polarity2').head(20)\n",
    "pos_data = pd_data.sort_values('polarity2').tail(20)\n",
    "print(pos_data.groupby(['sentiment']).mean())\n",
    "print(neg_data.groupby(['sentiment']).mean())"
   ]
  },
  {
   "cell_type": "code",
   "execution_count": 10,
   "metadata": {},
   "outputs": [],
   "source": [
    "target = pd_data['change']\n",
    "features = pd_data[['polarity2','subjectivity2']]"
   ]
  },
  {
   "cell_type": "code",
   "execution_count": 11,
   "metadata": {},
   "outputs": [],
   "source": [
    "X_train, X_test, y_train, y_test = train_test_split(features, target, random_state = 0, test_size = 0.2)"
   ]
  },
  {
   "cell_type": "markdown",
   "metadata": {},
   "source": [
    "# LinearRegressor"
   ]
  },
  {
   "cell_type": "code",
   "execution_count": 25,
   "metadata": {},
   "outputs": [
    {
     "name": "stdout",
     "output_type": "stream",
     "text": [
      "\n",
      "The model performance for training set\n",
      "--------------------------------------\n",
      "MSE is 0.0009550571763899632\n",
      "RMSE is 0.030903999359143845\n",
      "R2 is -0.002849509995327848\n",
      "\n",
      "\n",
      "\n",
      "The model performance for training set\n",
      "--------------------------------------\n",
      "MSE is 0.0013725925083551357\n",
      "RMSE is 0.03704851560258705\n",
      "R2 is -0.017075084915006755\n",
      "\n",
      "\n"
     ]
    }
   ],
   "source": [
    "lr = LinearRegression()\n",
    "lr = lr.fit(X_train, y_train)\n",
    "\n",
    "prediction = lr.predict(X_test)\n",
    "\n",
    "mse = mean_squared_error(y_test, prediction)\n",
    "r2 = r2_score(y_test, prediction)\n",
    "\n",
    "print(\"\\nThe model performance for training set\")\n",
    "print(\"--------------------------------------\")\n",
    "print('MSE is {}'.format(mse))\n",
    "print('RMSE is {}'.format(np.sqrt(mse)))\n",
    "print('R2 is {}'.format(r2))\n",
    "\n",
    "print(\"\\n\")\n",
    "\n",
    "y_pred = cross_val_predict(LinearRegression(), features, target, cv=5)\n",
    "mse = mean_squared_error(target, y_pred)\n",
    "r2 = r2_score(target, y_pred)\n",
    "\n",
    "print(\"\\nThe model performance for training set\")\n",
    "print(\"--------------------------------------\")\n",
    "print('MSE is {}'.format(mse))\n",
    "print('RMSE is {}'.format(np.sqrt(mse)))\n",
    "print('R2 is {}'.format(r2))\n",
    "\n",
    "print(\"\\n\")"
   ]
  },
  {
   "cell_type": "code",
   "execution_count": 23,
   "metadata": {},
   "outputs": [
    {
     "data": {
      "text/plain": [
       "0.03678541749955388"
      ]
     },
     "execution_count": 23,
     "metadata": {},
     "output_type": "execute_result"
    }
   ],
   "source": [
    "std_target = target.std()\n",
    "std_target"
   ]
  },
  {
   "cell_type": "markdown",
   "metadata": {},
   "source": [
    "# KNRegression"
   ]
  },
  {
   "cell_type": "code",
   "execution_count": 13,
   "metadata": {},
   "outputs": [
    {
     "data": {
      "text/plain": [
       "{'n_neighbors': 50}"
      ]
     },
     "execution_count": 13,
     "metadata": {},
     "output_type": "execute_result"
    }
   ],
   "source": [
    "# KNN Regression\n",
    "knn = KNeighborsRegressor()\n",
    "neighbors = list(range(1,51))\n",
    "\n",
    "param_grid = dict(n_neighbors = neighbors)\n",
    "knn_grid = GridSearchCV(knn, param_grid, cv=10)\n",
    "\n",
    "knn_grid.fit(features, target)\n",
    "y_pred = list(knn_grid.predict(features))\n",
    "knn_grid.score(features, target) \n",
    "knn_grid.best_params_"
   ]
  },
  {
   "cell_type": "code",
   "execution_count": 14,
   "metadata": {},
   "outputs": [
    {
     "data": {
      "text/plain": [
       "Text(0, 0.5, 'Mean Squared Error')"
      ]
     },
     "execution_count": 14,
     "metadata": {},
     "output_type": "execute_result"
    },
    {
     "data": {
      "image/png": "[encoded data removed]",
      "text/plain": [
       "<Figure size 432x288 with 1 Axes>"
      ]
     },
     "metadata": {
      "needs_background": "light"
     },
     "output_type": "display_data"
    }
   ],
   "source": [
    "# Graphing the MSE for each hyperparameter\n",
    "error = []\n",
    "for k in range(1,51):\n",
    "    knn = KNeighborsRegressor(n_neighbors=k)\n",
    "    y_pred = cross_val_predict(knn, features, target, cv=5)\n",
    "    error.append(mean_squared_error(target,y_pred))\n",
    "plt.plot(range(1,51),error)\n",
    "plt.xlabel('K nearest neighbors')\n",
    "plt.ylabel('Mean Squared Error')"
   ]
  },
  {
   "cell_type": "markdown",
   "metadata": {},
   "source": [
    "# Random Forest"
   ]
  },
  {
   "cell_type": "code",
   "execution_count": 15,
   "metadata": {},
   "outputs": [
    {
     "data": {
      "text/plain": [
       "array([-0.02125373, -0.03914121, -0.01200583, -0.05635262, -0.02359806,\n",
       "       -0.03106053, -0.00456412, -0.01506949, -0.05979041, -0.00798179,\n",
       "       -0.04335015, -0.02673347, -0.02823816, -0.01326887,  0.06532686,\n",
       "       -0.00506173, -0.02701899, -0.02880055, -0.01174149, -0.00547061,\n",
       "       -0.01174149, -0.02043181, -0.01174149, -0.02032468, -0.01650705,\n",
       "       -0.03895151, -0.00456412, -0.03728093, -0.02781669, -0.02664779,\n",
       "       -0.0085469 , -0.01200583, -0.01174149, -0.00791325, -0.02043181,\n",
       "       -0.05635262, -0.02249233, -0.0400486 , -0.01493781, -0.01200583,\n",
       "       -0.02328165, -0.0195637 ,  0.01345978, -0.02036604,  0.0023257 ,\n",
       "       -0.00544492, -0.01174149, -0.01200583, -0.01200583, -0.0212685 ,\n",
       "        0.00908404, -0.0480402 , -0.00501609, -0.0097628 , -0.0364424 ,\n",
       "       -0.02043181, -0.01200583, -0.01200583, -0.02662048, -0.03102915,\n",
       "       -0.02359806, -0.01290213, -0.02842675, -0.01200583, -0.01531194,\n",
       "       -0.01858946,  0.00804215, -0.01200583,  0.00191172, -0.00159644,\n",
       "        0.00382332, -0.02027313, -0.01116888, -0.01095284, -0.01200583])"
      ]
     },
     "execution_count": 15,
     "metadata": {},
     "output_type": "execute_result"
    }
   ],
   "source": [
    "from sklearn.ensemble import RandomForestRegressor\n",
    "rf = RandomForestRegressor()\n",
    "rf.fit(X_train, y_train)\n",
    "y_pred = rf.predict(X_test)\n",
    "y_pred"
   ]
  },
  {
   "cell_type": "code",
   "execution_count": 16,
   "metadata": {},
   "outputs": [
    {
     "data": {
      "text/plain": [
       "0.03517969124481711"
      ]
     },
     "execution_count": 16,
     "metadata": {},
     "output_type": "execute_result"
    }
   ],
   "source": [
    "mean_squared_error(y_test, y_pred)\n",
    "np.sqrt(mean_squared_error(y_test, y_pred))"
   ]
  },
  {
   "cell_type": "code",
   "execution_count": null,
   "metadata": {},
   "outputs": [],
   "source": [
    "\n",
    "\n",
    "import random\n",
    "\n",
    "random.seed(0)\n",
    "\n",
    "train_tickers = list(random.sample(list(dt.index.get_level_values(0).unique()), 400))\n",
    "test_tickers = [x for x in dt.index.get_level_values(0).unique() if x not in train_tickers]\n",
    "\n",
    "import numpy as np \n",
    "\n",
    "X_train = np.array([features[features.index.get_level_values(0) == ticker].values.tolist() for ticker in train_tickers])\n",
    "y_train = np.array([target[target.index.get_level_values(0) == ticker].values.tolist() for ticker in train_tickers])\n",
    "\n",
    "X_test = np.array([features[features.index.get_level_values(0) == ticker].values.tolist() for ticker in test_tickers])\n",
    "y_test = np.array([target[target.index.get_level_values(0) == ticker].values.tolist() for ticker in test_tickers])\n",
    "\n",
    "X_test[1]\n",
    "\n",
    "\n"
   ]
  },
  {
   "cell_type": "code",
   "execution_count": null,
   "metadata": {},
   "outputs": [],
   "source": [
    "\n",
    "from tensorflow.keras.models import Sequential\n",
    "from tensorflow.keras.layers import Dense, Dropout, LSTM\n",
    "from tensorflow.keras.callbacks import EarlyStopping\n",
    "\n",
    "model = Sequential()\n",
    "model.add(LSTM(units = 10, return_sequences = True, input_shape = (X_train.shape[1], X_train.shape[2])))\n",
    "model.add(LSTM(units = 5))\n",
    "model.add(Dense(units = 1))\n",
    "\n",
    "early_stop = EarlyStopping(monitor='loss', patience=10, verbose=1)\n",
    "\n",
    "model.compile(optimizer = \"adam\", loss = \"mean_squared_error\")\n",
    "\n",
    "model.fit(X_train, y_train, epochs = 50, batch_size = 30, callbacks=[early_stop])\n",
    "\n",
    "model.summary()\n",
    "\n",
    "y_test_pred = model.predict(X_test)\n",
    "\n",
    "y_test_pred\n"
   ]
  },
  {
   "cell_type": "code",
   "execution_count": null,
   "metadata": {},
   "outputs": [],
   "source": [
    "\n",
    "\n",
    "import matplotlib.pyplot as plt\n",
    "\n",
    "plt.scatter(y_test, y_test_pred)\n",
    "plt.show()\n",
    "\n",
    "from sklearn.metrics import mean_squared_error\n",
    "\n",
    "np.sqrt(mean_squared_error(y_test, y_test_pred))\n",
    "\n",
    "preds = pd.DataFrame({\"Predicted\": y_test_pred.flatten(), \"Actual\": y_test.flatten()})\n",
    "preds.plot()\n",
    "\n",
    "results = pd.DataFrame({\"Predicted\": y_test_pred.flatten(), \"Actual\": y_test.flatten()}, index = test_tickers)\n",
    "\n",
    "results.head()\n",
    "\n",
    "t_0 = features[features.index.get_level_values(1) == '11/25/2020'][[\"return\", \"sent_score\"]].reset_index(level = 1)\n",
    "\n",
    "res = results.merge(t_0, how = \"left\", left_index = True, right_index = True)\n",
    "\n",
    "res.rename(columns = {\"return\": \"t-1\"}, inplace = True)\n",
    "res.drop(columns = [\"date\"], inplace = True)\n",
    "\n",
    "res.head()\n",
    "\n",
    "ups = res[res[\"Predicted\"] > res[\"t-1\"]]\n",
    "\n",
    "downs = res[res[\"Predicted\"] < res[\"t-1\"]]"
   ]
  },
  {
   "cell_type": "code",
   "execution_count": null,
   "metadata": {},
   "outputs": [],
   "source": [
    "\n",
    "print(\"Ups: {} Downs: {}\".format(ups.shape[0], downs.shape[0]))\n",
    "\n",
    "print(\"Out of {} predicted ups, {} actually went up\".format(ups.shape[0], res[(res[\"Predicted\"] > res[\"t-1\"]) & (res[\"Actual\"] > res[\"t-1\"])].shape[0]))\n",
    "\n",
    "print(\"Out of {} predicted downs, {} actually went down\".format(downs.shape[0], res[(res[\"Predicted\"] < res[\"t-1\"]) & (res[\"Actual\"] < res[\"t-1\"])].shape[0]))\n",
    "\n",
    "abs_up_ret = (ups[\"Actual\"] - ups[\"t-1\"]).sum()\n",
    "print(\"If we bought equally-weighted shares of each predicted up, we would have made: {:.2f}\".format(abs_up_ret))\n",
    "print(\"Of a total investment of {:.2f}, that's a 1-day return of {:.2f}%\".format(ups[\"t-1\"].sum(), abs_up_ret / ups[\"t-1\"].sum() * 100))\n",
    "print(\"Annualized, that figure is {:.2f}%\".format((np.power(1 + abs_up_ret / ups[\"t-1\"].sum(), 251) - 1) * 100))\n",
    "\n",
    "abs_down_ret = (downs[\"t-1\"] - downs[\"Actual\"]).sum()\n",
    "print(\"If we shorted equally-weighted shares of each predicted down, we would have made: {:.2f}\".format(abs_down_ret))\n",
    "print(\"Of a total investment of {:.2f} (@150% margin), that's a 1-day return of {:.2f}%\".format(downs[\"t-1\"].sum() * 1.5, abs_down_ret / (downs[\"t-1\"].sum() * 1.5) * 100))\n",
    "print(\"Annualized, that figure is {:.2f}%\".format((np.power(1 + abs_down_ret / (downs[\"t-1\"].sum() * 1.5), 251) - 1) * 100))\n",
    "\n",
    "# Impact of sentiment on performance\n",
    "\n",
    "top_sent = res.nlargest(20, columns = \"sent_score\")\n",
    "low_sent = res.nsmallest(20, columns = \"sent_score\")\n",
    "\n",
    "print(\"Of 20 companies with highest sentiment at t-1, {} went up, {} went down\".format(top_sent[top_sent[\"Actual\"] > top_sent[\"t-1\"]].shape[0], top_sent[top_sent[\"Actual\"] < top_sent[\"t-1\"]].shape[0]))\n",
    "\n",
    "print(\"Equal-weighted price return (long highest sentiment companies): {:.2f}\".format((top_sent[\"Actual\"] - top_sent[\"t-1\"]).sum()))\n",
    "\n",
    "print(\"Of 20 companies with lowest sentiment at t-1, {} went up, {} went down\".format(low_sent[low_sent[\"Actual\"] > low_sent[\"t-1\"]].shape[0], low_sent[low_sent[\"Actual\"] < low_sent[\"t-1\"]].shape[0]))\n",
    "\n",
    "print(\"Equal-weighted price return (short lowest sentiment companies): {:.2f}\".format((low_sent[\"t-1\"] - low_sent[\"Actual\"]).sum()))\n",
    "\n",
    "tr = (top_sent[\"Actual\"] - top_sent[\"t-1\"]).sum() + (low_sent[\"t-1\"] - low_sent[\"Actual\"]).sum()\n",
    "print(\"Strategy: Long Top 20 Sentiment, Short Worst 20 Sentiment\")\n",
    "print(\"Net price return: {:.2f}\".format(tr))\n",
    "print(\"Net 1-day : {:.2f}%\\nAnnualized: {:.2f}%\".format(100 * tr / (top_sent[\"t-1\"].sum() + 1.5 * low_sent[\"t-1\"].sum()), (np.power(1 + tr / (top_sent[\"t-1\"].sum() + 1.5 * low_sent[\"t-1\"].sum()), 251) - 1) * 100))\n"
   ]
  },
  {
   "cell_type": "code",
   "execution_count": null,
   "metadata": {},
   "outputs": [],
   "source": []
  }
 ],
 "metadata": {
  "kernelspec": {
   "display_name": "Python 3",
   "language": "python",
   "name": "python3"
  },
  "language_info": {
   "codemirror_mode": {
    "name": "ipython",
    "version": 3
   },
   "file_extension": ".py",
   "mimetype": "text/x-python",
   "name": "python",
   "nbconvert_exporter": "python",
   "pygments_lexer": "ipython3",
   "version": "3.8.5"
  }
 },
 "nbformat": 4,
 "nbformat_minor": 4
}
