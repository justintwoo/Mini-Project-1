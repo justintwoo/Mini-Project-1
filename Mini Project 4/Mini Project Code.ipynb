{
 "cells": [
  {
   "cell_type": "code",
   "execution_count": 2,
   "metadata": {},
   "outputs": [],
   "source": [
    "import pandas as pd \n",
    "import re\n",
    "import os\n",
    "import string\n",
    "import csv\n",
    "import sys\n",
    "import datetime\n",
    "import numpy as np\n",
    "import matplotlib.pyplot as plt\n",
    "\n",
    "from sklearn.model_selection import train_test_split\n",
    "from sklearn.linear_model import LinearRegression\n",
    "from sklearn.metrics import mean_squared_error, r2_score\n",
    "\n",
    "from sklearn.neighbors import KNeighborsRegressor\n",
    "from sklearn.model_selection import GridSearchCV\n",
    "from sklearn.model_selection import cross_val_predict"
   ]
  },
  {
   "cell_type": "code",
   "execution_count": 3,
   "metadata": {},
   "outputs": [
    {
     "name": "stdout",
     "output_type": "stream",
     "text": [
      "  ticker                         created            id  polarity1 sentiment  \\\n",
      "0    MMM  Mon Apr 04 18:53:44 +0000 2022  1.510000e+18   0.106667  positive   \n",
      "1    MMM  Mon Apr 04 16:55:27 +0000 2022  1.510000e+18   0.000000   neutral   \n",
      "2    MMM  Mon Apr 04 16:00:46 +0000 2022  1.510000e+18   0.000000   neutral   \n",
      "3    MMM  Mon Apr 04 14:30:00 +0000 2022  1.510000e+18   0.000000   neutral   \n",
      "4    MMM  Fri Apr 01 14:48:13 +0000 2022  1.510000e+18   1.000000  positive   \n",
      "\n",
      "   subjectivity1  polarity2  subjectivity2  \n",
      "0       0.526667   0.106667       0.526667  \n",
      "1       0.000000   0.000000       0.000000  \n",
      "2       0.100000   0.000000       0.000000  \n",
      "3       0.000000   0.000000       0.000000  \n",
      "4       0.300000   1.000000       0.300000  \n"
     ]
    },
    {
     "data": {
      "text/html": [
       "<div>\n",
       "<style scoped>\n",
       "    .dataframe tbody tr th:only-of-type {\n",
       "        vertical-align: middle;\n",
       "    }\n",
       "\n",
       "    .dataframe tbody tr th {\n",
       "        vertical-align: top;\n",
       "    }\n",
       "\n",
       "    .dataframe thead th {\n",
       "        text-align: right;\n",
       "    }\n",
       "</style>\n",
       "<table border=\"1\" class=\"dataframe\">\n",
       "  <thead>\n",
       "    <tr style=\"text-align: right;\">\n",
       "      <th></th>\n",
       "      <th>ticker</th>\n",
       "      <th>change</th>\n",
       "    </tr>\n",
       "  </thead>\n",
       "  <tbody>\n",
       "    <tr>\n",
       "      <th>0</th>\n",
       "      <td>MMM</td>\n",
       "      <td>-0.016707</td>\n",
       "    </tr>\n",
       "    <tr>\n",
       "      <th>1</th>\n",
       "      <td>AOS</td>\n",
       "      <td>-0.012981</td>\n",
       "    </tr>\n",
       "    <tr>\n",
       "      <th>2</th>\n",
       "      <td>ABT</td>\n",
       "      <td>-0.007476</td>\n",
       "    </tr>\n",
       "    <tr>\n",
       "      <th>3</th>\n",
       "      <td>ABBV</td>\n",
       "      <td>-0.001954</td>\n",
       "    </tr>\n",
       "    <tr>\n",
       "      <th>4</th>\n",
       "      <td>ABMD</td>\n",
       "      <td>-0.017808</td>\n",
       "    </tr>\n",
       "  </tbody>\n",
       "</table>\n",
       "</div>"
      ],
      "text/plain": [
       "  ticker    change\n",
       "0    MMM -0.016707\n",
       "1    AOS -0.012981\n",
       "2    ABT -0.007476\n",
       "3   ABBV -0.001954\n",
       "4   ABMD -0.017808"
      ]
     },
     "execution_count": 3,
     "metadata": {},
     "output_type": "execute_result"
    }
   ],
   "source": [
    "tweet_data = pd.read_csv(\"sentimenttweets.csv\")\n",
    "print(tweet_data.head())\n",
    "\n",
    "returns_data = pd.read_csv(\"stocks.csv\")\n",
    "returns_data.head()\n"
   ]
  },
  {
   "cell_type": "code",
   "execution_count": 4,
   "metadata": {},
   "outputs": [
    {
     "data": {
      "text/plain": [
       "377"
      ]
     },
     "execution_count": 4,
     "metadata": {},
     "output_type": "execute_result"
    }
   ],
   "source": [
    "tweet_data['ticker'].nunique()"
   ]
  },
  {
   "cell_type": "code",
   "execution_count": 5,
   "metadata": {},
   "outputs": [
    {
     "data": {
      "text/plain": [
       "0.03690740790800519"
      ]
     },
     "execution_count": 5,
     "metadata": {},
     "output_type": "execute_result"
    }
   ],
   "source": [
    "std_target = returns_data['change'].std()\n",
    "std_target"
   ]
  },
  {
   "cell_type": "code",
   "execution_count": 6,
   "metadata": {},
   "outputs": [
    {
     "data": {
      "text/html": [
       "<div>\n",
       "<style scoped>\n",
       "    .dataframe tbody tr th:only-of-type {\n",
       "        vertical-align: middle;\n",
       "    }\n",
       "\n",
       "    .dataframe tbody tr th {\n",
       "        vertical-align: top;\n",
       "    }\n",
       "\n",
       "    .dataframe thead th {\n",
       "        text-align: right;\n",
       "    }\n",
       "</style>\n",
       "<table border=\"1\" class=\"dataframe\">\n",
       "  <thead>\n",
       "    <tr style=\"text-align: right;\">\n",
       "      <th></th>\n",
       "      <th>ticker</th>\n",
       "      <th>id</th>\n",
       "      <th>polarity1</th>\n",
       "      <th>subjectivity1</th>\n",
       "      <th>polarity2</th>\n",
       "      <th>subjectivity2</th>\n",
       "      <th>change</th>\n",
       "    </tr>\n",
       "  </thead>\n",
       "  <tbody>\n",
       "    <tr>\n",
       "      <th>0</th>\n",
       "      <td>A</td>\n",
       "      <td>1.510000e+18</td>\n",
       "      <td>0.137614</td>\n",
       "      <td>0.277176</td>\n",
       "      <td>0.132364</td>\n",
       "      <td>0.272676</td>\n",
       "      <td>-0.016241</td>\n",
       "    </tr>\n",
       "    <tr>\n",
       "      <th>1</th>\n",
       "      <td>AAL</td>\n",
       "      <td>1.510000e+18</td>\n",
       "      <td>0.092037</td>\n",
       "      <td>0.243148</td>\n",
       "      <td>0.055926</td>\n",
       "      <td>0.273704</td>\n",
       "      <td>-0.011634</td>\n",
       "    </tr>\n",
       "    <tr>\n",
       "      <th>2</th>\n",
       "      <td>AAP</td>\n",
       "      <td>1.510000e+18</td>\n",
       "      <td>0.106667</td>\n",
       "      <td>0.526667</td>\n",
       "      <td>0.106667</td>\n",
       "      <td>0.526667</td>\n",
       "      <td>-0.000425</td>\n",
       "    </tr>\n",
       "    <tr>\n",
       "      <th>3</th>\n",
       "      <td>AAPL</td>\n",
       "      <td>1.510000e+18</td>\n",
       "      <td>0.115024</td>\n",
       "      <td>0.333631</td>\n",
       "      <td>0.110274</td>\n",
       "      <td>0.360131</td>\n",
       "      <td>-0.015244</td>\n",
       "    </tr>\n",
       "    <tr>\n",
       "      <th>4</th>\n",
       "      <td>ABBV</td>\n",
       "      <td>1.510000e+18</td>\n",
       "      <td>0.287140</td>\n",
       "      <td>0.296502</td>\n",
       "      <td>0.287140</td>\n",
       "      <td>0.285391</td>\n",
       "      <td>-0.001954</td>\n",
       "    </tr>\n",
       "    <tr>\n",
       "      <th>...</th>\n",
       "      <td>...</td>\n",
       "      <td>...</td>\n",
       "      <td>...</td>\n",
       "      <td>...</td>\n",
       "      <td>...</td>\n",
       "      <td>...</td>\n",
       "      <td>...</td>\n",
       "    </tr>\n",
       "    <tr>\n",
       "      <th>369</th>\n",
       "      <td>YUM</td>\n",
       "      <td>1.510000e+18</td>\n",
       "      <td>0.000000</td>\n",
       "      <td>0.000000</td>\n",
       "      <td>0.000000</td>\n",
       "      <td>0.000000</td>\n",
       "      <td>0.000759</td>\n",
       "    </tr>\n",
       "    <tr>\n",
       "      <th>370</th>\n",
       "      <td>ZBH</td>\n",
       "      <td>1.510000e+18</td>\n",
       "      <td>0.000000</td>\n",
       "      <td>0.000000</td>\n",
       "      <td>0.000000</td>\n",
       "      <td>0.000000</td>\n",
       "      <td>-0.000391</td>\n",
       "    </tr>\n",
       "    <tr>\n",
       "      <th>371</th>\n",
       "      <td>ZBRA</td>\n",
       "      <td>1.510000e+18</td>\n",
       "      <td>0.000000</td>\n",
       "      <td>0.000000</td>\n",
       "      <td>0.000000</td>\n",
       "      <td>0.000000</td>\n",
       "      <td>0.022238</td>\n",
       "    </tr>\n",
       "    <tr>\n",
       "      <th>372</th>\n",
       "      <td>ZION</td>\n",
       "      <td>1.510000e+18</td>\n",
       "      <td>0.000000</td>\n",
       "      <td>0.000000</td>\n",
       "      <td>0.000000</td>\n",
       "      <td>0.000000</td>\n",
       "      <td>-0.028829</td>\n",
       "    </tr>\n",
       "    <tr>\n",
       "      <th>373</th>\n",
       "      <td>ZTS</td>\n",
       "      <td>1.510000e+18</td>\n",
       "      <td>0.133333</td>\n",
       "      <td>0.222222</td>\n",
       "      <td>0.108333</td>\n",
       "      <td>0.222222</td>\n",
       "      <td>0.014794</td>\n",
       "    </tr>\n",
       "  </tbody>\n",
       "</table>\n",
       "<p>374 rows × 7 columns</p>\n",
       "</div>"
      ],
      "text/plain": [
       "    ticker            id  polarity1  subjectivity1  polarity2  subjectivity2  \\\n",
       "0        A  1.510000e+18   0.137614       0.277176   0.132364       0.272676   \n",
       "1      AAL  1.510000e+18   0.092037       0.243148   0.055926       0.273704   \n",
       "2      AAP  1.510000e+18   0.106667       0.526667   0.106667       0.526667   \n",
       "3     AAPL  1.510000e+18   0.115024       0.333631   0.110274       0.360131   \n",
       "4     ABBV  1.510000e+18   0.287140       0.296502   0.287140       0.285391   \n",
       "..     ...           ...        ...            ...        ...            ...   \n",
       "369    YUM  1.510000e+18   0.000000       0.000000   0.000000       0.000000   \n",
       "370    ZBH  1.510000e+18   0.000000       0.000000   0.000000       0.000000   \n",
       "371   ZBRA  1.510000e+18   0.000000       0.000000   0.000000       0.000000   \n",
       "372   ZION  1.510000e+18   0.000000       0.000000   0.000000       0.000000   \n",
       "373    ZTS  1.510000e+18   0.133333       0.222222   0.108333       0.222222   \n",
       "\n",
       "       change  \n",
       "0   -0.016241  \n",
       "1   -0.011634  \n",
       "2   -0.000425  \n",
       "3   -0.015244  \n",
       "4   -0.001954  \n",
       "..        ...  \n",
       "369  0.000759  \n",
       "370 -0.000391  \n",
       "371  0.022238  \n",
       "372 -0.028829  \n",
       "373  0.014794  \n",
       "\n",
       "[374 rows x 7 columns]"
      ]
     },
     "execution_count": 6,
     "metadata": {},
     "output_type": "execute_result"
    }
   ],
   "source": [
    "tweet_agg = tweet_data.groupby(['ticker'],as_index=False).mean()\n",
    "pd_data = tweet_agg.merge(returns_data)\n",
    "pd_data"
   ]
  },
  {
   "cell_type": "code",
   "execution_count": 7,
   "metadata": {},
   "outputs": [
    {
     "name": "stderr",
     "output_type": "stream",
     "text": [
      "<ipython-input-7-6b05766f9d27>:2: FutureWarning: Dropping of nuisance columns in DataFrame reductions (with 'numeric_only=None') is deprecated; in a future version this will raise TypeError.  Select only valid columns before calling the reduction.\n",
      "  pd_data.mean()\n"
     ]
    },
    {
     "data": {
      "text/plain": [
       "id               1.510000e+18\n",
       "polarity1        1.165467e-01\n",
       "subjectivity1    2.577170e-01\n",
       "polarity2        1.101422e-01\n",
       "subjectivity2    2.584687e-01\n",
       "change          -1.550989e-02\n",
       "dtype: float64"
      ]
     },
     "execution_count": 7,
     "metadata": {},
     "output_type": "execute_result"
    }
   ],
   "source": [
    "pos_data = pd_data[pd_data['polarity2'] != 0]\n",
    "pd_data.mean()"
   ]
  },
  {
   "cell_type": "code",
   "execution_count": 8,
   "metadata": {},
   "outputs": [],
   "source": [
    "def get_sent(row):\n",
    "    if row[4] > 0:\n",
    "        val = 'positive'\n",
    "    elif row[4] < 0:\n",
    "        val = 'negative'\n",
    "    else:\n",
    "        val = 'neutral'\n",
    "    return val"
   ]
  },
  {
   "cell_type": "code",
   "execution_count": 9,
   "metadata": {},
   "outputs": [
    {
     "data": {
      "text/html": [
       "<div>\n",
       "<style scoped>\n",
       "    .dataframe tbody tr th:only-of-type {\n",
       "        vertical-align: middle;\n",
       "    }\n",
       "\n",
       "    .dataframe tbody tr th {\n",
       "        vertical-align: top;\n",
       "    }\n",
       "\n",
       "    .dataframe thead th {\n",
       "        text-align: right;\n",
       "    }\n",
       "</style>\n",
       "<table border=\"1\" class=\"dataframe\">\n",
       "  <thead>\n",
       "    <tr style=\"text-align: right;\">\n",
       "      <th></th>\n",
       "      <th>id</th>\n",
       "      <th>polarity1</th>\n",
       "      <th>subjectivity1</th>\n",
       "      <th>polarity2</th>\n",
       "      <th>subjectivity2</th>\n",
       "      <th>change</th>\n",
       "    </tr>\n",
       "    <tr>\n",
       "      <th>sentiment</th>\n",
       "      <th></th>\n",
       "      <th></th>\n",
       "      <th></th>\n",
       "      <th></th>\n",
       "      <th></th>\n",
       "      <th></th>\n",
       "    </tr>\n",
       "  </thead>\n",
       "  <tbody>\n",
       "    <tr>\n",
       "      <th>negative</th>\n",
       "      <td>1.510000e+18</td>\n",
       "      <td>-0.062723</td>\n",
       "      <td>0.225447</td>\n",
       "      <td>-0.071956</td>\n",
       "      <td>0.223206</td>\n",
       "      <td>-0.020941</td>\n",
       "    </tr>\n",
       "    <tr>\n",
       "      <th>neutral</th>\n",
       "      <td>1.510000e+18</td>\n",
       "      <td>0.000410</td>\n",
       "      <td>0.061013</td>\n",
       "      <td>0.000000</td>\n",
       "      <td>0.061013</td>\n",
       "      <td>-0.011511</td>\n",
       "    </tr>\n",
       "    <tr>\n",
       "      <th>positive</th>\n",
       "      <td>1.510000e+18</td>\n",
       "      <td>0.174855</td>\n",
       "      <td>0.308528</td>\n",
       "      <td>0.167576</td>\n",
       "      <td>0.309981</td>\n",
       "      <td>-0.015467</td>\n",
       "    </tr>\n",
       "  </tbody>\n",
       "</table>\n",
       "</div>"
      ],
      "text/plain": [
       "                     id  polarity1  subjectivity1  polarity2  subjectivity2  \\\n",
       "sentiment                                                                     \n",
       "negative   1.510000e+18  -0.062723       0.225447  -0.071956       0.223206   \n",
       "neutral    1.510000e+18   0.000410       0.061013   0.000000       0.061013   \n",
       "positive   1.510000e+18   0.174855       0.308528   0.167576       0.309981   \n",
       "\n",
       "             change  \n",
       "sentiment            \n",
       "negative  -0.020941  \n",
       "neutral   -0.011511  \n",
       "positive  -0.015467  "
      ]
     },
     "execution_count": 9,
     "metadata": {},
     "output_type": "execute_result"
    }
   ],
   "source": [
    "pd_data['sentiment'] = pd_data.apply(get_sent, axis=1)\n",
    "pd_data.groupby(['sentiment']).mean()"
   ]
  },
  {
   "cell_type": "code",
   "execution_count": 10,
   "metadata": {},
   "outputs": [
    {
     "data": {
      "image/png": "[encoded data removed]",
      "text/plain": [
       "<Figure size 432x288 with 1 Axes>"
      ]
     },
     "metadata": {
      "needs_background": "light"
     },
     "output_type": "display_data"
    }
   ],
   "source": [
    "counts = pd_data['sentiment'].value_counts()\n",
    "counts.plot(kind='bar',rot=360)\n",
    "plt.grid()"
   ]
  },
  {
   "cell_type": "code",
   "execution_count": 11,
   "metadata": {},
   "outputs": [
    {
     "data": {
      "text/plain": [
       "47"
      ]
     },
     "execution_count": 11,
     "metadata": {},
     "output_type": "execute_result"
    }
   ],
   "source": [
    "counts[2]"
   ]
  },
  {
   "cell_type": "markdown",
   "metadata": {},
   "source": [
    "# Top 20 results\n"
   ]
  },
  {
   "cell_type": "code",
   "execution_count": 12,
   "metadata": {},
   "outputs": [
    {
     "name": "stdout",
     "output_type": "stream",
     "text": [
      "                     id  polarity1  subjectivity1  polarity2  subjectivity2  \\\n",
      "sentiment                                                                     \n",
      "positive   1.510000e+18   0.656435       0.376907    0.65334       0.372859   \n",
      "\n",
      "             change  \n",
      "sentiment            \n",
      "positive  -0.014029  \n",
      "                     id  polarity1  subjectivity1  polarity2  subjectivity2  \\\n",
      "sentiment                                                                     \n",
      "negative   1.510000e+18  -0.178519        0.24463  -0.178519        0.24463   \n",
      "\n",
      "            change  \n",
      "sentiment           \n",
      "negative  -0.01579  \n"
     ]
    }
   ],
   "source": [
    "neg_data = pd_data.sort_values('polarity2').head(10)\n",
    "pos_data = pd_data.sort_values('polarity2').tail(10)\n",
    "print(pos_data.groupby(['sentiment']).mean())\n",
    "print(neg_data.groupby(['sentiment']).mean())"
   ]
  },
  {
   "cell_type": "code",
   "execution_count": null,
   "metadata": {},
   "outputs": [],
   "source": []
  },
  {
   "cell_type": "markdown",
   "metadata": {},
   "source": [
    "# Splitting Data"
   ]
  },
  {
   "cell_type": "code",
   "execution_count": 13,
   "metadata": {},
   "outputs": [],
   "source": [
    "target = pd_data['change']\n",
    "features = pd_data[['polarity2','subjectivity2']]"
   ]
  },
  {
   "cell_type": "code",
   "execution_count": 14,
   "metadata": {},
   "outputs": [
    {
     "data": {
      "text/plain": [
       "array([[<AxesSubplot:title={'center':'polarity2'}>,\n",
       "        <AxesSubplot:title={'center':'subjectivity2'}>]], dtype=object)"
      ]
     },
     "execution_count": 14,
     "metadata": {},
     "output_type": "execute_result"
    },
    {
     "data": {
      "image/png": "[encoded data removed]",
      "text/plain": [
       "<Figure size 432x288 with 2 Axes>"
      ]
     },
     "metadata": {
      "needs_background": "light"
     },
     "output_type": "display_data"
    }
   ],
   "source": [
    "features.hist()"
   ]
  },
  {
   "cell_type": "code",
   "execution_count": 15,
   "metadata": {},
   "outputs": [
    {
     "data": {
      "text/plain": [
       "<AxesSubplot:>"
      ]
     },
     "execution_count": 15,
     "metadata": {},
     "output_type": "execute_result"
    },
    {
     "data": {
      "image/png": "[encoded data removed]",
      "text/plain": [
       "<Figure size 432x288 with 1 Axes>"
      ]
     },
     "metadata": {
      "needs_background": "light"
     },
     "output_type": "display_data"
    }
   ],
   "source": [
    "target.hist()"
   ]
  },
  {
   "cell_type": "code",
   "execution_count": 16,
   "metadata": {},
   "outputs": [],
   "source": [
    "X_train, X_test, y_train, y_test = train_test_split(features, target, random_state = 0, test_size = 0.2)"
   ]
  },
  {
   "cell_type": "markdown",
   "metadata": {},
   "source": [
    "# LinearRegressor"
   ]
  },
  {
   "cell_type": "code",
   "execution_count": 17,
   "metadata": {},
   "outputs": [
    {
     "name": "stdout",
     "output_type": "stream",
     "text": [
      "\n",
      "The model performance for training set\n",
      "--------------------------------------\n",
      "MSE is 0.0009550571763899632\n",
      "RMSE is 0.030903999359143845\n",
      "R2 is -0.002849509995327848\n",
      "\n",
      "\n",
      "\n",
      "The model performance for training set\n",
      "--------------------------------------\n",
      "MSE is 0.0013725925083551357\n",
      "RMSE is 0.03704851560258705\n",
      "R2 is -0.017075084915006755\n",
      "\n",
      "\n"
     ]
    }
   ],
   "source": [
    "lr = LinearRegression()\n",
    "lr = lr.fit(X_train, y_train)\n",
    "\n",
    "prediction = lr.predict(X_test)\n",
    "\n",
    "mse = mean_squared_error(y_test, prediction)\n",
    "r2 = r2_score(y_test, prediction)\n",
    "\n",
    "print(\"\\nThe model performance for training set\")\n",
    "print(\"--------------------------------------\")\n",
    "print('MSE is {}'.format(mse))\n",
    "print('RMSE is {}'.format(np.sqrt(mse)))\n",
    "print('R2 is {}'.format(r2))\n",
    "\n",
    "print(\"\\n\")\n",
    "\n",
    "y_pred = cross_val_predict(LinearRegression(), features, target, cv=5)\n",
    "mse = mean_squared_error(target, y_pred)\n",
    "r2 = r2_score(target, y_pred)\n",
    "\n",
    "print(\"\\nThe model performance for training set\")\n",
    "print(\"--------------------------------------\")\n",
    "print('MSE is {}'.format(mse))\n",
    "print('RMSE is {}'.format(np.sqrt(mse)))\n",
    "print('R2 is {}'.format(r2))\n",
    "\n",
    "print(\"\\n\")"
   ]
  },
  {
   "cell_type": "code",
   "execution_count": 18,
   "metadata": {},
   "outputs": [],
   "source": [
    "def get_predictions(actual, predict):\n",
    "    over = 0\n",
    "    over_num = 0\n",
    "    under = 0\n",
    "    under_num = 0\n",
    "    correct = 0\n",
    "    for i in range(len(actual)):\n",
    "        if actual[i] > predict[i]:\n",
    "            under += 1\n",
    "            under_num += abs(actual[i] - predict[i])\n",
    "        elif actual[i] < predict[i]:\n",
    "            over += 1\n",
    "            over_num += abs(actual[i] - predict[i])\n",
    "        else:\n",
    "            correct += 1\n",
    "    over_avg = over_num / over\n",
    "    under_avg = under_num / under\n",
    "    return (over, over_num, over_avg, under, under_num, under_avg, correct)"
   ]
  },
  {
   "cell_type": "code",
   "execution_count": 19,
   "metadata": {},
   "outputs": [],
   "source": [
    "def over_under(actual, pred):\n",
    "    right_neg = 0\n",
    "    wrong_neg = 0\n",
    "    right_pos = 0\n",
    "    wrong_pos = 0\n",
    "    for i in range(len(actual)):\n",
    "        if pred[i] < 0 and actual[i] < 0:\n",
    "            right_neg += 1\n",
    "        elif pred[i] < 0 and actual[i] > 0:\n",
    "            wrong_neg += 1\n",
    "        elif pred[i] > 0 and actual[i] > 0:\n",
    "            right_pos += 1\n",
    "        else:\n",
    "            wrong_pos += 1\n",
    "            \n",
    "    return (right_neg, wrong_neg, right_pos, wrong_pos)"
   ]
  },
  {
   "cell_type": "code",
   "execution_count": 20,
   "metadata": {},
   "outputs": [
    {
     "data": {
      "text/plain": [
       "0.03678541749955388"
      ]
     },
     "execution_count": 20,
     "metadata": {},
     "output_type": "execute_result"
    }
   ],
   "source": [
    "std_target = target.std()\n",
    "std_target"
   ]
  },
  {
   "cell_type": "code",
   "execution_count": 21,
   "metadata": {},
   "outputs": [
    {
     "name": "stdout",
     "output_type": "stream",
     "text": [
      "75\n",
      "75\n"
     ]
    }
   ],
   "source": [
    "print(len(prediction))\n",
    "y_test_list = list(y_test)\n",
    "print(len(y_test_list))"
   ]
  },
  {
   "cell_type": "code",
   "execution_count": 22,
   "metadata": {},
   "outputs": [
    {
     "name": "stdout",
     "output_type": "stream",
     "text": [
      "35\n",
      "0.9733911688805894\n",
      "0.027811176253731126\n",
      "40\n",
      "0.8217639891344772\n",
      "0.02054409972836193\n",
      "0\n"
     ]
    }
   ],
   "source": [
    "preds = get_predictions(y_test_list, prediction)\n",
    "for pred in preds:\n",
    "    print(pred)"
   ]
  },
  {
   "cell_type": "code",
   "execution_count": 23,
   "metadata": {},
   "outputs": [
    {
     "name": "stdout",
     "output_type": "stream",
     "text": [
      "374\n",
      "374\n"
     ]
    }
   ],
   "source": [
    "print(len(y_pred))\n",
    "y_test_list = list(target)\n",
    "print(len(y_test_list))"
   ]
  },
  {
   "cell_type": "code",
   "execution_count": 24,
   "metadata": {},
   "outputs": [
    {
     "name": "stdout",
     "output_type": "stream",
     "text": [
      "172\n",
      "4.83240294037709\n",
      "0.028095365932424943\n",
      "202\n",
      "4.833564296513479\n",
      "0.023928536121353854\n",
      "0\n"
     ]
    }
   ],
   "source": [
    "preds = get_predictions(y_test_list, y_pred)\n",
    "for pred in preds:\n",
    "    print(pred)"
   ]
  },
  {
   "cell_type": "code",
   "execution_count": 25,
   "metadata": {},
   "outputs": [
    {
     "name": "stdout",
     "output_type": "stream",
     "text": [
      "right negative: 265\n",
      "wrong negative: 109\n",
      "right positive: 0\n",
      "wrong positive: 0\n"
     ]
    }
   ],
   "source": [
    "outcomes = over_under(y_test_list, y_pred)\n",
    "print('right negative:', outcomes[0])\n",
    "print('wrong negative:', outcomes[1])\n",
    "print('right positive:', outcomes[2])\n",
    "print('wrong positive:', outcomes[3])"
   ]
  },
  {
   "cell_type": "markdown",
   "metadata": {},
   "source": [
    "# KNRegression"
   ]
  },
  {
   "cell_type": "code",
   "execution_count": 26,
   "metadata": {},
   "outputs": [
    {
     "name": "stdout",
     "output_type": "stream",
     "text": [
      "0.030903999359143845\n",
      "{'n_neighbors': 50}\n",
      "-0.07396934184623076\n"
     ]
    }
   ],
   "source": [
    "# KNN Regression\n",
    "knn = KNeighborsRegressor()\n",
    "neighbors = list(range(1,51))\n",
    "\n",
    "param_grid = dict(n_neighbors = neighbors)\n",
    "knn_grid = GridSearchCV(knn, param_grid, cv=10)\n",
    "\n",
    "knn_grid.fit(features, target)\n",
    "y_pred = list(knn_grid.predict(features))\n",
    "knn_grid.score(features, target) \n",
    "knn_grid.best_params_\n",
    "mse = mean_squared_error(y_test, prediction)\n",
    "print(np.sqrt(mse))\n",
    "print(knn_grid.best_params_) \n",
    "print(knn_grid.best_score_)"
   ]
  },
  {
   "cell_type": "code",
   "execution_count": 27,
   "metadata": {},
   "outputs": [
    {
     "data": {
      "text/plain": [
       "Text(0, 0.5, 'Mean Squared Error')"
      ]
     },
     "execution_count": 27,
     "metadata": {},
     "output_type": "execute_result"
    },
    {
     "data": {
      "image/png": "[encoded data removed]",
      "text/plain": [
       "<Figure size 432x288 with 1 Axes>"
      ]
     },
     "metadata": {
      "needs_background": "light"
     },
     "output_type": "display_data"
    }
   ],
   "source": [
    "# Graphing the MSE for each hyperparameter\n",
    "error = []\n",
    "for k in range(1,51):\n",
    "    knn = KNeighborsRegressor(n_neighbors=k)\n",
    "    y_pred = cross_val_predict(knn, features, target, cv=5)\n",
    "    error.append(mean_squared_error(target,y_pred))\n",
    "plt.plot(range(1,51),error)\n",
    "plt.xlabel('K nearest neighbors')\n",
    "plt.ylabel('Mean Squared Error')"
   ]
  },
  {
   "cell_type": "markdown",
   "metadata": {},
   "source": [
    "# Random Forest"
   ]
  },
  {
   "cell_type": "code",
   "execution_count": 28,
   "metadata": {},
   "outputs": [
    {
     "data": {
      "text/plain": [
       "array([-0.02507161, -0.04637457, -0.01215969, -0.05361161, -0.02120042,\n",
       "       -0.038589  , -0.00443631, -0.01353022, -0.06175748, -0.00735482,\n",
       "       -0.05933296, -0.02235618, -0.03073456, -0.01912132,  0.07244117,\n",
       "       -0.00447037, -0.02777544, -0.02880421, -0.01444491, -0.0105717 ,\n",
       "       -0.01444491, -0.02043257, -0.01444491, -0.0201811 , -0.01492184,\n",
       "       -0.04258818, -0.00443631, -0.02903163, -0.02454333, -0.02159666,\n",
       "       -0.01235705, -0.01215969, -0.01444491, -0.00731175, -0.02043257,\n",
       "       -0.05361161, -0.0109865 , -0.0385485 , -0.01030003, -0.01215969,\n",
       "       -0.01999998, -0.02186017,  0.01340174, -0.01453252, -0.00016324,\n",
       "       -0.00445784, -0.01444491, -0.01215969, -0.01215969, -0.02264002,\n",
       "        0.00987365, -0.050776  , -0.02128469, -0.00621711, -0.03484381,\n",
       "       -0.02043257, -0.01215969, -0.01215969, -0.02599254, -0.02845664,\n",
       "       -0.02120042, -0.01022984, -0.02486192, -0.01215969, -0.01832369,\n",
       "       -0.01541342,  0.01082461, -0.01215969,  0.00625053, -0.00189972,\n",
       "        0.00344598, -0.02363516, -0.00878631, -0.01017682, -0.01215969])"
      ]
     },
     "execution_count": 28,
     "metadata": {},
     "output_type": "execute_result"
    }
   ],
   "source": [
    "from sklearn.ensemble import RandomForestRegressor\n",
    "rf = RandomForestRegressor(n_estimators = 100)\n",
    "rf.fit(X_train, y_train)\n",
    "y_pred = rf.predict(X_test)\n",
    "y_pred"
   ]
  },
  {
   "cell_type": "code",
   "execution_count": 29,
   "metadata": {},
   "outputs": [
    {
     "data": {
      "text/plain": [
       "0.03555347899827329"
      ]
     },
     "execution_count": 29,
     "metadata": {},
     "output_type": "execute_result"
    }
   ],
   "source": [
    "mean_squared_error(y_test, y_pred)\n",
    "np.sqrt(mean_squared_error(y_test, y_pred))"
   ]
  },
  {
   "cell_type": "code",
   "execution_count": 30,
   "metadata": {},
   "outputs": [
    {
     "data": {
      "text/plain": [
       "-0.32730460851385534"
      ]
     },
     "execution_count": 30,
     "metadata": {},
     "output_type": "execute_result"
    }
   ],
   "source": [
    "r2 = r2_score(y_test, y_pred)\n",
    "r2"
   ]
  },
  {
   "cell_type": "code",
   "execution_count": 31,
   "metadata": {},
   "outputs": [
    {
     "name": "stdout",
     "output_type": "stream",
     "text": [
      "{'n_estimators': 100}\n",
      "-0.0016124400684004903\n"
     ]
    }
   ],
   "source": [
    "RF = RandomForestRegressor(random_state = 0)\n",
    "search_grid = {'n_estimators': [50 ,100, 150, 200]}\n",
    "search = GridSearchCV(estimator = RF, param_grid = search_grid, scoring = 'neg_mean_squared_error')\n",
    "search.fit(X_train, y_train)\n",
    "print(search.best_params_) \n",
    "print(search.best_score_)"
   ]
  },
  {
   "cell_type": "code",
   "execution_count": null,
   "metadata": {},
   "outputs": [],
   "source": []
  },
  {
   "cell_type": "code",
   "execution_count": null,
   "metadata": {},
   "outputs": [],
   "source": []
  }
 ],
 "metadata": {
  "kernelspec": {
   "display_name": "Python 3",
   "language": "python",
   "name": "python3"
  },
  "language_info": {
   "codemirror_mode": {
    "name": "ipython",
    "version": 3
   },
   "file_extension": ".py",
   "mimetype": "text/x-python",
   "name": "python",
   "nbconvert_exporter": "python",
   "pygments_lexer": "ipython3",
   "version": "3.8.5"
  }
 },
 "nbformat": 4,
 "nbformat_minor": 4
}
